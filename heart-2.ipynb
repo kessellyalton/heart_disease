{
 "cells": [
  {
   "cell_type": "markdown",
   "id": "6bb784d0-1e31-46e2-82c9-76ae7d7f047f",
   "metadata": {},
   "source": [
    "# Developing an AI-driven Model for Heart Prediction\n",
    "\n",
    "The dataset to be used for this work comes from the Github repository [Heart Disease Data on GitHub](https://github.com/abdelDebug/Heart-Disease-Data)."
   ]
  },
  {
   "cell_type": "markdown",
   "id": "01c7dc99-f53a-4251-bfa6-0e8a87710d0b",
   "metadata": {},
   "source": [
    "## Step 1: Install all needed packages\n",
    "\n",
    "With hindsight, We will always come back here to install libraries and packages that are needed "
   ]
  },
  {
   "cell_type": "code",
   "execution_count": 2,
   "id": "4b54793a-bfa9-420d-a1eb-50f327354b00",
   "metadata": {},
   "outputs": [
    {
     "name": "stdout",
     "output_type": "stream",
     "text": [
      "Requirement already satisfied: tensorflow in c:\\users\\kesse\\anaconda3\\lib\\site-packages (2.18.0)\n",
      "Requirement already satisfied: xgboost in c:\\users\\kesse\\anaconda3\\lib\\site-packages (2.1.3)\n",
      "Requirement already satisfied: lightgbm in c:\\users\\kesse\\anaconda3\\lib\\site-packages (4.5.0)\n",
      "Requirement already satisfied: catboost in c:\\users\\kesse\\anaconda3\\lib\\site-packages (1.2.7)\n",
      "Requirement already satisfied: keras-tuner in c:\\users\\kesse\\anaconda3\\lib\\site-packages (1.4.7)\n",
      "Requirement already satisfied: optuna in c:\\users\\kesse\\anaconda3\\lib\\site-packages (4.2.0)\n",
      "Requirement already satisfied: scikeras in c:\\users\\kesse\\anaconda3\\lib\\site-packages (0.13.0)\n",
      "Requirement already satisfied: tensorflow-intel==2.18.0 in c:\\users\\kesse\\anaconda3\\lib\\site-packages (from tensorflow) (2.18.0)\n",
      "Requirement already satisfied: absl-py>=1.0.0 in c:\\users\\kesse\\anaconda3\\lib\\site-packages (from tensorflow-intel==2.18.0->tensorflow) (2.1.0)\n",
      "Requirement already satisfied: astunparse>=1.6.0 in c:\\users\\kesse\\anaconda3\\lib\\site-packages (from tensorflow-intel==2.18.0->tensorflow) (1.6.3)\n",
      "Requirement already satisfied: flatbuffers>=24.3.25 in c:\\users\\kesse\\anaconda3\\lib\\site-packages (from tensorflow-intel==2.18.0->tensorflow) (24.12.23)\n",
      "Requirement already satisfied: gast!=0.5.0,!=0.5.1,!=0.5.2,>=0.2.1 in c:\\users\\kesse\\anaconda3\\lib\\site-packages (from tensorflow-intel==2.18.0->tensorflow) (0.6.0)\n",
      "Requirement already satisfied: google-pasta>=0.1.1 in c:\\users\\kesse\\anaconda3\\lib\\site-packages (from tensorflow-intel==2.18.0->tensorflow) (0.2.0)\n",
      "Requirement already satisfied: libclang>=13.0.0 in c:\\users\\kesse\\anaconda3\\lib\\site-packages (from tensorflow-intel==2.18.0->tensorflow) (18.1.1)\n",
      "Requirement already satisfied: opt-einsum>=2.3.2 in c:\\users\\kesse\\anaconda3\\lib\\site-packages (from tensorflow-intel==2.18.0->tensorflow) (3.4.0)\n",
      "Requirement already satisfied: packaging in c:\\users\\kesse\\anaconda3\\lib\\site-packages (from tensorflow-intel==2.18.0->tensorflow) (24.2)\n",
      "Requirement already satisfied: protobuf!=4.21.0,!=4.21.1,!=4.21.2,!=4.21.3,!=4.21.4,!=4.21.5,<6.0.0dev,>=3.20.3 in c:\\users\\kesse\\anaconda3\\lib\\site-packages (from tensorflow-intel==2.18.0->tensorflow) (4.25.3)\n",
      "Requirement already satisfied: requests<3,>=2.21.0 in c:\\users\\kesse\\anaconda3\\lib\\site-packages (from tensorflow-intel==2.18.0->tensorflow) (2.32.3)\n",
      "Requirement already satisfied: setuptools in c:\\users\\kesse\\anaconda3\\lib\\site-packages (from tensorflow-intel==2.18.0->tensorflow) (75.1.0)\n",
      "Requirement already satisfied: six>=1.12.0 in c:\\users\\kesse\\anaconda3\\lib\\site-packages (from tensorflow-intel==2.18.0->tensorflow) (1.16.0)\n",
      "Requirement already satisfied: termcolor>=1.1.0 in c:\\users\\kesse\\anaconda3\\lib\\site-packages (from tensorflow-intel==2.18.0->tensorflow) (2.5.0)\n",
      "Requirement already satisfied: typing-extensions>=3.6.6 in c:\\users\\kesse\\anaconda3\\lib\\site-packages (from tensorflow-intel==2.18.0->tensorflow) (4.12.2)\n",
      "Requirement already satisfied: wrapt>=1.11.0 in c:\\users\\kesse\\anaconda3\\lib\\site-packages (from tensorflow-intel==2.18.0->tensorflow) (1.14.1)\n",
      "Requirement already satisfied: grpcio<2.0,>=1.24.3 in c:\\users\\kesse\\anaconda3\\lib\\site-packages (from tensorflow-intel==2.18.0->tensorflow) (1.69.0)\n",
      "Requirement already satisfied: tensorboard<2.19,>=2.18 in c:\\users\\kesse\\anaconda3\\lib\\site-packages (from tensorflow-intel==2.18.0->tensorflow) (2.18.0)\n",
      "Requirement already satisfied: keras>=3.5.0 in c:\\users\\kesse\\anaconda3\\lib\\site-packages (from tensorflow-intel==2.18.0->tensorflow) (3.7.0)\n",
      "Requirement already satisfied: numpy<2.1.0,>=1.26.0 in c:\\users\\kesse\\anaconda3\\lib\\site-packages (from tensorflow-intel==2.18.0->tensorflow) (1.26.4)\n",
      "Requirement already satisfied: h5py>=3.11.0 in c:\\users\\kesse\\anaconda3\\lib\\site-packages (from tensorflow-intel==2.18.0->tensorflow) (3.12.1)\n",
      "Requirement already satisfied: ml-dtypes<0.5.0,>=0.4.0 in c:\\users\\kesse\\anaconda3\\lib\\site-packages (from tensorflow-intel==2.18.0->tensorflow) (0.4.1)\n",
      "Requirement already satisfied: scipy in c:\\users\\kesse\\anaconda3\\lib\\site-packages (from xgboost) (1.13.1)\n",
      "Requirement already satisfied: graphviz in c:\\users\\kesse\\anaconda3\\lib\\site-packages (from catboost) (0.20.3)\n",
      "Requirement already satisfied: matplotlib in c:\\users\\kesse\\anaconda3\\lib\\site-packages (from catboost) (3.9.2)\n",
      "Requirement already satisfied: pandas>=0.24 in c:\\users\\kesse\\anaconda3\\lib\\site-packages (from catboost) (2.2.3)\n",
      "Requirement already satisfied: plotly in c:\\users\\kesse\\anaconda3\\lib\\site-packages (from catboost) (5.24.1)\n",
      "Requirement already satisfied: kt-legacy in c:\\users\\kesse\\anaconda3\\lib\\site-packages (from keras-tuner) (1.0.5)\n",
      "Requirement already satisfied: alembic>=1.5.0 in c:\\users\\kesse\\anaconda3\\lib\\site-packages (from optuna) (1.14.1)\n",
      "Requirement already satisfied: colorlog in c:\\users\\kesse\\anaconda3\\lib\\site-packages (from optuna) (6.9.0)\n",
      "Requirement already satisfied: sqlalchemy>=1.4.2 in c:\\users\\kesse\\anaconda3\\lib\\site-packages (from optuna) (2.0.34)\n",
      "Requirement already satisfied: tqdm in c:\\users\\kesse\\anaconda3\\lib\\site-packages (from optuna) (4.66.5)\n",
      "Requirement already satisfied: PyYAML in c:\\users\\kesse\\anaconda3\\lib\\site-packages (from optuna) (6.0.2)\n",
      "Requirement already satisfied: scikit-learn>=1.4.2 in c:\\users\\kesse\\anaconda3\\lib\\site-packages (from scikeras) (1.5.2)\n",
      "Requirement already satisfied: Mako in c:\\users\\kesse\\anaconda3\\lib\\site-packages (from alembic>=1.5.0->optuna) (1.3.8)\n",
      "Requirement already satisfied: rich in c:\\users\\kesse\\anaconda3\\lib\\site-packages (from keras>=3.5.0->tensorflow-intel==2.18.0->tensorflow) (13.9.4)\n",
      "Requirement already satisfied: namex in c:\\users\\kesse\\anaconda3\\lib\\site-packages (from keras>=3.5.0->tensorflow-intel==2.18.0->tensorflow) (0.0.8)\n",
      "Requirement already satisfied: optree in c:\\users\\kesse\\anaconda3\\lib\\site-packages (from keras>=3.5.0->tensorflow-intel==2.18.0->tensorflow) (0.13.1)\n",
      "Requirement already satisfied: python-dateutil>=2.8.2 in c:\\users\\kesse\\anaconda3\\lib\\site-packages (from pandas>=0.24->catboost) (2.9.0.post0)\n",
      "Requirement already satisfied: pytz>=2020.1 in c:\\users\\kesse\\anaconda3\\lib\\site-packages (from pandas>=0.24->catboost) (2024.1)\n",
      "Requirement already satisfied: tzdata>=2022.7 in c:\\users\\kesse\\anaconda3\\lib\\site-packages (from pandas>=0.24->catboost) (2023.3)\n",
      "Requirement already satisfied: charset-normalizer<4,>=2 in c:\\users\\kesse\\anaconda3\\lib\\site-packages (from requests<3,>=2.21.0->tensorflow-intel==2.18.0->tensorflow) (3.3.2)\n",
      "Requirement already satisfied: idna<4,>=2.5 in c:\\users\\kesse\\anaconda3\\lib\\site-packages (from requests<3,>=2.21.0->tensorflow-intel==2.18.0->tensorflow) (3.7)\n",
      "Requirement already satisfied: urllib3<3,>=1.21.1 in c:\\users\\kesse\\anaconda3\\lib\\site-packages (from requests<3,>=2.21.0->tensorflow-intel==2.18.0->tensorflow) (2.2.3)\n",
      "Requirement already satisfied: certifi>=2017.4.17 in c:\\users\\kesse\\anaconda3\\lib\\site-packages (from requests<3,>=2.21.0->tensorflow-intel==2.18.0->tensorflow) (2024.12.14)\n",
      "Requirement already satisfied: joblib>=1.2.0 in c:\\users\\kesse\\anaconda3\\lib\\site-packages (from scikit-learn>=1.4.2->scikeras) (1.4.2)\n",
      "Requirement already satisfied: threadpoolctl>=3.1.0 in c:\\users\\kesse\\anaconda3\\lib\\site-packages (from scikit-learn>=1.4.2->scikeras) (3.5.0)\n",
      "Requirement already satisfied: greenlet!=0.4.17 in c:\\users\\kesse\\anaconda3\\lib\\site-packages (from sqlalchemy>=1.4.2->optuna) (3.1.1)\n",
      "Requirement already satisfied: colorama in c:\\users\\kesse\\anaconda3\\lib\\site-packages (from colorlog->optuna) (0.4.6)\n",
      "Requirement already satisfied: contourpy>=1.0.1 in c:\\users\\kesse\\anaconda3\\lib\\site-packages (from matplotlib->catboost) (1.3.1)\n",
      "Requirement already satisfied: cycler>=0.10 in c:\\users\\kesse\\anaconda3\\lib\\site-packages (from matplotlib->catboost) (0.11.0)\n",
      "Requirement already satisfied: fonttools>=4.22.0 in c:\\users\\kesse\\anaconda3\\lib\\site-packages (from matplotlib->catboost) (4.51.0)\n",
      "Requirement already satisfied: kiwisolver>=1.3.1 in c:\\users\\kesse\\anaconda3\\lib\\site-packages (from matplotlib->catboost) (1.4.4)\n",
      "Requirement already satisfied: pillow>=8 in c:\\users\\kesse\\anaconda3\\lib\\site-packages (from matplotlib->catboost) (11.0.0)\n",
      "Requirement already satisfied: pyparsing>=2.3.1 in c:\\users\\kesse\\anaconda3\\lib\\site-packages (from matplotlib->catboost) (3.2.0)\n",
      "Requirement already satisfied: tenacity>=6.2.0 in c:\\users\\kesse\\anaconda3\\lib\\site-packages (from plotly->catboost) (9.0.0)\n",
      "Requirement already satisfied: wheel<1.0,>=0.23.0 in c:\\users\\kesse\\anaconda3\\lib\\site-packages (from astunparse>=1.6.0->tensorflow-intel==2.18.0->tensorflow) (0.44.0)\n",
      "Requirement already satisfied: markdown>=2.6.8 in c:\\users\\kesse\\anaconda3\\lib\\site-packages (from tensorboard<2.19,>=2.18->tensorflow-intel==2.18.0->tensorflow) (3.4.1)\n",
      "Requirement already satisfied: tensorboard-data-server<0.8.0,>=0.7.0 in c:\\users\\kesse\\anaconda3\\lib\\site-packages (from tensorboard<2.19,>=2.18->tensorflow-intel==2.18.0->tensorflow) (0.7.2)\n",
      "Requirement already satisfied: werkzeug>=1.0.1 in c:\\users\\kesse\\anaconda3\\lib\\site-packages (from tensorboard<2.19,>=2.18->tensorflow-intel==2.18.0->tensorflow) (3.0.6)\n",
      "Requirement already satisfied: MarkupSafe>=0.9.2 in c:\\users\\kesse\\anaconda3\\lib\\site-packages (from Mako->alembic>=1.5.0->optuna) (2.1.3)\n",
      "Requirement already satisfied: markdown-it-py>=2.2.0 in c:\\users\\kesse\\anaconda3\\lib\\site-packages (from rich->keras>=3.5.0->tensorflow-intel==2.18.0->tensorflow) (2.2.0)\n",
      "Requirement already satisfied: pygments<3.0.0,>=2.13.0 in c:\\users\\kesse\\anaconda3\\lib\\site-packages (from rich->keras>=3.5.0->tensorflow-intel==2.18.0->tensorflow) (2.15.1)\n",
      "Requirement already satisfied: mdurl~=0.1 in c:\\users\\kesse\\anaconda3\\lib\\site-packages (from markdown-it-py>=2.2.0->rich->keras>=3.5.0->tensorflow-intel==2.18.0->tensorflow) (0.1.0)\n"
     ]
    }
   ],
   "source": [
    "!pip install tensorflow xgboost lightgbm catboost keras-tuner optuna scikeras"
   ]
  },
  {
   "cell_type": "markdown",
   "id": "9b3745c6-b6dc-4f3d-8437-ff156eec6f62",
   "metadata": {},
   "source": [
    "## Step 2: Import all the libraries \n",
    "With foresight and hindsight, all libraries and packages needed are imported."
   ]
  },
  {
   "cell_type": "code",
   "execution_count": 3,
   "id": "4658b4d1-693a-4bb7-ba14-dd4c57b3579f",
   "metadata": {},
   "outputs": [],
   "source": [
    "# Standard Library Imports\n",
    "import os\n",
    "import zipfile\n",
    "import warnings\n",
    "from io import BytesIO\n",
    "\n",
    "# Suppress warnings to avoid clutter\n",
    "warnings.simplefilter(action='ignore', category=FutureWarning)\n",
    "\n",
    "# Networking\n",
    "import requests\n",
    "\n",
    "# Display Utilities\n",
    "from IPython.display import display\n",
    "from joblib import dump\n",
    "\n",
    "# Data Handling and Visualization\n",
    "import numpy as np\n",
    "import pandas as pd\n",
    "import matplotlib.pyplot as plt\n",
    "import seaborn as sns\n",
    "\n",
    "# Machine Learning and Statistical Tools\n",
    "import optuna  # For hyperparameter tuning\n",
    "\n",
    "# Scikit-Learn Modules\n",
    "from sklearn.compose import ColumnTransformer\n",
    "from sklearn.ensemble import (\n",
    "    AdaBoostClassifier, RandomForestClassifier\n",
    ")\n",
    "from sklearn.feature_selection import SelectKBest, f_classif\n",
    "from sklearn.impute import SimpleImputer\n",
    "from sklearn.linear_model import LogisticRegression\n",
    "from sklearn.metrics import (\n",
    "    accuracy_score, classification_report, confusion_matrix,\n",
    "    roc_auc_score, roc_curve\n",
    ")\n",
    "from sklearn.model_selection import (\n",
    "    GridSearchCV, RandomizedSearchCV, StratifiedKFold,\n",
    "    cross_val_score, train_test_split\n",
    ")\n",
    "from sklearn.naive_bayes import GaussianNB\n",
    "from sklearn.neighbors import KNeighborsClassifier\n",
    "from sklearn.pipeline import Pipeline\n",
    "from sklearn.preprocessing import (\n",
    "    LabelEncoder, MinMaxScaler, OneHotEncoder, StandardScaler\n",
    ")\n",
    "from sklearn.svm import SVC\n",
    "from sklearn.tree import DecisionTreeClassifier\n",
    "\n",
    "# Gradient Boosting Libraries\n",
    "import lightgbm as lgb\n",
    "import xgboost as xgb\n",
    "from xgboost import XGBClassifier\n",
    "from catboost import CatBoostClassifier\n",
    "from lightgbm import (\n",
    "    LGBMClassifier, early_stopping, record_evaluation, log_evaluation\n",
    ")\n",
    "\n",
    "# TensorFlow and Keras Libraries\n",
    "import tensorflow as tf\n",
    "from tensorflow import keras\n",
    "from tensorflow.keras import layers\n",
    "from tensorflow.keras.layers import Dense, Dropout\n",
    "from tensorflow.keras.models import Sequential\n",
    "from tensorflow.keras.optimizers import Adam\n",
    "\n",
    "# Keras Wrapper for Scikit-Learn\n",
    "from scikeras.wrappers import KerasClassifier\n",
    "\n",
    "# Hyperparameter Tuning\n",
    "import keras_tuner as kt\n"
   ]
  },
  {
   "cell_type": "markdown",
   "id": "5a2dc3ce-e779-4eef-8789-2915a3a8a047",
   "metadata": {},
   "source": [
    "## Step 3: Obtaining the dataset\n",
    "\n",
    "Use the following to download and unzip the dataset to a particular location:"
   ]
  },
  {
   "cell_type": "code",
   "execution_count": 4,
   "id": "b5578c53-69f6-4e0f-8e7b-e7d02033ea31",
   "metadata": {},
   "outputs": [
    {
     "name": "stdout",
     "output_type": "stream",
     "text": [
      "Downloading dataset...\n",
      "Download successful!\n",
      "Files extracted to: C:\\Users\\kesse\\OneDrive\\Desktop\\ai-2\n"
     ]
    }
   ],
   "source": [
    "# GitHub repository ZIP URL\n",
    "repo_url = \"https://github.com/abdelDebug/Heart-Disease-Data/archive/refs/heads/main.zip\"\n",
    "\n",
    "# Target directory to extract files\n",
    "my_path = r'C:\\Users\\kesse\\OneDrive\\Desktop\\ai-2' # Change this to your desired location\n",
    "extract_folder = my_path  \n",
    "\n",
    "# Ensure the target directory exists\n",
    "os.makedirs(extract_folder, exist_ok=True)\n",
    "\n",
    "# Download the ZIP file\n",
    "print(\"Downloading dataset...\")\n",
    "response = requests.get(repo_url)\n",
    "if response.status_code == 200:\n",
    "    print(\"Download successful!\")\n",
    "\n",
    "    # Extract ZIP file\n",
    "    with zipfile.ZipFile(BytesIO(response.content), \"r\") as zip_ref:\n",
    "        zip_ref.extractall(extract_folder)\n",
    "    \n",
    "    print(f\"Files extracted to: {extract_folder}\")\n",
    "else:\n",
    "    print(\"Failed to download the dataset. Check the URL or your internet connection.\")"
   ]
  },
  {
   "cell_type": "markdown",
   "id": "108189f2-37fa-4edb-aeb3-6aabaf5be21c",
   "metadata": {},
   "source": [
    "## Step 4: Load the dataset"
   ]
  },
  {
   "cell_type": "code",
   "execution_count": 5,
   "id": "fbfe8970-38dc-4351-966e-19df845ba4f4",
   "metadata": {},
   "outputs": [],
   "source": [
    "# Load the dataset\n",
    "file_path = r'C:\\Users\\kesse\\OneDrive\\Desktop\\ai-2\\Heart-Disease-Data-main/heart_disease.csv'\n",
    "df = pd.read_csv(file_path)"
   ]
  },
  {
   "cell_type": "markdown",
   "id": "f3e14533-027a-44f2-b0f9-a2250dadb264",
   "metadata": {},
   "source": [
    "## Step 5: Exploratory Data Analysis (EDA)\n",
    "\n",
    "The dataset is explored:\n",
    "* to look at its structure\n",
    "*  check for missing values\n",
    "*   to find outliers\n",
    "*   to look at the  class distribution\n",
    "*  and relationships between features."
   ]
  },
  {
   "cell_type": "markdown",
   "id": "34a44a61-0170-4f49-9b98-c4eb4a83dae8",
   "metadata": {},
   "source": [
    "### Simple Exploration"
   ]
  },
  {
   "cell_type": "code",
   "execution_count": 6,
   "id": "92b5fd88-46e0-4351-9c54-0f65dfe246e9",
   "metadata": {},
   "outputs": [
    {
     "name": "stdout",
     "output_type": "stream",
     "text": [
      "<class 'pandas.core.frame.DataFrame'>\n",
      "RangeIndex: 303 entries, 0 to 302\n",
      "Data columns (total 14 columns):\n",
      " #   Column    Non-Null Count  Dtype  \n",
      "---  ------    --------------  -----  \n",
      " 0   age       303 non-null    int64  \n",
      " 1   sex       303 non-null    int64  \n",
      " 2   cp        303 non-null    int64  \n",
      " 3   trestbps  303 non-null    int64  \n",
      " 4   chol      303 non-null    int64  \n",
      " 5   fbs       303 non-null    int64  \n",
      " 6   restecg   303 non-null    int64  \n",
      " 7   thalach   303 non-null    int64  \n",
      " 8   exang     303 non-null    int64  \n",
      " 9   oldpeak   303 non-null    float64\n",
      " 10  slope     303 non-null    int64  \n",
      " 11  ca        303 non-null    int64  \n",
      " 12  thal      303 non-null    int64  \n",
      " 13  target    303 non-null    int64  \n",
      "dtypes: float64(1), int64(13)\n",
      "memory usage: 33.3 KB\n"
     ]
    }
   ],
   "source": [
    "df.info()"
   ]
  },
  {
   "cell_type": "markdown",
   "id": "68709279-6c27-436a-bf95-cd0b372ef2f3",
   "metadata": {},
   "source": [
    "* The dataset contains 303 rows and 14 columns.\n",
    "* All columns have non-null values which mean there are no missing values.\n",
    "* The dataset is made up 13 integers (int64) and one float64 (oldpeak)"
   ]
  },
  {
   "cell_type": "code",
   "execution_count": 7,
   "id": "182efa62-5be9-421f-8a63-1eff8c27e3ad",
   "metadata": {},
   "outputs": [
    {
     "data": {
      "text/html": [
       "<div>\n",
       "<style scoped>\n",
       "    .dataframe tbody tr th:only-of-type {\n",
       "        vertical-align: middle;\n",
       "    }\n",
       "\n",
       "    .dataframe tbody tr th {\n",
       "        vertical-align: top;\n",
       "    }\n",
       "\n",
       "    .dataframe thead th {\n",
       "        text-align: right;\n",
       "    }\n",
       "</style>\n",
       "<table border=\"1\" class=\"dataframe\">\n",
       "  <thead>\n",
       "    <tr style=\"text-align: right;\">\n",
       "      <th></th>\n",
       "      <th>age</th>\n",
       "      <th>sex</th>\n",
       "      <th>cp</th>\n",
       "      <th>trestbps</th>\n",
       "      <th>chol</th>\n",
       "      <th>fbs</th>\n",
       "      <th>restecg</th>\n",
       "      <th>thalach</th>\n",
       "      <th>exang</th>\n",
       "      <th>oldpeak</th>\n",
       "      <th>slope</th>\n",
       "      <th>ca</th>\n",
       "      <th>thal</th>\n",
       "      <th>target</th>\n",
       "    </tr>\n",
       "  </thead>\n",
       "  <tbody>\n",
       "    <tr>\n",
       "      <th>0</th>\n",
       "      <td>63</td>\n",
       "      <td>1</td>\n",
       "      <td>0</td>\n",
       "      <td>145</td>\n",
       "      <td>233</td>\n",
       "      <td>1</td>\n",
       "      <td>2</td>\n",
       "      <td>150</td>\n",
       "      <td>0</td>\n",
       "      <td>2.3</td>\n",
       "      <td>2</td>\n",
       "      <td>0</td>\n",
       "      <td>2</td>\n",
       "      <td>0</td>\n",
       "    </tr>\n",
       "    <tr>\n",
       "      <th>1</th>\n",
       "      <td>67</td>\n",
       "      <td>1</td>\n",
       "      <td>3</td>\n",
       "      <td>160</td>\n",
       "      <td>286</td>\n",
       "      <td>0</td>\n",
       "      <td>2</td>\n",
       "      <td>108</td>\n",
       "      <td>1</td>\n",
       "      <td>1.5</td>\n",
       "      <td>1</td>\n",
       "      <td>3</td>\n",
       "      <td>1</td>\n",
       "      <td>1</td>\n",
       "    </tr>\n",
       "    <tr>\n",
       "      <th>2</th>\n",
       "      <td>67</td>\n",
       "      <td>1</td>\n",
       "      <td>3</td>\n",
       "      <td>120</td>\n",
       "      <td>229</td>\n",
       "      <td>0</td>\n",
       "      <td>2</td>\n",
       "      <td>129</td>\n",
       "      <td>1</td>\n",
       "      <td>2.6</td>\n",
       "      <td>1</td>\n",
       "      <td>2</td>\n",
       "      <td>3</td>\n",
       "      <td>1</td>\n",
       "    </tr>\n",
       "    <tr>\n",
       "      <th>3</th>\n",
       "      <td>37</td>\n",
       "      <td>1</td>\n",
       "      <td>2</td>\n",
       "      <td>130</td>\n",
       "      <td>250</td>\n",
       "      <td>0</td>\n",
       "      <td>0</td>\n",
       "      <td>187</td>\n",
       "      <td>0</td>\n",
       "      <td>3.5</td>\n",
       "      <td>2</td>\n",
       "      <td>0</td>\n",
       "      <td>1</td>\n",
       "      <td>0</td>\n",
       "    </tr>\n",
       "    <tr>\n",
       "      <th>4</th>\n",
       "      <td>41</td>\n",
       "      <td>0</td>\n",
       "      <td>1</td>\n",
       "      <td>130</td>\n",
       "      <td>204</td>\n",
       "      <td>0</td>\n",
       "      <td>2</td>\n",
       "      <td>172</td>\n",
       "      <td>0</td>\n",
       "      <td>1.4</td>\n",
       "      <td>0</td>\n",
       "      <td>0</td>\n",
       "      <td>1</td>\n",
       "      <td>0</td>\n",
       "    </tr>\n",
       "  </tbody>\n",
       "</table>\n",
       "</div>"
      ],
      "text/plain": [
       "   age  sex  cp  trestbps  chol  fbs  restecg  thalach  exang  oldpeak  slope  \\\n",
       "0   63    1   0       145   233    1        2      150      0      2.3      2   \n",
       "1   67    1   3       160   286    0        2      108      1      1.5      1   \n",
       "2   67    1   3       120   229    0        2      129      1      2.6      1   \n",
       "3   37    1   2       130   250    0        0      187      0      3.5      2   \n",
       "4   41    0   1       130   204    0        2      172      0      1.4      0   \n",
       "\n",
       "   ca  thal  target  \n",
       "0   0     2       0  \n",
       "1   3     1       1  \n",
       "2   2     3       1  \n",
       "3   0     1       0  \n",
       "4   0     1       0  "
      ]
     },
     "execution_count": 7,
     "metadata": {},
     "output_type": "execute_result"
    }
   ],
   "source": [
    "# Display the first few rows of the dataset\n",
    "df.head()"
   ]
  },
  {
   "cell_type": "code",
   "execution_count": 8,
   "id": "96410907-6e7d-4c71-8b91-5e730017b083",
   "metadata": {},
   "outputs": [
    {
     "data": {
      "text/html": [
       "<div>\n",
       "<style scoped>\n",
       "    .dataframe tbody tr th:only-of-type {\n",
       "        vertical-align: middle;\n",
       "    }\n",
       "\n",
       "    .dataframe tbody tr th {\n",
       "        vertical-align: top;\n",
       "    }\n",
       "\n",
       "    .dataframe thead th {\n",
       "        text-align: right;\n",
       "    }\n",
       "</style>\n",
       "<table border=\"1\" class=\"dataframe\">\n",
       "  <thead>\n",
       "    <tr style=\"text-align: right;\">\n",
       "      <th></th>\n",
       "      <th>age</th>\n",
       "      <th>sex</th>\n",
       "      <th>cp</th>\n",
       "      <th>trestbps</th>\n",
       "      <th>chol</th>\n",
       "      <th>fbs</th>\n",
       "      <th>restecg</th>\n",
       "      <th>thalach</th>\n",
       "      <th>exang</th>\n",
       "      <th>oldpeak</th>\n",
       "      <th>slope</th>\n",
       "      <th>ca</th>\n",
       "      <th>thal</th>\n",
       "      <th>target</th>\n",
       "    </tr>\n",
       "  </thead>\n",
       "  <tbody>\n",
       "    <tr>\n",
       "      <th>298</th>\n",
       "      <td>45</td>\n",
       "      <td>1</td>\n",
       "      <td>0</td>\n",
       "      <td>110</td>\n",
       "      <td>264</td>\n",
       "      <td>0</td>\n",
       "      <td>0</td>\n",
       "      <td>132</td>\n",
       "      <td>0</td>\n",
       "      <td>1.2</td>\n",
       "      <td>1</td>\n",
       "      <td>0</td>\n",
       "      <td>3</td>\n",
       "      <td>1</td>\n",
       "    </tr>\n",
       "    <tr>\n",
       "      <th>299</th>\n",
       "      <td>68</td>\n",
       "      <td>1</td>\n",
       "      <td>3</td>\n",
       "      <td>144</td>\n",
       "      <td>193</td>\n",
       "      <td>1</td>\n",
       "      <td>0</td>\n",
       "      <td>141</td>\n",
       "      <td>0</td>\n",
       "      <td>3.4</td>\n",
       "      <td>1</td>\n",
       "      <td>2</td>\n",
       "      <td>3</td>\n",
       "      <td>1</td>\n",
       "    </tr>\n",
       "    <tr>\n",
       "      <th>300</th>\n",
       "      <td>57</td>\n",
       "      <td>1</td>\n",
       "      <td>3</td>\n",
       "      <td>130</td>\n",
       "      <td>131</td>\n",
       "      <td>0</td>\n",
       "      <td>0</td>\n",
       "      <td>115</td>\n",
       "      <td>1</td>\n",
       "      <td>1.2</td>\n",
       "      <td>1</td>\n",
       "      <td>1</td>\n",
       "      <td>3</td>\n",
       "      <td>1</td>\n",
       "    </tr>\n",
       "    <tr>\n",
       "      <th>301</th>\n",
       "      <td>57</td>\n",
       "      <td>0</td>\n",
       "      <td>1</td>\n",
       "      <td>130</td>\n",
       "      <td>236</td>\n",
       "      <td>0</td>\n",
       "      <td>2</td>\n",
       "      <td>174</td>\n",
       "      <td>0</td>\n",
       "      <td>0.0</td>\n",
       "      <td>1</td>\n",
       "      <td>1</td>\n",
       "      <td>1</td>\n",
       "      <td>1</td>\n",
       "    </tr>\n",
       "    <tr>\n",
       "      <th>302</th>\n",
       "      <td>38</td>\n",
       "      <td>1</td>\n",
       "      <td>2</td>\n",
       "      <td>138</td>\n",
       "      <td>175</td>\n",
       "      <td>0</td>\n",
       "      <td>0</td>\n",
       "      <td>173</td>\n",
       "      <td>0</td>\n",
       "      <td>0.0</td>\n",
       "      <td>0</td>\n",
       "      <td>0</td>\n",
       "      <td>1</td>\n",
       "      <td>0</td>\n",
       "    </tr>\n",
       "  </tbody>\n",
       "</table>\n",
       "</div>"
      ],
      "text/plain": [
       "     age  sex  cp  trestbps  chol  fbs  restecg  thalach  exang  oldpeak  \\\n",
       "298   45    1   0       110   264    0        0      132      0      1.2   \n",
       "299   68    1   3       144   193    1        0      141      0      3.4   \n",
       "300   57    1   3       130   131    0        0      115      1      1.2   \n",
       "301   57    0   1       130   236    0        2      174      0      0.0   \n",
       "302   38    1   2       138   175    0        0      173      0      0.0   \n",
       "\n",
       "     slope  ca  thal  target  \n",
       "298      1   0     3       1  \n",
       "299      1   2     3       1  \n",
       "300      1   1     3       1  \n",
       "301      1   1     1       1  \n",
       "302      0   0     1       0  "
      ]
     },
     "execution_count": 8,
     "metadata": {},
     "output_type": "execute_result"
    }
   ],
   "source": [
    "# Display the last few rows of the dataset\n",
    "df.tail()"
   ]
  },
  {
   "cell_type": "markdown",
   "id": "d6d97c45-df23-4e50-890c-a511f149c6c7",
   "metadata": {},
   "source": [
    "The dataset seems:\n",
    "* to load correctly\n",
    "* well structured\n",
    "* the columns, data types, and values are appropriate for now"
   ]
  },
  {
   "cell_type": "code",
   "execution_count": 9,
   "id": "e44e8c52-e48a-42cc-b7c9-d6e637b58e7d",
   "metadata": {},
   "outputs": [
    {
     "data": {
      "text/plain": [
       "age         0\n",
       "sex         0\n",
       "cp          0\n",
       "trestbps    0\n",
       "chol        0\n",
       "fbs         0\n",
       "restecg     0\n",
       "thalach     0\n",
       "exang       0\n",
       "oldpeak     0\n",
       "slope       0\n",
       "ca          0\n",
       "thal        0\n",
       "target      0\n",
       "dtype: int64"
      ]
     },
     "execution_count": 9,
     "metadata": {},
     "output_type": "execute_result"
    }
   ],
   "source": [
    "# Checking for missing values\n",
    "missing_values = df.isnull().sum()\n",
    "missing_values"
   ]
  },
  {
   "cell_type": "markdown",
   "id": "06f42793-3cb1-41cc-bcca-316402ef7376",
   "metadata": {},
   "source": [
    "Reconfirm that there are no missing values in the dataset therefore there will be no need for any imputation for missing data."
   ]
  },
  {
   "cell_type": "code",
   "execution_count": 10,
   "id": "7feba65f-8c73-4824-80b7-a3da892d3b74",
   "metadata": {},
   "outputs": [
    {
     "data": {
      "text/plain": [
       "0"
      ]
     },
     "execution_count": 10,
     "metadata": {},
     "output_type": "execute_result"
    }
   ],
   "source": [
    "# Checking for duplicate rows\n",
    "duplicate_rows = df.duplicated().sum()\n",
    "duplicate_rows"
   ]
  },
  {
   "cell_type": "markdown",
   "id": "741b6286-6b4e-4024-bb82-714b00628ec4",
   "metadata": {},
   "source": [
    "There are no duplicate rows in the dataset, so no removal of duplicates is needed."
   ]
  },
  {
   "cell_type": "markdown",
   "id": "c421a276-b843-45da-991d-4634ae8328df",
   "metadata": {},
   "source": [
    "### Deeper Exploration"
   ]
  },
  {
   "cell_type": "markdown",
   "id": "b8b5f428-f500-45b0-82e1-1b797da90eb4",
   "metadata": {},
   "source": [
    "#### Checking Data Distribution\n",
    "  \n",
    "We'll visualize the distribution of numerical features (which just happen to be the entire dataset) to identify potential outliers and trends. ​"
   ]
  },
  {
   "cell_type": "code",
   "execution_count": 11,
   "id": "9d003419-a85c-4078-ba57-52bad2e7de25",
   "metadata": {},
   "outputs": [
    {
     "data": {
      "text/plain": [
       "Index(['age', 'sex', 'cp', 'trestbps', 'chol', 'fbs', 'restecg', 'thalach',\n",
       "       'exang', 'oldpeak', 'slope', 'ca', 'thal', 'target'],\n",
       "      dtype='object')"
      ]
     },
     "execution_count": 11,
     "metadata": {},
     "output_type": "execute_result"
    }
   ],
   "source": [
    "cols = df.columns\n",
    "cols"
   ]
  },
  {
   "cell_type": "code",
   "execution_count": 12,
   "id": "f22e8949-3156-43dc-93f2-4e308093675c",
   "metadata": {},
   "outputs": [
    {
     "data": {
      "text/html": [
       "<div>\n",
       "<style scoped>\n",
       "    .dataframe tbody tr th:only-of-type {\n",
       "        vertical-align: middle;\n",
       "    }\n",
       "\n",
       "    .dataframe tbody tr th {\n",
       "        vertical-align: top;\n",
       "    }\n",
       "\n",
       "    .dataframe thead th {\n",
       "        text-align: right;\n",
       "    }\n",
       "</style>\n",
       "<table border=\"1\" class=\"dataframe\">\n",
       "  <thead>\n",
       "    <tr style=\"text-align: right;\">\n",
       "      <th></th>\n",
       "      <th>Number of Unique Values</th>\n",
       "      <th>Total Count</th>\n",
       "    </tr>\n",
       "  </thead>\n",
       "  <tbody>\n",
       "    <tr>\n",
       "      <th>age</th>\n",
       "      <td>41</td>\n",
       "      <td>303</td>\n",
       "    </tr>\n",
       "    <tr>\n",
       "      <th>sex</th>\n",
       "      <td>2</td>\n",
       "      <td>303</td>\n",
       "    </tr>\n",
       "    <tr>\n",
       "      <th>cp</th>\n",
       "      <td>4</td>\n",
       "      <td>303</td>\n",
       "    </tr>\n",
       "    <tr>\n",
       "      <th>trestbps</th>\n",
       "      <td>50</td>\n",
       "      <td>303</td>\n",
       "    </tr>\n",
       "    <tr>\n",
       "      <th>chol</th>\n",
       "      <td>152</td>\n",
       "      <td>303</td>\n",
       "    </tr>\n",
       "    <tr>\n",
       "      <th>fbs</th>\n",
       "      <td>2</td>\n",
       "      <td>303</td>\n",
       "    </tr>\n",
       "    <tr>\n",
       "      <th>restecg</th>\n",
       "      <td>3</td>\n",
       "      <td>303</td>\n",
       "    </tr>\n",
       "    <tr>\n",
       "      <th>thalach</th>\n",
       "      <td>91</td>\n",
       "      <td>303</td>\n",
       "    </tr>\n",
       "    <tr>\n",
       "      <th>exang</th>\n",
       "      <td>2</td>\n",
       "      <td>303</td>\n",
       "    </tr>\n",
       "    <tr>\n",
       "      <th>oldpeak</th>\n",
       "      <td>40</td>\n",
       "      <td>303</td>\n",
       "    </tr>\n",
       "    <tr>\n",
       "      <th>slope</th>\n",
       "      <td>3</td>\n",
       "      <td>303</td>\n",
       "    </tr>\n",
       "    <tr>\n",
       "      <th>ca</th>\n",
       "      <td>4</td>\n",
       "      <td>303</td>\n",
       "    </tr>\n",
       "    <tr>\n",
       "      <th>thal</th>\n",
       "      <td>3</td>\n",
       "      <td>303</td>\n",
       "    </tr>\n",
       "    <tr>\n",
       "      <th>target</th>\n",
       "      <td>2</td>\n",
       "      <td>303</td>\n",
       "    </tr>\n",
       "  </tbody>\n",
       "</table>\n",
       "</div>"
      ],
      "text/plain": [
       "          Number of Unique Values  Total Count\n",
       "age                            41          303\n",
       "sex                             2          303\n",
       "cp                              4          303\n",
       "trestbps                       50          303\n",
       "chol                          152          303\n",
       "fbs                             2          303\n",
       "restecg                         3          303\n",
       "thalach                        91          303\n",
       "exang                           2          303\n",
       "oldpeak                        40          303\n",
       "slope                           3          303\n",
       "ca                              4          303\n",
       "thal                            3          303\n",
       "target                          2          303"
      ]
     },
     "execution_count": 12,
     "metadata": {},
     "output_type": "execute_result"
    }
   ],
   "source": [
    "import pandas as pd\n",
    "\n",
    "# Define original numerical features before encoding\n",
    "original_cols = df.columns.tolist()  # Assuming 'cols' is a list of original column names\n",
    "\n",
    "# Count the number of unique values per original feature (handling categorical & numerical separately)\n",
    "unique_counts = {\n",
    "    col: len(df[col].unique()) if len(df[col].unique()) < 10 else len(df[col].unique()[:])\n",
    "    for col in original_cols\n",
    "}\n",
    "\n",
    "# Count total occurrences of each feature (which should be equal to the total number of rows in df)\n",
    "total_counts = {col: df.shape[0] for col in original_cols}\n",
    "\n",
    "# Create a DataFrame to display the results\n",
    "summary_df = pd.DataFrame({\n",
    "    \"Number of Unique Values\": unique_counts,\n",
    "    \"Total Count\": total_counts\n",
    "})\n",
    "\n",
    "\n",
    "summary_df"
   ]
  },
  {
   "cell_type": "markdown",
   "id": "3a09448b-a92a-4127-91da-96fb1f7e0f94",
   "metadata": {},
   "source": [
    "From the above, we identified the numerical and categorical columns:"
   ]
  },
  {
   "cell_type": "code",
   "execution_count": 13,
   "id": "4d210a68-555a-4bb8-9bfb-b968ea9f7369",
   "metadata": {},
   "outputs": [
    {
     "data": {
      "text/plain": [
       "['age', 'trestbps', 'chol', 'thalach', 'oldpeak']"
      ]
     },
     "execution_count": 13,
     "metadata": {},
     "output_type": "execute_result"
    }
   ],
   "source": [
    "numerical_cols = ['age', 'trestbps', 'chol', 'thalach', 'oldpeak']\n",
    "numerical_cols "
   ]
  },
  {
   "cell_type": "code",
   "execution_count": 14,
   "id": "7970fff1-9f0b-475c-817f-85b41ee17730",
   "metadata": {},
   "outputs": [
    {
     "data": {
      "text/plain": [
       "['sex', 'cp', 'fbs', 'restecg', 'exang', 'slope', 'ca', 'thal', 'target']"
      ]
     },
     "execution_count": 14,
     "metadata": {},
     "output_type": "execute_result"
    }
   ],
   "source": [
    "categorical_cols = [col for col in cols if col not in numerical_cols]\n",
    "categorical_cols"
   ]
  },
  {
   "cell_type": "code",
   "execution_count": 15,
   "id": "60652d03-b246-42e0-a152-f51a5293113a",
   "metadata": {},
   "outputs": [
    {
     "data": {
      "text/html": [
       "<div>\n",
       "<style scoped>\n",
       "    .dataframe tbody tr th:only-of-type {\n",
       "        vertical-align: middle;\n",
       "    }\n",
       "\n",
       "    .dataframe tbody tr th {\n",
       "        vertical-align: top;\n",
       "    }\n",
       "\n",
       "    .dataframe thead th {\n",
       "        text-align: right;\n",
       "    }\n",
       "</style>\n",
       "<table border=\"1\" class=\"dataframe\">\n",
       "  <thead>\n",
       "    <tr style=\"text-align: right;\">\n",
       "      <th></th>\n",
       "      <th>Feature</th>\n",
       "      <th>Classification</th>\n",
       "    </tr>\n",
       "  </thead>\n",
       "  <tbody>\n",
       "    <tr>\n",
       "      <th>0</th>\n",
       "      <td>sex</td>\n",
       "      <td>Nominal</td>\n",
       "    </tr>\n",
       "    <tr>\n",
       "      <th>2</th>\n",
       "      <td>fbs</td>\n",
       "      <td>Nominal</td>\n",
       "    </tr>\n",
       "    <tr>\n",
       "      <th>4</th>\n",
       "      <td>exang</td>\n",
       "      <td>Nominal</td>\n",
       "    </tr>\n",
       "    <tr>\n",
       "      <th>6</th>\n",
       "      <td>ca</td>\n",
       "      <td>Nominal</td>\n",
       "    </tr>\n",
       "    <tr>\n",
       "      <th>8</th>\n",
       "      <td>target</td>\n",
       "      <td>Nominal</td>\n",
       "    </tr>\n",
       "    <tr>\n",
       "      <th>1</th>\n",
       "      <td>cp</td>\n",
       "      <td>Ordinal</td>\n",
       "    </tr>\n",
       "    <tr>\n",
       "      <th>3</th>\n",
       "      <td>restecg</td>\n",
       "      <td>Ordinal</td>\n",
       "    </tr>\n",
       "    <tr>\n",
       "      <th>5</th>\n",
       "      <td>slope</td>\n",
       "      <td>Ordinal</td>\n",
       "    </tr>\n",
       "    <tr>\n",
       "      <th>7</th>\n",
       "      <td>thal</td>\n",
       "      <td>Ordinal</td>\n",
       "    </tr>\n",
       "  </tbody>\n",
       "</table>\n",
       "</div>"
      ],
      "text/plain": [
       "   Feature Classification\n",
       "0      sex        Nominal\n",
       "2      fbs        Nominal\n",
       "4    exang        Nominal\n",
       "6       ca        Nominal\n",
       "8   target        Nominal\n",
       "1       cp        Ordinal\n",
       "3  restecg        Ordinal\n",
       "5    slope        Ordinal\n",
       "7     thal        Ordinal"
      ]
     },
     "execution_count": 15,
     "metadata": {},
     "output_type": "execute_result"
    }
   ],
   "source": [
    "# Define the classification of columns as nominal or ordinal based on dataset description\n",
    "categorical_cols_classification = {\n",
    "    'sex': 'Nominal',        # Binary categorical (male = 0, 1 = female)\n",
    "    'cp': 'Ordinal',         # Ordered categories of chest pain severity\n",
    "    'fbs': 'Nominal',        # Binary categorical (1 = true, 0 = false for fasting blood sugar)\n",
    "    'restecg': 'Ordinal',    # Ordered categories of ECG results (0: Normal, 1: Having ST-T wave abnormality, 2: Showing definite left ventricular hypertrophy)\n",
    "\n",
    "    'exang': 'Nominal',      # Binary categorical (1 = yes, 0 = no for exercise-induced angina)\n",
    "    'slope': 'Ordinal',      # Ordered categories for ST segment slope (0: Upsloping, 1: Flat, 2: Downsloping)\n",
    "    'ca': 'Nominal',         # Ordered categories for number of major vessels (0-4) colored by fluoroscopy\n",
    "    'thal': 'Ordinal',       # Ordered categories for thallium stress test results (0: Normal, 1: Fixed defect, 2: Reversible defect, 3: Not described)\n",
    "    'target': 'Nominal'      # Binary categorical Heart disease status (0 = no disease, 1 = presence of disease)\n",
    "}\n",
    "\n",
    "# Create a DataFrame to display the classification\n",
    "categorical_df = pd.DataFrame(list(categorical_cols_classification.items()), columns=['Feature', 'Classification'])\n",
    "\n",
    "categorical_df.sort_values(by=\"Classification\")\n"
   ]
  },
  {
   "cell_type": "code",
   "execution_count": 16,
   "id": "e9c2d08d-8ea9-44bd-9825-771caab7196d",
   "metadata": {},
   "outputs": [
    {
     "data": {
      "text/html": [
       "<div>\n",
       "<style scoped>\n",
       "    .dataframe tbody tr th:only-of-type {\n",
       "        vertical-align: middle;\n",
       "    }\n",
       "\n",
       "    .dataframe tbody tr th {\n",
       "        vertical-align: top;\n",
       "    }\n",
       "\n",
       "    .dataframe thead th {\n",
       "        text-align: right;\n",
       "    }\n",
       "</style>\n",
       "<table border=\"1\" class=\"dataframe\">\n",
       "  <thead>\n",
       "    <tr style=\"text-align: right;\">\n",
       "      <th></th>\n",
       "      <th>Feature</th>\n",
       "      <th>Classification</th>\n",
       "    </tr>\n",
       "  </thead>\n",
       "  <tbody>\n",
       "    <tr>\n",
       "      <th>0</th>\n",
       "      <td>age</td>\n",
       "      <td>Ratio</td>\n",
       "    </tr>\n",
       "    <tr>\n",
       "      <th>1</th>\n",
       "      <td>trestbps</td>\n",
       "      <td>Ratio</td>\n",
       "    </tr>\n",
       "    <tr>\n",
       "      <th>2</th>\n",
       "      <td>chol</td>\n",
       "      <td>Ratio</td>\n",
       "    </tr>\n",
       "    <tr>\n",
       "      <th>3</th>\n",
       "      <td>thalach</td>\n",
       "      <td>Ratio</td>\n",
       "    </tr>\n",
       "    <tr>\n",
       "      <th>4</th>\n",
       "      <td>oldpeak</td>\n",
       "      <td>Interval</td>\n",
       "    </tr>\n",
       "  </tbody>\n",
       "</table>\n",
       "</div>"
      ],
      "text/plain": [
       "    Feature Classification\n",
       "0       age          Ratio\n",
       "1  trestbps          Ratio\n",
       "2      chol          Ratio\n",
       "3   thalach          Ratio\n",
       "4   oldpeak       Interval"
      ]
     },
     "execution_count": 16,
     "metadata": {},
     "output_type": "execute_result"
    }
   ],
   "source": [
    "# Define classification of numerical columns as ratio or interval\n",
    "numerical_cols_classification = {\n",
    "    'age': 'Ratio',        # Meaningful zero and ratio comparisons make sense\n",
    "    'trestbps': 'Ratio',   # Blood pressure with a meaningful zero\n",
    "    'chol': 'Ratio',       # Cholesterol level with meaningful zero\n",
    "    'thalach': 'Ratio',    # Maximum heart rate achieved, meaningful zero\n",
    "    'oldpeak': 'Interval'  # ST depression relative to rest, no absolute zero\n",
    "}\n",
    "\n",
    "# Create a DataFrame to display the classification\n",
    "numerical_df = pd.DataFrame(list(numerical_cols_classification.items()), columns=['Feature', 'Classification'])\n",
    "numerical_df"
   ]
  },
  {
   "cell_type": "code",
   "execution_count": 17,
   "id": "1856f7b3-45cb-489b-be56-ee58f9baad47",
   "metadata": {},
   "outputs": [
    {
     "data": {
      "image/png": "[encoded data removed]",
      "text/plain": [
       "<Figure size 1200x800 with 5 Axes>"
      ]
     },
     "metadata": {},
     "output_type": "display_data"
    }
   ],
   "source": [
    "# Set plot style\n",
    "sns.set_style(\"whitegrid\")\n",
    "\n",
    "# Create subplots for numerical feature distributions\n",
    "plt.figure(figsize=(12, 8))  # Adjust figure size\n",
    "\n",
    "num_features = len(numerical_cols)\n",
    "rows = (num_features // 3) + (num_features % 3 > 0)  # Ensure appropriate grid size\n",
    "\n",
    "for i, col in enumerate(numerical_cols, 1):\n",
    "    plt.subplot(rows, 3, i)  # Create a flexible grid layout\n",
    "    sns.histplot(df[col], bins=20, kde=True, edgecolor=\"black\")\n",
    "    plt.title(col)\n",
    "    plt.xlabel(\"\")  # Remove redundant labels for clarity\n",
    "    plt.ylabel(\"Frequency\")\n",
    "\n",
    "plt.suptitle(\"Feature Distributions\", fontsize=14)\n",
    "plt.tight_layout(rect=[0, 0.03, 1, 0.95])\n",
    "plt.show()\n"
   ]
  },
  {
   "cell_type": "markdown",
   "id": "3a5c0839-2d45-448c-bb22-5e62e845bed2",
   "metadata": {},
   "source": [
    "A few of the insights we can gather from the histograms are:\n",
    "\n",
    "* Age: most patients are middle-aged (50+ years) or older as the age distribution appears roughly normal with a peak around 50-60 years.\n",
    "\n",
    "* Resting Blood Pressure (trestbps):\n",
    "\n",
    "    * its distribution is slightly right-skewed, with most values around 120-140 mm Hg.\n",
    "    * a few cases of higher blood pressure (>160 mm Hg) suggest possible hypertension in some patients.\n",
    "* Serum Cholesterol (chol): its distribution is right-skewed, with most values between 200 and 300 mg/dl and some outliers above 400 mg/dl, indicating high cholesterol levels in some patients.\n",
    "* Maximum Heart Rate Achieved (thalach): its distribution appears left-skewed, with most patients reaching 140-170 bpm during the stress test. The few cases above 200 bpm might indicate extreme exertion levels.\n",
    "* Oldpeak (ST Depression Induced by Exercise): has a Right-skewed distribution with most values between 0 and 2.5; higher values suggest more significant ST depression, which may indicate cardiac abnormalities.\n",
    "\n",
    "The description of the features on the GitHub site from which the data was obtained or in the README downloaded from there and attached to this work"
   ]
  },
  {
   "cell_type": "markdown",
   "id": "d0fee09b-5f3c-46c6-815a-df3a0e268e98",
   "metadata": {},
   "source": [
    "#### Checking for Outliers\n",
    "\n",
    "We will use boxplots to detect potential outliers in numerical features. The selected features—age, trestbps, chol, thalach, and oldpeak—are continuous or have a high number of unique values, making them suitable for outlier detection. Outliers are not meaningful in categorical or binary data; therefore, creating boxplots for such features would not provide useful insights."
   ]
  },
  {
   "cell_type": "code",
   "execution_count": 18,
   "id": "06b418d7-ab1e-433d-a2b1-14cef1de7a8a",
   "metadata": {},
   "outputs": [
    {
     "data": {
      "image/png": "[encoded data removed]",
      "text/plain": [
       "<Figure size 1200x800 with 1 Axes>"
      ]
     },
     "metadata": {},
     "output_type": "display_data"
    }
   ],
   "source": [
    "# Create a figure for boxplots of numerical features\n",
    "plt.figure(figsize=(12, 8))\n",
    "\n",
    "# Define numerical columns\n",
    "#numerical_cols = ['age', 'trestbps', 'chol', 'thalach', 'oldpeak']\n",
    "\n",
    "# Use seaborn to create boxplots for selected numerical features\n",
    "sns.boxplot(data=df[numerical_cols])\n",
    "\n",
    "# Customize the plot\n",
    "plt.title(\"Boxplots of Numerical Features\", fontsize=14)\n",
    "plt.xticks(rotation=45)\n",
    "\n",
    "# Show the plot\n",
    "plt.show()"
   ]
  },
  {
   "cell_type": "markdown",
   "id": "7666926b-6825-492a-9f00-bf64d51eb479",
   "metadata": {},
   "source": [
    "##### Key Insights from the Boxplots (Outlier Detection)\n",
    "* Age: the distribution of age appears fairly symmetrical with few outliers. Most patients are between 40 and 70 years old, with very few extreme values.\n",
    "* Resting Blood Pressure (trestbps): some outliers are observed at the higher end (above 180 mm Hg), which may indicate cases of hypertension. The interquartile range (IQR) suggests that most patients have a resting blood pressure between 110 and 140 mm Hg.\n",
    "* Serum Cholesterol (chol): significant outliers exist in the upper range (above 400 mg/dl). The majority of patients have cholesterol levels between 180 and 300 mg/dl, but extreme values suggest hyperlipidemia in some cases.\n",
    "* Maximum Heart Rate Achieved (thalach): a few lower outliers are present which indicates that some patients have unusually low max heart rates during a stress test. Most patients fall between 120 and 170 bpm, which is expected for a stress test.\n",
    "* Oldpeak (ST Depression): several outliers appear in the upper range (above 4.0), which may indicate severe cardiac conditions.\n",
    "Most patients have ST depression values between 0 and 2.5, suggesting mild deviations.\n",
    "\n",
    "* Cholesterol and Oldpeak have the most extreme outliers, likely representing unusual medical conditions.\n",
    "* Blood pressure and max heart rate have some mild outliers, but nothing extremely abnormal.\n",
    "* Age has the least number of outliers, suggesting a more consistent age distribution.\n",
    "  \n",
    "These insights indicate the presence of some extreme physiological conditions that could impact heart disease prediction"
   ]
  },
  {
   "cell_type": "markdown",
   "id": "8cecc141-0aee-42b8-9587-9fbecb009f62",
   "metadata": {},
   "source": [
    "To handle these outliers, we'll use the Interquartile Range (IQR) method to detect and cap extreme values."
   ]
  },
  {
   "cell_type": "code",
   "execution_count": 19,
   "id": "3ceeccf9-07cc-4bb2-93ef-a8dd18bbfed0",
   "metadata": {},
   "outputs": [
    {
     "data": {
      "text/html": [
       "<div>\n",
       "<style scoped>\n",
       "    .dataframe tbody tr th:only-of-type {\n",
       "        vertical-align: middle;\n",
       "    }\n",
       "\n",
       "    .dataframe tbody tr th {\n",
       "        vertical-align: top;\n",
       "    }\n",
       "\n",
       "    .dataframe thead th {\n",
       "        text-align: right;\n",
       "    }\n",
       "</style>\n",
       "<table border=\"1\" class=\"dataframe\">\n",
       "  <thead>\n",
       "    <tr style=\"text-align: right;\">\n",
       "      <th></th>\n",
       "      <th>age</th>\n",
       "      <th>sex</th>\n",
       "      <th>cp</th>\n",
       "      <th>trestbps</th>\n",
       "      <th>chol</th>\n",
       "      <th>fbs</th>\n",
       "      <th>restecg</th>\n",
       "      <th>thalach</th>\n",
       "      <th>exang</th>\n",
       "      <th>oldpeak</th>\n",
       "      <th>slope</th>\n",
       "      <th>ca</th>\n",
       "      <th>thal</th>\n",
       "      <th>target</th>\n",
       "    </tr>\n",
       "  </thead>\n",
       "  <tbody>\n",
       "    <tr>\n",
       "      <th>0</th>\n",
       "      <td>63</td>\n",
       "      <td>1</td>\n",
       "      <td>0</td>\n",
       "      <td>145.0</td>\n",
       "      <td>233.0</td>\n",
       "      <td>1</td>\n",
       "      <td>2</td>\n",
       "      <td>150.0</td>\n",
       "      <td>0</td>\n",
       "      <td>2.3</td>\n",
       "      <td>2</td>\n",
       "      <td>0</td>\n",
       "      <td>2</td>\n",
       "      <td>0</td>\n",
       "    </tr>\n",
       "    <tr>\n",
       "      <th>1</th>\n",
       "      <td>67</td>\n",
       "      <td>1</td>\n",
       "      <td>3</td>\n",
       "      <td>160.0</td>\n",
       "      <td>286.0</td>\n",
       "      <td>0</td>\n",
       "      <td>2</td>\n",
       "      <td>108.0</td>\n",
       "      <td>1</td>\n",
       "      <td>1.5</td>\n",
       "      <td>1</td>\n",
       "      <td>3</td>\n",
       "      <td>1</td>\n",
       "      <td>1</td>\n",
       "    </tr>\n",
       "    <tr>\n",
       "      <th>2</th>\n",
       "      <td>67</td>\n",
       "      <td>1</td>\n",
       "      <td>3</td>\n",
       "      <td>120.0</td>\n",
       "      <td>229.0</td>\n",
       "      <td>0</td>\n",
       "      <td>2</td>\n",
       "      <td>129.0</td>\n",
       "      <td>1</td>\n",
       "      <td>2.6</td>\n",
       "      <td>1</td>\n",
       "      <td>2</td>\n",
       "      <td>3</td>\n",
       "      <td>1</td>\n",
       "    </tr>\n",
       "    <tr>\n",
       "      <th>3</th>\n",
       "      <td>37</td>\n",
       "      <td>1</td>\n",
       "      <td>2</td>\n",
       "      <td>130.0</td>\n",
       "      <td>250.0</td>\n",
       "      <td>0</td>\n",
       "      <td>0</td>\n",
       "      <td>187.0</td>\n",
       "      <td>0</td>\n",
       "      <td>3.5</td>\n",
       "      <td>2</td>\n",
       "      <td>0</td>\n",
       "      <td>1</td>\n",
       "      <td>0</td>\n",
       "    </tr>\n",
       "    <tr>\n",
       "      <th>4</th>\n",
       "      <td>41</td>\n",
       "      <td>0</td>\n",
       "      <td>1</td>\n",
       "      <td>130.0</td>\n",
       "      <td>204.0</td>\n",
       "      <td>0</td>\n",
       "      <td>2</td>\n",
       "      <td>172.0</td>\n",
       "      <td>0</td>\n",
       "      <td>1.4</td>\n",
       "      <td>0</td>\n",
       "      <td>0</td>\n",
       "      <td>1</td>\n",
       "      <td>0</td>\n",
       "    </tr>\n",
       "    <tr>\n",
       "      <th>...</th>\n",
       "      <td>...</td>\n",
       "      <td>...</td>\n",
       "      <td>...</td>\n",
       "      <td>...</td>\n",
       "      <td>...</td>\n",
       "      <td>...</td>\n",
       "      <td>...</td>\n",
       "      <td>...</td>\n",
       "      <td>...</td>\n",
       "      <td>...</td>\n",
       "      <td>...</td>\n",
       "      <td>...</td>\n",
       "      <td>...</td>\n",
       "      <td>...</td>\n",
       "    </tr>\n",
       "    <tr>\n",
       "      <th>298</th>\n",
       "      <td>45</td>\n",
       "      <td>1</td>\n",
       "      <td>0</td>\n",
       "      <td>110.0</td>\n",
       "      <td>264.0</td>\n",
       "      <td>0</td>\n",
       "      <td>0</td>\n",
       "      <td>132.0</td>\n",
       "      <td>0</td>\n",
       "      <td>1.2</td>\n",
       "      <td>1</td>\n",
       "      <td>0</td>\n",
       "      <td>3</td>\n",
       "      <td>1</td>\n",
       "    </tr>\n",
       "    <tr>\n",
       "      <th>299</th>\n",
       "      <td>68</td>\n",
       "      <td>1</td>\n",
       "      <td>3</td>\n",
       "      <td>144.0</td>\n",
       "      <td>193.0</td>\n",
       "      <td>1</td>\n",
       "      <td>0</td>\n",
       "      <td>141.0</td>\n",
       "      <td>0</td>\n",
       "      <td>3.4</td>\n",
       "      <td>1</td>\n",
       "      <td>2</td>\n",
       "      <td>3</td>\n",
       "      <td>1</td>\n",
       "    </tr>\n",
       "    <tr>\n",
       "      <th>300</th>\n",
       "      <td>57</td>\n",
       "      <td>1</td>\n",
       "      <td>3</td>\n",
       "      <td>130.0</td>\n",
       "      <td>131.0</td>\n",
       "      <td>0</td>\n",
       "      <td>0</td>\n",
       "      <td>115.0</td>\n",
       "      <td>1</td>\n",
       "      <td>1.2</td>\n",
       "      <td>1</td>\n",
       "      <td>1</td>\n",
       "      <td>3</td>\n",
       "      <td>1</td>\n",
       "    </tr>\n",
       "    <tr>\n",
       "      <th>301</th>\n",
       "      <td>57</td>\n",
       "      <td>0</td>\n",
       "      <td>1</td>\n",
       "      <td>130.0</td>\n",
       "      <td>236.0</td>\n",
       "      <td>0</td>\n",
       "      <td>2</td>\n",
       "      <td>174.0</td>\n",
       "      <td>0</td>\n",
       "      <td>0.0</td>\n",
       "      <td>1</td>\n",
       "      <td>1</td>\n",
       "      <td>1</td>\n",
       "      <td>1</td>\n",
       "    </tr>\n",
       "    <tr>\n",
       "      <th>302</th>\n",
       "      <td>38</td>\n",
       "      <td>1</td>\n",
       "      <td>2</td>\n",
       "      <td>138.0</td>\n",
       "      <td>175.0</td>\n",
       "      <td>0</td>\n",
       "      <td>0</td>\n",
       "      <td>173.0</td>\n",
       "      <td>0</td>\n",
       "      <td>0.0</td>\n",
       "      <td>0</td>\n",
       "      <td>0</td>\n",
       "      <td>1</td>\n",
       "      <td>0</td>\n",
       "    </tr>\n",
       "  </tbody>\n",
       "</table>\n",
       "<p>303 rows × 14 columns</p>\n",
       "</div>"
      ],
      "text/plain": [
       "     age  sex  cp  trestbps   chol  fbs  restecg  thalach  exang  oldpeak  \\\n",
       "0     63    1   0     145.0  233.0    1        2    150.0      0      2.3   \n",
       "1     67    1   3     160.0  286.0    0        2    108.0      1      1.5   \n",
       "2     67    1   3     120.0  229.0    0        2    129.0      1      2.6   \n",
       "3     37    1   2     130.0  250.0    0        0    187.0      0      3.5   \n",
       "4     41    0   1     130.0  204.0    0        2    172.0      0      1.4   \n",
       "..   ...  ...  ..       ...    ...  ...      ...      ...    ...      ...   \n",
       "298   45    1   0     110.0  264.0    0        0    132.0      0      1.2   \n",
       "299   68    1   3     144.0  193.0    1        0    141.0      0      3.4   \n",
       "300   57    1   3     130.0  131.0    0        0    115.0      1      1.2   \n",
       "301   57    0   1     130.0  236.0    0        2    174.0      0      0.0   \n",
       "302   38    1   2     138.0  175.0    0        0    173.0      0      0.0   \n",
       "\n",
       "     slope  ca  thal  target  \n",
       "0        2   0     2       0  \n",
       "1        1   3     1       1  \n",
       "2        1   2     3       1  \n",
       "3        2   0     1       0  \n",
       "4        0   0     1       0  \n",
       "..     ...  ..   ...     ...  \n",
       "298      1   0     3       1  \n",
       "299      1   2     3       1  \n",
       "300      1   1     3       1  \n",
       "301      1   1     1       1  \n",
       "302      0   0     1       0  \n",
       "\n",
       "[303 rows x 14 columns]"
      ]
     },
     "execution_count": 19,
     "metadata": {},
     "output_type": "execute_result"
    }
   ],
   "source": [
    "# Function to detect and cap outliers using IQR method, excluding 'age'\n",
    "def cap_outliers_iqr_exclude_age(df, numerical_cols):\n",
    "    for col in numerical_cols:\n",
    "        if col == 'age':  # Skip 'age' column from outlier treatment\n",
    "            continue\n",
    "\n",
    "        Q1 = df[col].quantile(0.25)  # First quartile\n",
    "        Q3 = df[col].quantile(0.75)  # Third quartile\n",
    "        IQR = Q3 - Q1  # Interquartile Range\n",
    "\n",
    "        lower_bound = Q1 - 1.5 * IQR  # Lower threshold\n",
    "        upper_bound = Q3 + 1.5 * IQR  # Upper threshold\n",
    "\n",
    "        # Cap the outliers, ensuring 'age' remains unaffected\n",
    "        df[col] = df[col].apply(lambda x: upper_bound if x > upper_bound else (lower_bound if x < lower_bound else x))\n",
    "\n",
    "    return df\n",
    "\n",
    "# Apply the IQR method to cap outliers, ensuring 'age' remains unchanged\n",
    "df_cleaned_excluding_age = cap_outliers_iqr_exclude_age(df, numerical_cols)\n",
    "\n",
    "df_cleaned_excluding_age"
   ]
  },
  {
   "cell_type": "markdown",
   "id": "764abfdd-7e57-4891-969f-d7b3cd88f872",
   "metadata": {},
   "source": [
    "Note that we did not remove outliers from the age feature because, in medical datasets, age follows a natural distribution with a wide range. Extreme values in age (e.g., very young or very old patients) are real and valid observations rather than errors."
   ]
  },
  {
   "cell_type": "code",
   "execution_count": 20,
   "id": "546bcb7b-511e-49bc-b3c1-7787e844fc78",
   "metadata": {},
   "outputs": [
    {
     "data": {
      "image/png": "[encoded data removed]",
      "text/plain": [
       "<Figure size 1200x800 with 1 Axes>"
      ]
     },
     "metadata": {},
     "output_type": "display_data"
    }
   ],
   "source": [
    "# Create a figure for boxplots after outlier treatment using Seaborn\n",
    "plt.figure(figsize=(12, 8))\n",
    "\n",
    "# Use seaborn to create boxplots for selected numerical features after outlier treatment\n",
    "sns.boxplot(data=df_cleaned_excluding_age[numerical_cols])\n",
    "\n",
    "# Customize the plot\n",
    "plt.title(\"Boxplots After Outlier Treatment\", fontsize=14)\n",
    "plt.xticks(rotation=45)\n",
    "\n",
    "# Show the plot\n",
    "plt.show()\n"
   ]
  },
  {
   "cell_type": "markdown",
   "id": "b28435db-a653-4685-bba0-5f2963fc0694",
   "metadata": {},
   "source": [
    "After applying the IQR method, the extreme outliers have been capped, making the dataset more robust for modeling.\n"
   ]
  },
  {
   "cell_type": "code",
   "execution_count": 21,
   "id": "0e510a85-5edc-46b3-bc32-17067fa85f4e",
   "metadata": {},
   "outputs": [],
   "source": [
    "df_new = df_cleaned_excluding_age  # dataset after removing outliers"
   ]
  },
  {
   "cell_type": "code",
   "execution_count": 22,
   "id": "c140e2ed-12aa-42cc-a337-71278245d2a0",
   "metadata": {},
   "outputs": [
    {
     "data": {
      "text/html": [
       "<div>\n",
       "<style scoped>\n",
       "    .dataframe tbody tr th:only-of-type {\n",
       "        vertical-align: middle;\n",
       "    }\n",
       "\n",
       "    .dataframe tbody tr th {\n",
       "        vertical-align: top;\n",
       "    }\n",
       "\n",
       "    .dataframe thead th {\n",
       "        text-align: right;\n",
       "    }\n",
       "</style>\n",
       "<table border=\"1\" class=\"dataframe\">\n",
       "  <thead>\n",
       "    <tr style=\"text-align: right;\">\n",
       "      <th></th>\n",
       "      <th>age</th>\n",
       "      <th>sex</th>\n",
       "      <th>cp</th>\n",
       "      <th>trestbps</th>\n",
       "      <th>chol</th>\n",
       "      <th>fbs</th>\n",
       "      <th>restecg</th>\n",
       "      <th>thalach</th>\n",
       "      <th>exang</th>\n",
       "      <th>oldpeak</th>\n",
       "      <th>slope</th>\n",
       "      <th>ca</th>\n",
       "      <th>thal</th>\n",
       "      <th>target</th>\n",
       "    </tr>\n",
       "  </thead>\n",
       "  <tbody>\n",
       "    <tr>\n",
       "      <th>0</th>\n",
       "      <td>63</td>\n",
       "      <td>1</td>\n",
       "      <td>0</td>\n",
       "      <td>145.0</td>\n",
       "      <td>233.0</td>\n",
       "      <td>1</td>\n",
       "      <td>2</td>\n",
       "      <td>150.0</td>\n",
       "      <td>0</td>\n",
       "      <td>2.3</td>\n",
       "      <td>2</td>\n",
       "      <td>0</td>\n",
       "      <td>2</td>\n",
       "      <td>0</td>\n",
       "    </tr>\n",
       "    <tr>\n",
       "      <th>1</th>\n",
       "      <td>67</td>\n",
       "      <td>1</td>\n",
       "      <td>3</td>\n",
       "      <td>160.0</td>\n",
       "      <td>286.0</td>\n",
       "      <td>0</td>\n",
       "      <td>2</td>\n",
       "      <td>108.0</td>\n",
       "      <td>1</td>\n",
       "      <td>1.5</td>\n",
       "      <td>1</td>\n",
       "      <td>3</td>\n",
       "      <td>1</td>\n",
       "      <td>1</td>\n",
       "    </tr>\n",
       "    <tr>\n",
       "      <th>2</th>\n",
       "      <td>67</td>\n",
       "      <td>1</td>\n",
       "      <td>3</td>\n",
       "      <td>120.0</td>\n",
       "      <td>229.0</td>\n",
       "      <td>0</td>\n",
       "      <td>2</td>\n",
       "      <td>129.0</td>\n",
       "      <td>1</td>\n",
       "      <td>2.6</td>\n",
       "      <td>1</td>\n",
       "      <td>2</td>\n",
       "      <td>3</td>\n",
       "      <td>1</td>\n",
       "    </tr>\n",
       "    <tr>\n",
       "      <th>3</th>\n",
       "      <td>37</td>\n",
       "      <td>1</td>\n",
       "      <td>2</td>\n",
       "      <td>130.0</td>\n",
       "      <td>250.0</td>\n",
       "      <td>0</td>\n",
       "      <td>0</td>\n",
       "      <td>187.0</td>\n",
       "      <td>0</td>\n",
       "      <td>3.5</td>\n",
       "      <td>2</td>\n",
       "      <td>0</td>\n",
       "      <td>1</td>\n",
       "      <td>0</td>\n",
       "    </tr>\n",
       "    <tr>\n",
       "      <th>4</th>\n",
       "      <td>41</td>\n",
       "      <td>0</td>\n",
       "      <td>1</td>\n",
       "      <td>130.0</td>\n",
       "      <td>204.0</td>\n",
       "      <td>0</td>\n",
       "      <td>2</td>\n",
       "      <td>172.0</td>\n",
       "      <td>0</td>\n",
       "      <td>1.4</td>\n",
       "      <td>0</td>\n",
       "      <td>0</td>\n",
       "      <td>1</td>\n",
       "      <td>0</td>\n",
       "    </tr>\n",
       "    <tr>\n",
       "      <th>...</th>\n",
       "      <td>...</td>\n",
       "      <td>...</td>\n",
       "      <td>...</td>\n",
       "      <td>...</td>\n",
       "      <td>...</td>\n",
       "      <td>...</td>\n",
       "      <td>...</td>\n",
       "      <td>...</td>\n",
       "      <td>...</td>\n",
       "      <td>...</td>\n",
       "      <td>...</td>\n",
       "      <td>...</td>\n",
       "      <td>...</td>\n",
       "      <td>...</td>\n",
       "    </tr>\n",
       "    <tr>\n",
       "      <th>298</th>\n",
       "      <td>45</td>\n",
       "      <td>1</td>\n",
       "      <td>0</td>\n",
       "      <td>110.0</td>\n",
       "      <td>264.0</td>\n",
       "      <td>0</td>\n",
       "      <td>0</td>\n",
       "      <td>132.0</td>\n",
       "      <td>0</td>\n",
       "      <td>1.2</td>\n",
       "      <td>1</td>\n",
       "      <td>0</td>\n",
       "      <td>3</td>\n",
       "      <td>1</td>\n",
       "    </tr>\n",
       "    <tr>\n",
       "      <th>299</th>\n",
       "      <td>68</td>\n",
       "      <td>1</td>\n",
       "      <td>3</td>\n",
       "      <td>144.0</td>\n",
       "      <td>193.0</td>\n",
       "      <td>1</td>\n",
       "      <td>0</td>\n",
       "      <td>141.0</td>\n",
       "      <td>0</td>\n",
       "      <td>3.4</td>\n",
       "      <td>1</td>\n",
       "      <td>2</td>\n",
       "      <td>3</td>\n",
       "      <td>1</td>\n",
       "    </tr>\n",
       "    <tr>\n",
       "      <th>300</th>\n",
       "      <td>57</td>\n",
       "      <td>1</td>\n",
       "      <td>3</td>\n",
       "      <td>130.0</td>\n",
       "      <td>131.0</td>\n",
       "      <td>0</td>\n",
       "      <td>0</td>\n",
       "      <td>115.0</td>\n",
       "      <td>1</td>\n",
       "      <td>1.2</td>\n",
       "      <td>1</td>\n",
       "      <td>1</td>\n",
       "      <td>3</td>\n",
       "      <td>1</td>\n",
       "    </tr>\n",
       "    <tr>\n",
       "      <th>301</th>\n",
       "      <td>57</td>\n",
       "      <td>0</td>\n",
       "      <td>1</td>\n",
       "      <td>130.0</td>\n",
       "      <td>236.0</td>\n",
       "      <td>0</td>\n",
       "      <td>2</td>\n",
       "      <td>174.0</td>\n",
       "      <td>0</td>\n",
       "      <td>0.0</td>\n",
       "      <td>1</td>\n",
       "      <td>1</td>\n",
       "      <td>1</td>\n",
       "      <td>1</td>\n",
       "    </tr>\n",
       "    <tr>\n",
       "      <th>302</th>\n",
       "      <td>38</td>\n",
       "      <td>1</td>\n",
       "      <td>2</td>\n",
       "      <td>138.0</td>\n",
       "      <td>175.0</td>\n",
       "      <td>0</td>\n",
       "      <td>0</td>\n",
       "      <td>173.0</td>\n",
       "      <td>0</td>\n",
       "      <td>0.0</td>\n",
       "      <td>0</td>\n",
       "      <td>0</td>\n",
       "      <td>1</td>\n",
       "      <td>0</td>\n",
       "    </tr>\n",
       "  </tbody>\n",
       "</table>\n",
       "<p>303 rows × 14 columns</p>\n",
       "</div>"
      ],
      "text/plain": [
       "     age  sex  cp  trestbps   chol  fbs  restecg  thalach  exang  oldpeak  \\\n",
       "0     63    1   0     145.0  233.0    1        2    150.0      0      2.3   \n",
       "1     67    1   3     160.0  286.0    0        2    108.0      1      1.5   \n",
       "2     67    1   3     120.0  229.0    0        2    129.0      1      2.6   \n",
       "3     37    1   2     130.0  250.0    0        0    187.0      0      3.5   \n",
       "4     41    0   1     130.0  204.0    0        2    172.0      0      1.4   \n",
       "..   ...  ...  ..       ...    ...  ...      ...      ...    ...      ...   \n",
       "298   45    1   0     110.0  264.0    0        0    132.0      0      1.2   \n",
       "299   68    1   3     144.0  193.0    1        0    141.0      0      3.4   \n",
       "300   57    1   3     130.0  131.0    0        0    115.0      1      1.2   \n",
       "301   57    0   1     130.0  236.0    0        2    174.0      0      0.0   \n",
       "302   38    1   2     138.0  175.0    0        0    173.0      0      0.0   \n",
       "\n",
       "     slope  ca  thal  target  \n",
       "0        2   0     2       0  \n",
       "1        1   3     1       1  \n",
       "2        1   2     3       1  \n",
       "3        2   0     1       0  \n",
       "4        0   0     1       0  \n",
       "..     ...  ..   ...     ...  \n",
       "298      1   0     3       1  \n",
       "299      1   2     3       1  \n",
       "300      1   1     3       1  \n",
       "301      1   1     1       1  \n",
       "302      0   0     1       0  \n",
       "\n",
       "[303 rows x 14 columns]"
      ]
     },
     "execution_count": 22,
     "metadata": {},
     "output_type": "execute_result"
    }
   ],
   "source": [
    "df_new"
   ]
  },
  {
   "cell_type": "code",
   "execution_count": 23,
   "id": "2c21a107-f0d6-4bdd-ab88-3de53838c549",
   "metadata": {},
   "outputs": [],
   "source": [
    "df_new.to_csv('df_new.csv', index=False)"
   ]
  },
  {
   "cell_type": "markdown",
   "id": "381cad45-b6a9-47d9-96f7-d5a934ec1e22",
   "metadata": {},
   "source": [
    "#### Checking Class Imbalance\n",
    "\n",
    "Since this is a classification problem, we need to check whether the target variable (target) is imbalanced."
   ]
  },
  {
   "cell_type": "code",
   "execution_count": 24,
   "id": "7fd11690-e0ec-4203-a4af-e3e13ec0cd89",
   "metadata": {},
   "outputs": [
    {
     "data": {
      "image/png": "[encoded data removed]",
      "text/plain": [
       "<Figure size 1000x500 with 1 Axes>"
      ]
     },
     "metadata": {},
     "output_type": "display_data"
    }
   ],
   "source": [
    "# Create a countplot to check class imbalance in the target variable\n",
    "plt.figure(figsize=(10, 5))\n",
    "\n",
    "# Create countplot with hue for proper color mapping\n",
    "ax = sns.countplot(\n",
    "    x=df_new['target'].astype(str), \n",
    "    hue=df_new['target'].astype(str), \n",
    "    palette={\"0\": \"green\", \"1\": \"red\"}\n",
    ")\n",
    "\n",
    "# Add legend in an appropriate location (upper right for visibility)\n",
    "plt.legend(title=\"Condition\", labels=[\"No Disease\", \"Disease\"], loc=\"upper right\")\n",
    "\n",
    "# Customizing the plot\n",
    "plt.title(\"Class Distribution of Target Variable\", fontsize=14)\n",
    "plt.xlabel(\"Target\")\n",
    "plt.ylabel(\"Count\")\n",
    "\n",
    "# Display the plot\n",
    "plt.show()"
   ]
  },
  {
   "cell_type": "code",
   "execution_count": 25,
   "id": "f56036bf-d6a2-4587-a894-886d9dae63e5",
   "metadata": {},
   "outputs": [
    {
     "data": {
      "text/plain": [
       "target\n",
       "0    54.125413\n",
       "1    45.874587\n",
       "Name: proportion, dtype: float64"
      ]
     },
     "execution_count": 25,
     "metadata": {},
     "output_type": "execute_result"
    }
   ],
   "source": [
    "# Check class distribution numerically\n",
    "class_distribution = df_new['target'].value_counts(normalize=True) * 100\n",
    "\n",
    "class_distribution"
   ]
  },
  {
   "cell_type": "markdown",
   "id": "f149cda1-f8b6-4224-ae95-8afc03cd90fe",
   "metadata": {},
   "source": [
    "The class distribution analysis of the target variable indicates that the dataset is moderately balanced, with:\n",
    "* 54.13% of patients having no heart disease (target = 0, green)\n",
    "* 45.87% of patients having heart disease (target = 1, red)\n",
    "  \n",
    "This suggests that no significant class imbalance exists, and standard machine learning models should not be heavily biased toward one. So, we do not necessarily need to balance (oversampling the minority set or undersampling the majority set) the target variable."
   ]
  },
  {
   "cell_type": "markdown",
   "id": "f388c461-bc76-43c7-bbed-2715ad991831",
   "metadata": {},
   "source": [
    "#### Feature Correlation Analysis\n",
    "\n",
    "We now check to see how strongly the features are correlated with each other and with the target variable using a heatmap."
   ]
  },
  {
   "cell_type": "code",
   "execution_count": 26,
   "id": "aebc628d-0178-488a-9edc-5851a647373e",
   "metadata": {},
   "outputs": [
    {
     "data": {
      "image/png": "[encoded data removed]",
      "text/plain": [
       "<Figure size 1200x800 with 2 Axes>"
      ]
     },
     "metadata": {},
     "output_type": "display_data"
    }
   ],
   "source": [
    "# Compute the correlation matrix\n",
    "corr_matrix = df_new.corr()\n",
    "\n",
    "# Plot the heatmap\n",
    "plt.figure(figsize=(12, 8))\n",
    "sns.heatmap(corr_matrix, annot=True, cmap=\"coolwarm\", fmt=\".2f\", linewidths=0.5)\n",
    "\n",
    "# Set the title\n",
    "plt.title(\"Correlation Matrix Heatmap\")\n",
    "\n",
    "# Show the plot\n",
    "plt.show()\n",
    "\n",
    "# Extract correlations with the target variable\n",
    "target_correlation = corr_matrix[\"target\"].sort_values(ascending=False)"
   ]
  },
  {
   "cell_type": "code",
   "execution_count": 27,
   "id": "5d085755-a849-4228-9025-eae44d63c1d3",
   "metadata": {},
   "outputs": [
    {
     "data": {
      "text/plain": [
       "target      1.000000\n",
       "thal        0.515894\n",
       "ca          0.460033\n",
       "exang       0.431894\n",
       "oldpeak     0.430309\n",
       "cp          0.414446\n",
       "slope       0.339213\n",
       "sex         0.276816\n",
       "age         0.223120\n",
       "restecg     0.169202\n",
       "trestbps    0.144980\n",
       "chol        0.103896\n",
       "fbs         0.025264\n",
       "thalach    -0.417624\n",
       "Name: target, dtype: float64"
      ]
     },
     "execution_count": 27,
     "metadata": {},
     "output_type": "execute_result"
    }
   ],
   "source": [
    "target_correlation"
   ]
  },
  {
   "cell_type": "code",
   "execution_count": 28,
   "id": "e2d29521-c097-4dbf-ac14-625dd9f3bce1",
   "metadata": {},
   "outputs": [
    {
     "data": {
      "image/png": "[encoded data removed]",
      "text/plain": [
       "<Figure size 800x600 with 1 Axes>"
      ]
     },
     "metadata": {},
     "output_type": "display_data"
    },
    {
     "data": {
      "text/plain": [
       "target      1.000000\n",
       "thal        0.515894\n",
       "ca          0.460033\n",
       "exang       0.431894\n",
       "oldpeak     0.430309\n",
       "cp          0.414446\n",
       "slope       0.339213\n",
       "sex         0.276816\n",
       "age         0.223120\n",
       "restecg     0.169202\n",
       "trestbps    0.144980\n",
       "chol        0.103896\n",
       "fbs         0.025264\n",
       "thalach    -0.417624\n",
       "Name: target, dtype: float64"
      ]
     },
     "execution_count": 28,
     "metadata": {},
     "output_type": "execute_result"
    }
   ],
   "source": [
    "# Extract correlation of features with target\n",
    "target_correlation = corr_matrix[\"target\"].sort_values(ascending=False)\n",
    "\n",
    "# Visualize correlation with target\n",
    "plt.figure(figsize=(8, 6))\n",
    "sns.barplot(x=target_correlation.index, y=target_correlation.values, palette=\"coolwarm\")\n",
    "plt.xticks(rotation=90)\n",
    "plt.xlabel(\"Features\")\n",
    "plt.ylabel(\"Correlation with Target\")\n",
    "plt.title(\"Feature Correlation with Target\")\n",
    "plt.show()\n",
    "\n",
    "# Display the correlation values\n",
    "target_correlation"
   ]
  },
  {
   "cell_type": "markdown",
   "id": "e8ea3d14-c8d0-4b68-9ba9-b0daa7300647",
   "metadata": {},
   "source": [
    "Since the correlation between the target and the features varies, we will analyze their importance further before deciding which features to keep.\n",
    "\n",
    "The heatmap reveals key insights:\n",
    "* thal (Thalassemia or Thalium stress test result) has the highest correlation with the target variable, with a value of 0.5159. This indicates that higher thal values are associated with an increased likelihood of heart disease.\n",
    "\n",
    "* thalach (Maximum Heart Rate Achieved) has the lowest correlation with the target variable, with a value of -0.4172. This negative correlation suggests that higher thalach values correspond to a lower probability of heart disease, meaning that individuals with a higher maximum heart rate achieved are less likely to have heart disease.\n",
    "\n",
    "* Some features, such as ca (number of major vessels colored by fluoroscopy), exang (exercise-induced angina), and oldpeak (ST depression induced by exercise), have strong correlations with the target variable, indicating they may be strong predictors of heart disease.\n",
    "On the other hand, trestbps (resting blood pressure), chol (cholesterol level), and fbs (fasting blood sugar) show weak correlations, suggesting they may not be strong indicators of heart disease in this dataset."
   ]
  },
  {
   "cell_type": "markdown",
   "id": "15d53f4c-b99d-4d91-8e9d-dbc9a9c0fab4",
   "metadata": {},
   "source": [
    "We can draw the following conclusions from feature correlation analysis:\n",
    "\n",
    "*  No multicollinearity issue (No highly correlated features)\n",
    "*  All features are potentially Relevant\n",
    "      * Each feature has a logical medical significance in predicting heart disease. Even features with low correlation (e.g., chol or fbs) may still contribute to model performance when combined with others.\n",
    "* No highly sparse or irrelevant features:\n",
    "    * features like slope, ca, and thal have moderate correlations with target, meaning they contribute meaningful patterns.\n",
    "    * features such as chol and fbs have low correlations, but removing them prematurely could reduce generalizability.\n",
    "    * Only drop a feature if it is completely irrelevant or introduces noise—which is not the case with the features of this dataset."
   ]
  },
  {
   "cell_type": "markdown",
   "id": "d8fa9af8-183d-48a8-b905-183726fd6927",
   "metadata": {},
   "source": [
    "Note:\n",
    "* Correlation alone is not a sufficient criterion for feature selection; we will also consider techniques like feature importance from a trained model, multicollinearity analysis, and domain knowledge before finalizing our feature set.\n",
    "\n",
    "* Since this datset is small and therefore having little risk of egatively impact performance, we will use all the features."
   ]
  },
  {
   "cell_type": "markdown",
   "id": "334f39de-0da0-4cb9-867d-e9afef796684",
   "metadata": {},
   "source": [
    "#### Encoding and Scaling the Features"
   ]
  },
  {
   "cell_type": "markdown",
   "id": "ff85aeda-f07c-4cff-8e76-93c33af0cd74",
   "metadata": {},
   "source": [
    "##### Feature Encoding"
   ]
  },
  {
   "cell_type": "code",
   "execution_count": 29,
   "id": "daf23934-b1a2-4d5f-a3f5-7d84884db15e",
   "metadata": {},
   "outputs": [
    {
     "name": "stdout",
     "output_type": "stream",
     "text": [
      "    Feature  Number of Unique Values  Total Count\n",
      "1       sex                        2          303\n",
      "2        cp                        4          303\n",
      "5       fbs                        2          303\n",
      "6   restecg                        3          303\n",
      "8     exang                        2          303\n",
      "10    slope                        3          303\n",
      "11       ca                        4          303\n",
      "12     thal                        3          303\n",
      "13   target                        2          303\n"
     ]
    }
   ],
   "source": [
    "# Define original numerical features before encoding\n",
    "original_cols = df.columns.tolist()\n",
    "\n",
    "# Count the number of unique values per original feature (handling categorical & numerical separately)\n",
    "unique_counts = {\n",
    "    col: len(df[col].unique()) if len(df[col].unique()) < 10 else len(df[col].unique()[:])\n",
    "    for col in original_cols\n",
    "}\n",
    "\n",
    "# Count total occurrences of each feature (which should be equal to the total number of rows in df)\n",
    "total_counts = {col: df.shape[0] for col in original_cols}\n",
    "\n",
    "# Create a DataFrame to display the results\n",
    "summary_df = pd.DataFrame({\n",
    "    \"Number of Unique Values\": unique_counts,\n",
    "    \"Total Count\": total_counts\n",
    "})\n",
    "\n",
    "# Reset index so feature names become a column\n",
    "summary_df = summary_df.reset_index().rename(columns={'index': 'Feature'})\n",
    "\n",
    "# Identify categorical columns (assuming numerical_cols is defined)\n",
    "categorical_cols = [col for col in original_cols if col not in numerical_cols]\n",
    "\n",
    "# Select rows where 'Feature' matches categorical_cols\n",
    "categorical_summary = summary_df[summary_df['Feature'].isin(categorical_cols)]\n",
    "\n",
    "# Display the filtered summary\n",
    "print(categorical_summary)\n"
   ]
  },
  {
   "cell_type": "markdown",
   "id": "5c65c1b0-fc3c-4474-a628-edb843ec1753",
   "metadata": {},
   "source": [
    "The dataset contains categorical variables like:\n",
    "\n",
    "* Sex (sex) is binary (0 = Female, 1 = Male) and nominal\n",
    "* Chest pain type (cp) is Multi-category ( 0: Typical angina, 1: Atypical angina, 2: Non-anginal pain, 3: Asymptomatic) and ordinal\n",
    "* Thalium stress test result (thal) is Multi-category ( 0: Normal, 1: Fixed defect, 2: Reversible defect, 3: Not described) and ordinal\n",
    "* Fasting blood sugar level, categorized as above 120 mg/dl (fps) is binary (1 = true, 0 = false) and nominal\n",
    "* Resting electrocardiographic results (restecg) is multi-category  (0: Normal, 1: Having ST-T wave abnormality, 2: Showing probable or definite left ventricular hypertrophy) and ordinal\n",
    "* Exercise-induced angina (exang) is binary (1 = yes, 0 = no) and nominal\n",
    "* Slope of the peak exercise ST segment is Multi-category ( 0: Upsloping, 1: Flat, 2: Downsloping) and ordinal\n",
    "* Number of major vessels (ca) is multi-category (0-4 colored by fluoroscopy) and nominal\n",
    "* Heart disease status (target) is binary (0 = no disease, 1 = presence of disease) and nominal\n",
    "\n",
    "#### When to Use One-Hot and Label Encoding\n",
    "* We'll use One-Hot Encoding (OHE) for nominal multi-category features and Label Encoding for ordinal multi-category features.\n",
    "* We will not encode binary features (nominal or ordinal) because their numerical values naturally carry meaningful ranking information (for ordinal cases) or are already in a usable format. Applying One-Hot Encoding (OHE) to binary features would be redundant, while Label Encoding is unnecessary as the data is already numerical.\n",
    "  "
   ]
  },
  {
   "cell_type": "markdown",
   "id": "c21d31b4-a10d-48b4-8bde-8563aefacf04",
   "metadata": {},
   "source": [
    "#####  Feature Scaling\n",
    "To ensure that all features contribute equally to the model to prevent dominance by features with larger numerical values, we scale the features by either normalizing or standardizing them.\n",
    "\n",
    "Scaling depends on the specific model and is typically applied after train-test splitting to prevent data leakage, ensuring that scaling parameters are learned only from the training set and applied consistently to both training and test data."
   ]
  },
  {
   "cell_type": "markdown",
   "id": "c6313e89-ea2d-4fb6-9ce6-f3a4be8e854c",
   "metadata": {},
   "source": [
    "## Step 7: Model Building"
   ]
  },
  {
   "cell_type": "markdown",
   "id": "a949921c-a781-42d8-9462-5e3d795000b4",
   "metadata": {},
   "source": [
    "### Logistic Regression\n",
    "\n",
    "Since there are no multicollinearity issues, missing values, and the dataset is small, we retain all features and let Logistic Regression assign appropriate weights."
   ]
  },
  {
   "cell_type": "markdown",
   "id": "25bb64f3-3388-410e-8d04-776420e9eaed",
   "metadata": {},
   "source": [
    "#### Encoding Categorical Features for Logistic Regression"
   ]
  },
  {
   "cell_type": "code",
   "execution_count": 30,
   "id": "9e54c0b6-a202-48df-aec1-9874c534236d",
   "metadata": {},
   "outputs": [
    {
     "data": {
      "text/html": [
       "<div>\n",
       "<style scoped>\n",
       "    .dataframe tbody tr th:only-of-type {\n",
       "        vertical-align: middle;\n",
       "    }\n",
       "\n",
       "    .dataframe tbody tr th {\n",
       "        vertical-align: top;\n",
       "    }\n",
       "\n",
       "    .dataframe thead th {\n",
       "        text-align: right;\n",
       "    }\n",
       "</style>\n",
       "<table border=\"1\" class=\"dataframe\">\n",
       "  <thead>\n",
       "    <tr style=\"text-align: right;\">\n",
       "      <th></th>\n",
       "      <th>sex</th>\n",
       "      <th>cp</th>\n",
       "      <th>fbs</th>\n",
       "      <th>restecg</th>\n",
       "      <th>exang</th>\n",
       "      <th>slope</th>\n",
       "      <th>ca</th>\n",
       "      <th>thal</th>\n",
       "      <th>target</th>\n",
       "    </tr>\n",
       "  </thead>\n",
       "  <tbody>\n",
       "    <tr>\n",
       "      <th>0</th>\n",
       "      <td>1</td>\n",
       "      <td>0</td>\n",
       "      <td>1</td>\n",
       "      <td>2</td>\n",
       "      <td>0</td>\n",
       "      <td>2</td>\n",
       "      <td>0</td>\n",
       "      <td>2</td>\n",
       "      <td>0</td>\n",
       "    </tr>\n",
       "    <tr>\n",
       "      <th>1</th>\n",
       "      <td>1</td>\n",
       "      <td>3</td>\n",
       "      <td>0</td>\n",
       "      <td>2</td>\n",
       "      <td>1</td>\n",
       "      <td>1</td>\n",
       "      <td>3</td>\n",
       "      <td>1</td>\n",
       "      <td>1</td>\n",
       "    </tr>\n",
       "    <tr>\n",
       "      <th>2</th>\n",
       "      <td>1</td>\n",
       "      <td>3</td>\n",
       "      <td>0</td>\n",
       "      <td>2</td>\n",
       "      <td>1</td>\n",
       "      <td>1</td>\n",
       "      <td>2</td>\n",
       "      <td>3</td>\n",
       "      <td>1</td>\n",
       "    </tr>\n",
       "    <tr>\n",
       "      <th>3</th>\n",
       "      <td>1</td>\n",
       "      <td>2</td>\n",
       "      <td>0</td>\n",
       "      <td>0</td>\n",
       "      <td>0</td>\n",
       "      <td>2</td>\n",
       "      <td>0</td>\n",
       "      <td>1</td>\n",
       "      <td>0</td>\n",
       "    </tr>\n",
       "    <tr>\n",
       "      <th>4</th>\n",
       "      <td>0</td>\n",
       "      <td>1</td>\n",
       "      <td>0</td>\n",
       "      <td>2</td>\n",
       "      <td>0</td>\n",
       "      <td>0</td>\n",
       "      <td>0</td>\n",
       "      <td>1</td>\n",
       "      <td>0</td>\n",
       "    </tr>\n",
       "    <tr>\n",
       "      <th>...</th>\n",
       "      <td>...</td>\n",
       "      <td>...</td>\n",
       "      <td>...</td>\n",
       "      <td>...</td>\n",
       "      <td>...</td>\n",
       "      <td>...</td>\n",
       "      <td>...</td>\n",
       "      <td>...</td>\n",
       "      <td>...</td>\n",
       "    </tr>\n",
       "    <tr>\n",
       "      <th>298</th>\n",
       "      <td>1</td>\n",
       "      <td>0</td>\n",
       "      <td>0</td>\n",
       "      <td>0</td>\n",
       "      <td>0</td>\n",
       "      <td>1</td>\n",
       "      <td>0</td>\n",
       "      <td>3</td>\n",
       "      <td>1</td>\n",
       "    </tr>\n",
       "    <tr>\n",
       "      <th>299</th>\n",
       "      <td>1</td>\n",
       "      <td>3</td>\n",
       "      <td>1</td>\n",
       "      <td>0</td>\n",
       "      <td>0</td>\n",
       "      <td>1</td>\n",
       "      <td>2</td>\n",
       "      <td>3</td>\n",
       "      <td>1</td>\n",
       "    </tr>\n",
       "    <tr>\n",
       "      <th>300</th>\n",
       "      <td>1</td>\n",
       "      <td>3</td>\n",
       "      <td>0</td>\n",
       "      <td>0</td>\n",
       "      <td>1</td>\n",
       "      <td>1</td>\n",
       "      <td>1</td>\n",
       "      <td>3</td>\n",
       "      <td>1</td>\n",
       "    </tr>\n",
       "    <tr>\n",
       "      <th>301</th>\n",
       "      <td>0</td>\n",
       "      <td>1</td>\n",
       "      <td>0</td>\n",
       "      <td>2</td>\n",
       "      <td>0</td>\n",
       "      <td>1</td>\n",
       "      <td>1</td>\n",
       "      <td>1</td>\n",
       "      <td>1</td>\n",
       "    </tr>\n",
       "    <tr>\n",
       "      <th>302</th>\n",
       "      <td>1</td>\n",
       "      <td>2</td>\n",
       "      <td>0</td>\n",
       "      <td>0</td>\n",
       "      <td>0</td>\n",
       "      <td>0</td>\n",
       "      <td>0</td>\n",
       "      <td>1</td>\n",
       "      <td>0</td>\n",
       "    </tr>\n",
       "  </tbody>\n",
       "</table>\n",
       "<p>303 rows × 9 columns</p>\n",
       "</div>"
      ],
      "text/plain": [
       "     sex  cp  fbs  restecg  exang  slope  ca  thal  target\n",
       "0      1   0    1        2      0      2   0     2       0\n",
       "1      1   3    0        2      1      1   3     1       1\n",
       "2      1   3    0        2      1      1   2     3       1\n",
       "3      1   2    0        0      0      2   0     1       0\n",
       "4      0   1    0        2      0      0   0     1       0\n",
       "..   ...  ..  ...      ...    ...    ...  ..   ...     ...\n",
       "298    1   0    0        0      0      1   0     3       1\n",
       "299    1   3    1        0      0      1   2     3       1\n",
       "300    1   3    0        0      1      1   1     3       1\n",
       "301    0   1    0        2      0      1   1     1       1\n",
       "302    1   2    0        0      0      0   0     1       0\n",
       "\n",
       "[303 rows x 9 columns]"
      ]
     },
     "execution_count": 30,
     "metadata": {},
     "output_type": "execute_result"
    }
   ],
   "source": [
    "df_new[categorical_cols]"
   ]
  },
  {
   "cell_type": "code",
   "execution_count": 31,
   "id": "1960da3b-4b0c-4039-a526-94b536f439d9",
   "metadata": {},
   "outputs": [],
   "source": [
    "# Define categorical features as Nominal or Ordinal based on dataset description\n",
    "categorical_features = {\n",
    "    'sex': 'Nominal',        # Binary categorical (Male/Female)\n",
    "    'cp': 'Ordinal',         # Chest pain type (have order)\n",
    "    'fbs': 'Nominal',        # Binary categorical (true/false for fasting blood sugar)\n",
    "    'restecg': 'Ordinal',    # ECG results (no order)\n",
    "    'exang': 'Nominal',      # Binary categorical (yes/no for exercise-induced angina)\n",
    "    'slope': 'Ordinal',      # Ordered categories for ST segment slope\n",
    "    'ca': 'Nominal',         # Ordered categories for number of major vessels\n",
    "    'thal': 'Ordinal',       # Thalium stress test result (categories but no meaningful order)\n",
    "    'target': 'Nominal'      # Binary categorical (heart disease presence)\n",
    "}\n",
    "\n",
    "# Create separate lists for Nominal and Ordinal features\n",
    "nominal_features = [feature for feature, category in categorical_features.items() if category == 'Nominal']\n",
    "ordinal_features = [feature for feature, category in categorical_features.items() if category == 'Ordinal']\n",
    "\n",
    "# Create DataFrames for display\n",
    "nominal_df = pd.DataFrame({'Nominal Features': nominal_features})\n",
    "ordinal_df = pd.DataFrame({'Ordinal Features': ordinal_features})\n"
   ]
  },
  {
   "cell_type": "code",
   "execution_count": 32,
   "id": "a26f9413-ab8c-4ddf-8096-65172df22e16",
   "metadata": {},
   "outputs": [
    {
     "data": {
      "text/html": [
       "<div>\n",
       "<style scoped>\n",
       "    .dataframe tbody tr th:only-of-type {\n",
       "        vertical-align: middle;\n",
       "    }\n",
       "\n",
       "    .dataframe tbody tr th {\n",
       "        vertical-align: top;\n",
       "    }\n",
       "\n",
       "    .dataframe thead th {\n",
       "        text-align: right;\n",
       "    }\n",
       "</style>\n",
       "<table border=\"1\" class=\"dataframe\">\n",
       "  <thead>\n",
       "    <tr style=\"text-align: right;\">\n",
       "      <th></th>\n",
       "      <th>Nominal Features</th>\n",
       "    </tr>\n",
       "  </thead>\n",
       "  <tbody>\n",
       "    <tr>\n",
       "      <th>0</th>\n",
       "      <td>sex</td>\n",
       "    </tr>\n",
       "    <tr>\n",
       "      <th>1</th>\n",
       "      <td>fbs</td>\n",
       "    </tr>\n",
       "    <tr>\n",
       "      <th>2</th>\n",
       "      <td>exang</td>\n",
       "    </tr>\n",
       "    <tr>\n",
       "      <th>3</th>\n",
       "      <td>ca</td>\n",
       "    </tr>\n",
       "    <tr>\n",
       "      <th>4</th>\n",
       "      <td>target</td>\n",
       "    </tr>\n",
       "  </tbody>\n",
       "</table>\n",
       "</div>"
      ],
      "text/plain": [
       "  Nominal Features\n",
       "0              sex\n",
       "1              fbs\n",
       "2            exang\n",
       "3               ca\n",
       "4           target"
      ]
     },
     "execution_count": 32,
     "metadata": {},
     "output_type": "execute_result"
    }
   ],
   "source": [
    "nominal_df"
   ]
  },
  {
   "cell_type": "code",
   "execution_count": 33,
   "id": "de98dfd0-b3c1-466a-a50f-0b10e1c08840",
   "metadata": {},
   "outputs": [
    {
     "data": {
      "text/html": [
       "<div>\n",
       "<style scoped>\n",
       "    .dataframe tbody tr th:only-of-type {\n",
       "        vertical-align: middle;\n",
       "    }\n",
       "\n",
       "    .dataframe tbody tr th {\n",
       "        vertical-align: top;\n",
       "    }\n",
       "\n",
       "    .dataframe thead th {\n",
       "        text-align: right;\n",
       "    }\n",
       "</style>\n",
       "<table border=\"1\" class=\"dataframe\">\n",
       "  <thead>\n",
       "    <tr style=\"text-align: right;\">\n",
       "      <th></th>\n",
       "      <th>Ordinal Features</th>\n",
       "    </tr>\n",
       "  </thead>\n",
       "  <tbody>\n",
       "    <tr>\n",
       "      <th>0</th>\n",
       "      <td>cp</td>\n",
       "    </tr>\n",
       "    <tr>\n",
       "      <th>1</th>\n",
       "      <td>restecg</td>\n",
       "    </tr>\n",
       "    <tr>\n",
       "      <th>2</th>\n",
       "      <td>slope</td>\n",
       "    </tr>\n",
       "    <tr>\n",
       "      <th>3</th>\n",
       "      <td>thal</td>\n",
       "    </tr>\n",
       "  </tbody>\n",
       "</table>\n",
       "</div>"
      ],
      "text/plain": [
       "  Ordinal Features\n",
       "0               cp\n",
       "1          restecg\n",
       "2            slope\n",
       "3             thal"
      ]
     },
     "execution_count": 33,
     "metadata": {},
     "output_type": "execute_result"
    }
   ],
   "source": [
    "ordinal_df"
   ]
  },
  {
   "cell_type": "code",
   "execution_count": 34,
   "id": "ea0cc0c0-ec92-4782-b85e-77ad4698cd20",
   "metadata": {},
   "outputs": [
    {
     "data": {
      "text/html": [
       "<div>\n",
       "<style scoped>\n",
       "    .dataframe tbody tr th:only-of-type {\n",
       "        vertical-align: middle;\n",
       "    }\n",
       "\n",
       "    .dataframe tbody tr th {\n",
       "        vertical-align: top;\n",
       "    }\n",
       "\n",
       "    .dataframe thead th {\n",
       "        text-align: right;\n",
       "    }\n",
       "</style>\n",
       "<table border=\"1\" class=\"dataframe\">\n",
       "  <thead>\n",
       "    <tr style=\"text-align: right;\">\n",
       "      <th></th>\n",
       "      <th>age</th>\n",
       "      <th>sex</th>\n",
       "      <th>cp</th>\n",
       "      <th>trestbps</th>\n",
       "      <th>chol</th>\n",
       "      <th>fbs</th>\n",
       "      <th>restecg</th>\n",
       "      <th>thalach</th>\n",
       "      <th>exang</th>\n",
       "      <th>oldpeak</th>\n",
       "      <th>slope</th>\n",
       "      <th>thal</th>\n",
       "      <th>target</th>\n",
       "      <th>ca_1</th>\n",
       "      <th>ca_2</th>\n",
       "      <th>ca_3</th>\n",
       "    </tr>\n",
       "  </thead>\n",
       "  <tbody>\n",
       "    <tr>\n",
       "      <th>0</th>\n",
       "      <td>63</td>\n",
       "      <td>1</td>\n",
       "      <td>0</td>\n",
       "      <td>145.0</td>\n",
       "      <td>233.0</td>\n",
       "      <td>1</td>\n",
       "      <td>2</td>\n",
       "      <td>150.0</td>\n",
       "      <td>0</td>\n",
       "      <td>2.3</td>\n",
       "      <td>2</td>\n",
       "      <td>1</td>\n",
       "      <td>0</td>\n",
       "      <td>0</td>\n",
       "      <td>0</td>\n",
       "      <td>0</td>\n",
       "    </tr>\n",
       "    <tr>\n",
       "      <th>1</th>\n",
       "      <td>67</td>\n",
       "      <td>1</td>\n",
       "      <td>3</td>\n",
       "      <td>160.0</td>\n",
       "      <td>286.0</td>\n",
       "      <td>0</td>\n",
       "      <td>2</td>\n",
       "      <td>108.0</td>\n",
       "      <td>1</td>\n",
       "      <td>1.5</td>\n",
       "      <td>1</td>\n",
       "      <td>0</td>\n",
       "      <td>1</td>\n",
       "      <td>0</td>\n",
       "      <td>0</td>\n",
       "      <td>1</td>\n",
       "    </tr>\n",
       "    <tr>\n",
       "      <th>2</th>\n",
       "      <td>67</td>\n",
       "      <td>1</td>\n",
       "      <td>3</td>\n",
       "      <td>120.0</td>\n",
       "      <td>229.0</td>\n",
       "      <td>0</td>\n",
       "      <td>2</td>\n",
       "      <td>129.0</td>\n",
       "      <td>1</td>\n",
       "      <td>2.6</td>\n",
       "      <td>1</td>\n",
       "      <td>2</td>\n",
       "      <td>1</td>\n",
       "      <td>0</td>\n",
       "      <td>1</td>\n",
       "      <td>0</td>\n",
       "    </tr>\n",
       "    <tr>\n",
       "      <th>3</th>\n",
       "      <td>37</td>\n",
       "      <td>1</td>\n",
       "      <td>2</td>\n",
       "      <td>130.0</td>\n",
       "      <td>250.0</td>\n",
       "      <td>0</td>\n",
       "      <td>0</td>\n",
       "      <td>187.0</td>\n",
       "      <td>0</td>\n",
       "      <td>3.5</td>\n",
       "      <td>2</td>\n",
       "      <td>0</td>\n",
       "      <td>0</td>\n",
       "      <td>0</td>\n",
       "      <td>0</td>\n",
       "      <td>0</td>\n",
       "    </tr>\n",
       "    <tr>\n",
       "      <th>4</th>\n",
       "      <td>41</td>\n",
       "      <td>0</td>\n",
       "      <td>1</td>\n",
       "      <td>130.0</td>\n",
       "      <td>204.0</td>\n",
       "      <td>0</td>\n",
       "      <td>2</td>\n",
       "      <td>172.0</td>\n",
       "      <td>0</td>\n",
       "      <td>1.4</td>\n",
       "      <td>0</td>\n",
       "      <td>0</td>\n",
       "      <td>0</td>\n",
       "      <td>0</td>\n",
       "      <td>0</td>\n",
       "      <td>0</td>\n",
       "    </tr>\n",
       "    <tr>\n",
       "      <th>...</th>\n",
       "      <td>...</td>\n",
       "      <td>...</td>\n",
       "      <td>...</td>\n",
       "      <td>...</td>\n",
       "      <td>...</td>\n",
       "      <td>...</td>\n",
       "      <td>...</td>\n",
       "      <td>...</td>\n",
       "      <td>...</td>\n",
       "      <td>...</td>\n",
       "      <td>...</td>\n",
       "      <td>...</td>\n",
       "      <td>...</td>\n",
       "      <td>...</td>\n",
       "      <td>...</td>\n",
       "      <td>...</td>\n",
       "    </tr>\n",
       "    <tr>\n",
       "      <th>298</th>\n",
       "      <td>45</td>\n",
       "      <td>1</td>\n",
       "      <td>0</td>\n",
       "      <td>110.0</td>\n",
       "      <td>264.0</td>\n",
       "      <td>0</td>\n",
       "      <td>0</td>\n",
       "      <td>132.0</td>\n",
       "      <td>0</td>\n",
       "      <td>1.2</td>\n",
       "      <td>1</td>\n",
       "      <td>2</td>\n",
       "      <td>1</td>\n",
       "      <td>0</td>\n",
       "      <td>0</td>\n",
       "      <td>0</td>\n",
       "    </tr>\n",
       "    <tr>\n",
       "      <th>299</th>\n",
       "      <td>68</td>\n",
       "      <td>1</td>\n",
       "      <td>3</td>\n",
       "      <td>144.0</td>\n",
       "      <td>193.0</td>\n",
       "      <td>1</td>\n",
       "      <td>0</td>\n",
       "      <td>141.0</td>\n",
       "      <td>0</td>\n",
       "      <td>3.4</td>\n",
       "      <td>1</td>\n",
       "      <td>2</td>\n",
       "      <td>1</td>\n",
       "      <td>0</td>\n",
       "      <td>1</td>\n",
       "      <td>0</td>\n",
       "    </tr>\n",
       "    <tr>\n",
       "      <th>300</th>\n",
       "      <td>57</td>\n",
       "      <td>1</td>\n",
       "      <td>3</td>\n",
       "      <td>130.0</td>\n",
       "      <td>131.0</td>\n",
       "      <td>0</td>\n",
       "      <td>0</td>\n",
       "      <td>115.0</td>\n",
       "      <td>1</td>\n",
       "      <td>1.2</td>\n",
       "      <td>1</td>\n",
       "      <td>2</td>\n",
       "      <td>1</td>\n",
       "      <td>1</td>\n",
       "      <td>0</td>\n",
       "      <td>0</td>\n",
       "    </tr>\n",
       "    <tr>\n",
       "      <th>301</th>\n",
       "      <td>57</td>\n",
       "      <td>0</td>\n",
       "      <td>1</td>\n",
       "      <td>130.0</td>\n",
       "      <td>236.0</td>\n",
       "      <td>0</td>\n",
       "      <td>2</td>\n",
       "      <td>174.0</td>\n",
       "      <td>0</td>\n",
       "      <td>0.0</td>\n",
       "      <td>1</td>\n",
       "      <td>0</td>\n",
       "      <td>1</td>\n",
       "      <td>1</td>\n",
       "      <td>0</td>\n",
       "      <td>0</td>\n",
       "    </tr>\n",
       "    <tr>\n",
       "      <th>302</th>\n",
       "      <td>38</td>\n",
       "      <td>1</td>\n",
       "      <td>2</td>\n",
       "      <td>138.0</td>\n",
       "      <td>175.0</td>\n",
       "      <td>0</td>\n",
       "      <td>0</td>\n",
       "      <td>173.0</td>\n",
       "      <td>0</td>\n",
       "      <td>0.0</td>\n",
       "      <td>0</td>\n",
       "      <td>0</td>\n",
       "      <td>0</td>\n",
       "      <td>0</td>\n",
       "      <td>0</td>\n",
       "      <td>0</td>\n",
       "    </tr>\n",
       "  </tbody>\n",
       "</table>\n",
       "<p>303 rows × 16 columns</p>\n",
       "</div>"
      ],
      "text/plain": [
       "     age  sex  cp  trestbps   chol  fbs  restecg  thalach  exang  oldpeak  \\\n",
       "0     63    1   0     145.0  233.0    1        2    150.0      0      2.3   \n",
       "1     67    1   3     160.0  286.0    0        2    108.0      1      1.5   \n",
       "2     67    1   3     120.0  229.0    0        2    129.0      1      2.6   \n",
       "3     37    1   2     130.0  250.0    0        0    187.0      0      3.5   \n",
       "4     41    0   1     130.0  204.0    0        2    172.0      0      1.4   \n",
       "..   ...  ...  ..       ...    ...  ...      ...      ...    ...      ...   \n",
       "298   45    1   0     110.0  264.0    0        0    132.0      0      1.2   \n",
       "299   68    1   3     144.0  193.0    1        0    141.0      0      3.4   \n",
       "300   57    1   3     130.0  131.0    0        0    115.0      1      1.2   \n",
       "301   57    0   1     130.0  236.0    0        2    174.0      0      0.0   \n",
       "302   38    1   2     138.0  175.0    0        0    173.0      0      0.0   \n",
       "\n",
       "     slope  thal  target  ca_1  ca_2  ca_3  \n",
       "0        2     1       0     0     0     0  \n",
       "1        1     0       1     0     0     1  \n",
       "2        1     2       1     0     1     0  \n",
       "3        2     0       0     0     0     0  \n",
       "4        0     0       0     0     0     0  \n",
       "..     ...   ...     ...   ...   ...   ...  \n",
       "298      1     2       1     0     0     0  \n",
       "299      1     2       1     0     1     0  \n",
       "300      1     2       1     1     0     0  \n",
       "301      1     0       1     1     0     0  \n",
       "302      0     0       0     0     0     0  \n",
       "\n",
       "[303 rows x 16 columns]"
      ]
     },
     "execution_count": 34,
     "metadata": {},
     "output_type": "execute_result"
    }
   ],
   "source": [
    "# Define categorical features for One-Hot Encoding (OHE) and ordinal features for Label Encoding\n",
    "categorical_features = ['ca']  # Nominal features for OHE\n",
    "ordinal_features = ['cp','restecg','slope', 'thal'] # Ordinal features for Label Encoding\n",
    "\n",
    "# Apply Label Encoding for ordinal features\n",
    "label_encoder = LabelEncoder()\n",
    "for col in ordinal_features:\n",
    "    df_new[col] = label_encoder.fit_transform(df_new[col])\n",
    "\n",
    "# Apply One-Hot Encoding for nominal categorical features\n",
    "df = pd.get_dummies(df_new, columns=categorical_features, drop_first=True, dtype=int)\n",
    "\n",
    "df"
   ]
  },
  {
   "cell_type": "code",
   "execution_count": 35,
   "id": "13299f20-239c-4ffa-827d-c19b9a917d64",
   "metadata": {},
   "outputs": [],
   "source": [
    "df.to_csv('df_encoded.csv', index=False)"
   ]
  },
  {
   "cell_type": "markdown",
   "id": "5e83490f-ba62-4319-b818-84b96131f8cd",
   "metadata": {},
   "source": [
    "#### Scaling Numerical Features\n",
    "\n",
    "Since Logistic Regression is sensitive to feature scaling, we will use StandardScaler for normalization to ensure numerical stability and faster convergence of the optimization algorithm (Hastie, Tibshirani, and Friedman, 2009; Pedregosa et al., 2011).\n",
    "\n",
    "**References**\n",
    "\n",
    "Hastie, T., Tibshirani, R. and Friedman, J. (2009). The Elements of Statistical Learning: Data Mining, Inference, and Prediction. 2nd edn. New York: Springer.\n",
    "Pedregosa, F., Varoquaux, G., Gramfort, A., Michel, V., Thirion, B., Grisel, O., Blondel, M., Prettenhofer, P., Weiss, R., Dubourg, V., Vanderplas, J., Passos, A., Cournapeau, D., Brucher, M., Perrot, M. and Duchesnay, E. (2011). Scikit-learn: Machine Learning in Python. Journal of Machine Learning Research, 12, pp.2825–2830."
   ]
  },
  {
   "cell_type": "code",
   "execution_count": 36,
   "id": "81a95cb3-c121-4a67-907a-05962556b281",
   "metadata": {},
   "outputs": [
    {
     "data": {
      "text/html": [
       "<div>\n",
       "<style scoped>\n",
       "    .dataframe tbody tr th:only-of-type {\n",
       "        vertical-align: middle;\n",
       "    }\n",
       "\n",
       "    .dataframe tbody tr th {\n",
       "        vertical-align: top;\n",
       "    }\n",
       "\n",
       "    .dataframe thead th {\n",
       "        text-align: right;\n",
       "    }\n",
       "</style>\n",
       "<table border=\"1\" class=\"dataframe\">\n",
       "  <thead>\n",
       "    <tr style=\"text-align: right;\">\n",
       "      <th></th>\n",
       "      <th>Features to Standardize (StandardScaler)</th>\n",
       "    </tr>\n",
       "  </thead>\n",
       "  <tbody>\n",
       "    <tr>\n",
       "      <th>0</th>\n",
       "      <td>trestbps</td>\n",
       "    </tr>\n",
       "    <tr>\n",
       "      <th>1</th>\n",
       "      <td>chol</td>\n",
       "    </tr>\n",
       "    <tr>\n",
       "      <th>2</th>\n",
       "      <td>thalach</td>\n",
       "    </tr>\n",
       "    <tr>\n",
       "      <th>3</th>\n",
       "      <td>oldpeak</td>\n",
       "    </tr>\n",
       "  </tbody>\n",
       "</table>\n",
       "</div>"
      ],
      "text/plain": [
       "  Features to Standardize (StandardScaler)\n",
       "0                                 trestbps\n",
       "1                                     chol\n",
       "2                                  thalach\n",
       "3                                  oldpeak"
      ]
     },
     "execution_count": 36,
     "metadata": {},
     "output_type": "execute_result"
    }
   ],
   "source": [
    "# Define numerical features based on dataset description\n",
    "numerical_features = ['age', 'trestbps', 'chol', 'thalach', 'oldpeak']\n",
    "\n",
    "\n",
    "# Features that need StandardScaler for Logistic Regression\n",
    "# Logistic Regression is sensitive to feature scales, so we apply StandardScaler to continuous numerical features\n",
    "features_to_scale = ['trestbps', 'chol', 'thalach', 'oldpeak']  # Excluding 'age' as it follows a natural distribution\n",
    "\n",
    "# Create DataFrames for display\n",
    "numerical_df = pd.DataFrame({'Numerical Features': numerical_features})\n",
    "scaling_df = pd.DataFrame({'Features to Standardize (StandardScaler)': features_to_scale})\n",
    "scaling_df"
   ]
  },
  {
   "cell_type": "markdown",
   "id": "5889e8c8-f7f8-4724-964d-6ab384dac7e9",
   "metadata": {},
   "source": [
    "To avoid data leakage, we will apply StandardScaler after splitting the dataset into training and testing sets."
   ]
  },
  {
   "cell_type": "markdown",
   "id": "9a5fbf0c-704e-40db-86a1-ce90009902d1",
   "metadata": {},
   "source": [
    "#### Model Training & Evaluation\n",
    "\n",
    "We'll split the dataset into training (80%) and testing (20%) sets and fit a Logistic Regression model."
   ]
  },
  {
   "cell_type": "code",
   "execution_count": 37,
   "id": "11cc6514-5aa9-4f48-831a-8c867d7e99d1",
   "metadata": {},
   "outputs": [],
   "source": [
    "# Splitting the dataset\n",
    "X = df.drop(columns=['target'])  # Features\n",
    "y = df['target']  # Target variable\n",
    "\n",
    "# The stratify=y parameter ensures that the train and test sets have the same proportion of classes as in the original dataset.\n",
    "X_train, X_test, y_train, y_test = train_test_split(X, y, test_size=0.2, random_state=42, stratify=y)"
   ]
  },
  {
   "cell_type": "code",
   "execution_count": 38,
   "id": "038ab9a8-0bd2-40d8-90f4-266bc6706a17",
   "metadata": {},
   "outputs": [
    {
     "data": {
      "text/plain": [
       "((242, 15), (242,))"
      ]
     },
     "execution_count": 38,
     "metadata": {},
     "output_type": "execute_result"
    }
   ],
   "source": [
    "X_train.shape, y_train.shape"
   ]
  },
  {
   "cell_type": "code",
   "execution_count": 39,
   "id": "550759cf-e774-4619-8be1-5b5a4ca5d1ac",
   "metadata": {},
   "outputs": [
    {
     "data": {
      "text/plain": [
       "((61, 15), (61,))"
      ]
     },
     "execution_count": 39,
     "metadata": {},
     "output_type": "execute_result"
    }
   ],
   "source": [
    "X_test.shape, y_test.shape"
   ]
  },
  {
   "cell_type": "code",
   "execution_count": 40,
   "id": "eb166f76-6da4-4bd5-93d4-e4a3d701a28b",
   "metadata": {},
   "outputs": [],
   "source": [
    "# Define numerical features to standardize\n",
    "features_to_scale = ['trestbps', 'chol', 'thalach', 'oldpeak']\n",
    "\n",
    "# Apply StandardScaler on training data\n",
    "scaler = StandardScaler()\n",
    "X_train[features_to_scale] = scaler.fit_transform(X_train[features_to_scale])  # Fit & transform on training data\n",
    "X_test[features_to_scale] = scaler.transform(X_test[features_to_scale])  # Only transform test data"
   ]
  },
  {
   "cell_type": "code",
   "execution_count": 41,
   "id": "f47280c4-5850-43b7-a072-c3e5d639e728",
   "metadata": {},
   "outputs": [
    {
     "data": {
      "text/html": [
       "<div>\n",
       "<style scoped>\n",
       "    .dataframe tbody tr th:only-of-type {\n",
       "        vertical-align: middle;\n",
       "    }\n",
       "\n",
       "    .dataframe tbody tr th {\n",
       "        vertical-align: top;\n",
       "    }\n",
       "\n",
       "    .dataframe thead th {\n",
       "        text-align: right;\n",
       "    }\n",
       "</style>\n",
       "<table border=\"1\" class=\"dataframe\">\n",
       "  <thead>\n",
       "    <tr style=\"text-align: right;\">\n",
       "      <th></th>\n",
       "      <th>trestbps</th>\n",
       "      <th>chol</th>\n",
       "      <th>thalach</th>\n",
       "      <th>oldpeak</th>\n",
       "    </tr>\n",
       "  </thead>\n",
       "  <tbody>\n",
       "    <tr>\n",
       "      <th>count</th>\n",
       "      <td>2.420000e+02</td>\n",
       "      <td>2.420000e+02</td>\n",
       "      <td>2.420000e+02</td>\n",
       "      <td>2.420000e+02</td>\n",
       "    </tr>\n",
       "    <tr>\n",
       "      <th>mean</th>\n",
       "      <td>8.074349e-16</td>\n",
       "      <td>1.908483e-16</td>\n",
       "      <td>-2.202095e-16</td>\n",
       "      <td>1.468064e-17</td>\n",
       "    </tr>\n",
       "    <tr>\n",
       "      <th>std</th>\n",
       "      <td>1.002073e+00</td>\n",
       "      <td>1.002073e+00</td>\n",
       "      <td>1.002073e+00</td>\n",
       "      <td>1.002073e+00</td>\n",
       "    </tr>\n",
       "    <tr>\n",
       "      <th>min</th>\n",
       "      <td>-2.204766e+00</td>\n",
       "      <td>-2.571953e+00</td>\n",
       "      <td>-2.906322e+00</td>\n",
       "      <td>-9.275599e-01</td>\n",
       "    </tr>\n",
       "    <tr>\n",
       "      <th>25%</th>\n",
       "      <td>-6.393872e-01</td>\n",
       "      <td>-7.656058e-01</td>\n",
       "      <td>-6.910571e-01</td>\n",
       "      <td>-9.275599e-01</td>\n",
       "    </tr>\n",
       "    <tr>\n",
       "      <th>50%</th>\n",
       "      <td>-3.731832e-02</td>\n",
       "      <td>-8.297463e-02</td>\n",
       "      <td>1.549738e-01</td>\n",
       "      <td>-1.717703e-01</td>\n",
       "    </tr>\n",
       "    <tr>\n",
       "      <th>75%</th>\n",
       "      <td>5.647506e-01</td>\n",
       "      <td>6.154096e-01</td>\n",
       "      <td>7.115731e-01</td>\n",
       "      <td>5.840192e-01</td>\n",
       "    </tr>\n",
       "    <tr>\n",
       "      <th>max</th>\n",
       "      <td>2.370957e+00</td>\n",
       "      <td>2.574036e+00</td>\n",
       "      <td>2.314579e+00</td>\n",
       "      <td>2.851388e+00</td>\n",
       "    </tr>\n",
       "  </tbody>\n",
       "</table>\n",
       "</div>"
      ],
      "text/plain": [
       "           trestbps          chol       thalach       oldpeak\n",
       "count  2.420000e+02  2.420000e+02  2.420000e+02  2.420000e+02\n",
       "mean   8.074349e-16  1.908483e-16 -2.202095e-16  1.468064e-17\n",
       "std    1.002073e+00  1.002073e+00  1.002073e+00  1.002073e+00\n",
       "min   -2.204766e+00 -2.571953e+00 -2.906322e+00 -9.275599e-01\n",
       "25%   -6.393872e-01 -7.656058e-01 -6.910571e-01 -9.275599e-01\n",
       "50%   -3.731832e-02 -8.297463e-02  1.549738e-01 -1.717703e-01\n",
       "75%    5.647506e-01  6.154096e-01  7.115731e-01  5.840192e-01\n",
       "max    2.370957e+00  2.574036e+00  2.314579e+00  2.851388e+00"
      ]
     },
     "execution_count": 41,
     "metadata": {},
     "output_type": "execute_result"
    }
   ],
   "source": [
    "X_train[features_to_scale].describe()"
   ]
  },
  {
   "cell_type": "code",
   "execution_count": 42,
   "id": "75c6b759-c32f-4670-9ef8-1bd48ae8014c",
   "metadata": {},
   "outputs": [
    {
     "data": {
      "text/html": [
       "<div>\n",
       "<style scoped>\n",
       "    .dataframe tbody tr th:only-of-type {\n",
       "        vertical-align: middle;\n",
       "    }\n",
       "\n",
       "    .dataframe tbody tr th {\n",
       "        vertical-align: top;\n",
       "    }\n",
       "\n",
       "    .dataframe thead th {\n",
       "        text-align: right;\n",
       "    }\n",
       "</style>\n",
       "<table border=\"1\" class=\"dataframe\">\n",
       "  <thead>\n",
       "    <tr style=\"text-align: right;\">\n",
       "      <th></th>\n",
       "      <th>trestbps</th>\n",
       "      <th>chol</th>\n",
       "      <th>thalach</th>\n",
       "      <th>oldpeak</th>\n",
       "    </tr>\n",
       "  </thead>\n",
       "  <tbody>\n",
       "    <tr>\n",
       "      <th>count</th>\n",
       "      <td>61.000000</td>\n",
       "      <td>61.000000</td>\n",
       "      <td>61.000000</td>\n",
       "      <td>61.000000</td>\n",
       "    </tr>\n",
       "    <tr>\n",
       "      <th>mean</th>\n",
       "      <td>0.217327</td>\n",
       "      <td>-0.299041</td>\n",
       "      <td>-0.081170</td>\n",
       "      <td>0.199929</td>\n",
       "    </tr>\n",
       "    <tr>\n",
       "      <th>std</th>\n",
       "      <td>0.992738</td>\n",
       "      <td>0.957387</td>\n",
       "      <td>1.057443</td>\n",
       "      <td>1.212662</td>\n",
       "    </tr>\n",
       "    <tr>\n",
       "      <th>min</th>\n",
       "      <td>-2.204766</td>\n",
       "      <td>-2.466933</td>\n",
       "      <td>-2.672550</td>\n",
       "      <td>-0.927560</td>\n",
       "    </tr>\n",
       "    <tr>\n",
       "      <th>25%</th>\n",
       "      <td>-0.338353</td>\n",
       "      <td>-0.954642</td>\n",
       "      <td>-0.802377</td>\n",
       "      <td>-0.927560</td>\n",
       "    </tr>\n",
       "    <tr>\n",
       "      <th>50%</th>\n",
       "      <td>-0.037318</td>\n",
       "      <td>-0.429541</td>\n",
       "      <td>-0.000874</td>\n",
       "      <td>-0.171770</td>\n",
       "    </tr>\n",
       "    <tr>\n",
       "      <th>75%</th>\n",
       "      <td>0.564751</td>\n",
       "      <td>0.200580</td>\n",
       "      <td>0.667045</td>\n",
       "      <td>1.150861</td>\n",
       "    </tr>\n",
       "    <tr>\n",
       "      <th>max</th>\n",
       "      <td>2.370957</td>\n",
       "      <td>1.964919</td>\n",
       "      <td>1.958355</td>\n",
       "      <td>2.851388</td>\n",
       "    </tr>\n",
       "  </tbody>\n",
       "</table>\n",
       "</div>"
      ],
      "text/plain": [
       "        trestbps       chol    thalach    oldpeak\n",
       "count  61.000000  61.000000  61.000000  61.000000\n",
       "mean    0.217327  -0.299041  -0.081170   0.199929\n",
       "std     0.992738   0.957387   1.057443   1.212662\n",
       "min    -2.204766  -2.466933  -2.672550  -0.927560\n",
       "25%    -0.338353  -0.954642  -0.802377  -0.927560\n",
       "50%    -0.037318  -0.429541  -0.000874  -0.171770\n",
       "75%     0.564751   0.200580   0.667045   1.150861\n",
       "max     2.370957   1.964919   1.958355   2.851388"
      ]
     },
     "execution_count": 42,
     "metadata": {},
     "output_type": "execute_result"
    }
   ],
   "source": [
    "X_test[features_to_scale].describe()"
   ]
  },
  {
   "cell_type": "code",
   "execution_count": 43,
   "id": "8f73cf26-3fc2-457f-aa79-1f57a00e2095",
   "metadata": {},
   "outputs": [],
   "source": [
    "# Initialize and train Logistic Regression model\n",
    "logreg = LogisticRegression(max_iter=1000, solver='liblinear')\n",
    "logreg.fit(X_train, y_train)\n",
    "\n",
    "# Predictions\n",
    "y_pred = logreg.predict(X_test)"
   ]
  },
  {
   "cell_type": "markdown",
   "id": "40a56eff-2113-40c7-95af-f4c9493b52e5",
   "metadata": {},
   "source": [
    "#### Model evaluation"
   ]
  },
  {
   "cell_type": "code",
   "execution_count": 44,
   "id": "4e203fe8-eae1-4fa8-9160-c61442721b8e",
   "metadata": {},
   "outputs": [],
   "source": [
    "# Compute evaluation metrics\n",
    "accuracy = accuracy_score(y_test, y_pred)\n",
    "conf_matrix = confusion_matrix(y_test, y_pred)\n",
    "report = classification_report(y_test, y_pred)"
   ]
  },
  {
   "cell_type": "code",
   "execution_count": 45,
   "id": "f1bdb0dd-73dd-4029-ad50-c05c09528239",
   "metadata": {},
   "outputs": [
    {
     "name": "stdout",
     "output_type": "stream",
     "text": [
      "\n",
      " Model Accuracy: 0.8689\n",
      "\n",
      " Confusion Matrix:\n",
      "[[28  5]\n",
      " [ 3 25]]\n",
      "\n",
      " Classification Report:\n",
      "              precision    recall  f1-score   support\n",
      "\n",
      "           0       0.90      0.85      0.88        33\n",
      "           1       0.83      0.89      0.86        28\n",
      "\n",
      "    accuracy                           0.87        61\n",
      "   macro avg       0.87      0.87      0.87        61\n",
      "weighted avg       0.87      0.87      0.87        61\n",
      "\n"
     ]
    }
   ],
   "source": [
    "# Print results\n",
    "print(f\"\\n Model Accuracy: {accuracy:.4f}\\n\")\n",
    "print(\" Confusion Matrix:\")\n",
    "print(conf_matrix)\n",
    "print(\"\\n Classification Report:\")\n",
    "print(report)"
   ]
  },
  {
   "cell_type": "code",
   "execution_count": 46,
   "id": "9e0a761e-46ad-4a46-bf90-ce1ed922e89e",
   "metadata": {},
   "outputs": [
    {
     "data": {
      "image/png": "[encoded data removed]",
      "text/plain": [
       "<Figure size 600x400 with 1 Axes>"
      ]
     },
     "metadata": {},
     "output_type": "display_data"
    }
   ],
   "source": [
    "# Plot the confusion matrix for the best model\n",
    "plt.figure(figsize=(6, 4))\n",
    "ax = sns.heatmap(conf_matrix, annot=True, fmt=\"d\", cmap=\"Blues\", linewidths=0.5, linecolor='black',\n",
    "                 cbar=False, xticklabels=[\"No Disease\", \"Disease\"], yticklabels=[\"No Disease\", \"Disease\"])\n",
    "\n",
    "# Improve axis labels\n",
    "plt.xlabel(\"Predicted\", fontsize=12)\n",
    "plt.ylabel(\"Actual\", fontsize=12)\n",
    "plt.title(\"Confusion Matrix - Regression Model\", fontsize=14)\n",
    "\n",
    "# Adjust the font size of the annotations\n",
    "for text in ax.texts:\n",
    "    text.set_size(12)\n",
    "\n",
    "# Display the plot\n",
    "plt.show()"
   ]
  },
  {
   "cell_type": "markdown",
   "id": "3dbc4fc5-3feb-4c6e-ac1c-30774491693b",
   "metadata": {},
   "source": [
    "The evaluation results indicate that the Logistic Regression model performs well, achieving an overall accuracy of 86.89%.\n",
    "* Key Insights:\n",
    "    * Excellent Model Accuracy (86.89%)\n",
    "    * The model is highly reliable, correctly classifying most cases.\n",
    "    * High Recall (93%) for Heart Disease Detection\n",
    "    * Balanced F1-Scores for Both Classes\n",
    "    * \n",
    "\n",
    "Recall measures how well the model detects actual heart disease cases.\n",
    "A recall (87%) means the model is likely to miss many (13%) real cases of heart disease (low False Negatives) which is not a good thing since missing a real heart disease case can have severe consequences. We should either fine-tuned to further lower False Negatives or try another model."
   ]
  },
  {
   "cell_type": "markdown",
   "id": "c15b3fb5-acf9-47a0-bdb6-ff5edab62be8",
   "metadata": {},
   "source": [
    "#### Hyperparameter Tuning"
   ]
  },
  {
   "cell_type": "code",
   "execution_count": 47,
   "id": "ff337729-ccc3-481b-a360-dd0871a7648b",
   "metadata": {},
   "outputs": [
    {
     "name": "stdout",
     "output_type": "stream",
     "text": [
      "Best Parameters:\n",
      "  {'C': 0.01, 'solver': 'liblinear'}\n"
     ]
    }
   ],
   "source": [
    "param_grid = {'C': [0.001, 0.01, 0.1, 1, 10, 100], 'solver': ['liblinear', 'lbfgs']}\n",
    "grid_search = GridSearchCV(LogisticRegression(max_iter=1000), param_grid, cv=5, scoring='accuracy', n_jobs=-1)\n",
    "grid_search.fit(X_train, y_train)\n",
    "\n",
    "# Best hyperparameter\n",
    "best_params = grid_search.best_params_\n",
    "best_model = grid_search.best_estimator_\n",
    "\n",
    "print(f\"Best Parameters:\\n \",best_params)\n"
   ]
  },
  {
   "cell_type": "markdown",
   "id": "8025ba06-e090-47ee-87ca-b5202c8a2c4f",
   "metadata": {},
   "source": [
    "* The optimal regularization parameter C=0.01 provides the best balance of model complexity and performance.\n",
    "* Solver: 'liblinear' is suitable for small datasets."
   ]
  },
  {
   "cell_type": "code",
   "execution_count": 48,
   "id": "cb0f3f7c-a7d8-475c-b109-241d3b65a5b7",
   "metadata": {},
   "outputs": [],
   "source": [
    "# Retrain model with best hyperparameter\n",
    "best_model.fit(X_train, y_train)\n",
    "\n",
    "# Retest model\n",
    "y_pred_best = best_model.predict(X_test)\n",
    "best_accuracy = accuracy_score(y_test, y_pred_best)\n",
    "best_conf_matrix = confusion_matrix(y_test, y_pred_best)\n",
    "best_report = classification_report(y_test, y_pred_best)"
   ]
  },
  {
   "cell_type": "code",
   "execution_count": 49,
   "id": "080bb02a-168c-4963-9b19-6d13a73c11c2",
   "metadata": {},
   "outputs": [
    {
     "name": "stdout",
     "output_type": "stream",
     "text": [
      "Classification Report:\n",
      "               precision    recall  f1-score   support\n",
      "\n",
      "           0       0.85      0.85      0.85        33\n",
      "           1       0.82      0.82      0.82        28\n",
      "\n",
      "    accuracy                           0.84        61\n",
      "   macro avg       0.83      0.83      0.83        61\n",
      "weighted avg       0.84      0.84      0.84        61\n",
      "\n"
     ]
    }
   ],
   "source": [
    "# Print classification report\n",
    "print(\"Classification Report:\\n\", best_report )"
   ]
  },
  {
   "cell_type": "code",
   "execution_count": 50,
   "id": "e943eedd-2043-4c8e-a19d-6b89b37615a4",
   "metadata": {},
   "outputs": [
    {
     "name": "stdout",
     "output_type": "stream",
     "text": [
      "Best Accuracy:  0.8360655737704918\n",
      "----------------------------------------------------------------\n",
      "Best Confusion Matrix:\n",
      "  [[28  5]\n",
      " [ 5 23]]\n",
      "----------------------------------------------------------------\n",
      "Best Report:\n",
      "                precision    recall  f1-score   support\n",
      "\n",
      "           0       0.85      0.85      0.85        33\n",
      "           1       0.82      0.82      0.82        28\n",
      "\n",
      "    accuracy                           0.84        61\n",
      "   macro avg       0.83      0.83      0.83        61\n",
      "weighted avg       0.84      0.84      0.84        61\n",
      "\n"
     ]
    }
   ],
   "source": [
    "# Display results\n",
    "print(f\"Best Accuracy: \", best_accuracy)\n",
    "print(\"----------------------------------------------------------------\")\n",
    "print(f\"Best Confusion Matrix:\\n \",best_conf_matrix)\n",
    "print(\"----------------------------------------------------------------\")\n",
    "print(f\"Best Report:\\n \",best_report)"
   ]
  },
  {
   "cell_type": "code",
   "execution_count": 51,
   "id": "21547241-33f8-4905-997a-69110b756a08",
   "metadata": {},
   "outputs": [
    {
     "data": {
      "image/png": "[encoded data removed]",
      "text/plain": [
       "<Figure size 600x400 with 1 Axes>"
      ]
     },
     "metadata": {},
     "output_type": "display_data"
    }
   ],
   "source": [
    "# Plot the confusion matrix for the best model\n",
    "plt.figure(figsize=(6, 4))\n",
    "ax = sns.heatmap(best_conf_matrix, annot=True, fmt=\"d\", cmap=\"Blues\", linewidths=0.5, linecolor='black',\n",
    "                 cbar=False, xticklabels=[\"No Disease\", \"Disease\"], yticklabels=[\"No Disease\", \"Disease\"])\n",
    "\n",
    "# Improve axis labels\n",
    "plt.xlabel(\"Predicted\", fontsize=12)\n",
    "plt.ylabel(\"Actual\", fontsize=12)\n",
    "plt.title(\"Confusion Matrix - Best Logistic Regression Model\", fontsize=14)\n",
    "\n",
    "# Adjust the font size of the annotations\n",
    "for text in ax.texts:\n",
    "    text.set_size(12)\n",
    "\n",
    "# Display the plot\n",
    "plt.show()"
   ]
  },
  {
   "cell_type": "markdown",
   "id": "d84147c1-fb60-4694-9193-c6358ee876e5",
   "metadata": {},
   "source": [
    "Recall measures how well the model detects actual heart disease cases.\n",
    "A recall (87%) means the model is likely to miss many (13%) real cases of heart disease (low False Negatives) which is not a good thing since missing a real heart disease case can have severe consequences. We should either fine-tuned to further lower False Negatives or try another model.\n",
    "\n",
    "The accuracy of the Logistic Regression after applying hyparameter tuning turned out to be lower with an overall accuracy of 83.61% and a recall of 83%. This may be suggesting tht the tuning has reduced overfitting and improved generalization. We could go into testing whether this is true by comparing the training accuracy and the validation/test accuracy. However, this sufficient for this work as we have to try other models."
   ]
  },
  {
   "cell_type": "code",
   "execution_count": 52,
   "id": "7370a4dd-3f9f-44cd-ab15-aacceb82f5ce",
   "metadata": {},
   "outputs": [
    {
     "data": {
      "text/plain": [
       "['final_logReg_heart_disease_model.joblib']"
      ]
     },
     "execution_count": 52,
     "metadata": {},
     "output_type": "execute_result"
    }
   ],
   "source": [
    "# Save final model\n",
    "dump(best_model, \"final_logReg_heart_disease_model.joblib\")"
   ]
  },
  {
   "cell_type": "markdown",
   "id": "ede1737c-f393-4d10-9c8a-d24448affd50",
   "metadata": {},
   "source": [
    "### Support Vector Machine (Support Vector Classifier or SVC)"
   ]
  },
  {
   "cell_type": "markdown",
   "id": "2c45f81e-1ffd-4656-a413-f29855f802b5",
   "metadata": {},
   "source": [
    "#### Step 1: Data Preprocessing (Same as Logistic Regression)\n",
    "\n",
    "##### Steps Identical to Logistic Regression:\n",
    "* Loading the Dataset\n",
    "* Checking for Missing Values\n",
    "* Checking for Duplicates\n",
    "* Checking Data Distribution\n",
    "* Checking for Outliers & Applying IQR Method\n",
    "* Handling Class Imbalance\n",
    "* Feature Correlation Analysis\n",
    "* Feature Encoding & Scaling (One-Hot Encoding & StandardScaler)\n",
    "\n",
    "We will show only steps and codes that are not identical to the models we have already developed\n",
    "\n",
    "Since we've already preprocessed the dataset, we will proceed directly to model training using Support Vector Machines (SVM)."
   ]
  },
  {
   "cell_type": "markdown",
   "id": "1ad24ad7-4210-4119-945b-2afb9f1edd46",
   "metadata": {},
   "source": [
    "### Model Training with Support Vector Machines (SVM)"
   ]
  },
  {
   "cell_type": "code",
   "execution_count": 53,
   "id": "ea53c854-b604-4329-ad3b-461a6aad0b79",
   "metadata": {},
   "outputs": [
    {
     "name": "stdout",
     "output_type": "stream",
     "text": [
      "Initial Accuracy: 0.8689\n",
      "--------------------------------------------------------------------\n",
      "Confusion Matrix:\n",
      "[[28  5]\n",
      " [ 3 25]]\n",
      "--------------------------------------------------------------------\n",
      "Classification Report:\n",
      "              precision    recall  f1-score   support\n",
      "\n",
      "           0       0.90      0.85      0.88        33\n",
      "           1       0.83      0.89      0.86        28\n",
      "\n",
      "    accuracy                           0.87        61\n",
      "   macro avg       0.87      0.87      0.87        61\n",
      "weighted avg       0.87      0.87      0.87        61\n",
      "\n"
     ]
    }
   ],
   "source": [
    "# Define features (X) and target variable (y)\n",
    "X = df.drop(columns=['target'])  \n",
    "y = df['target']  \n",
    "\n",
    "# Perform train-test split (80% training, 20% testing) with stratification\n",
    "X_train, X_test, y_train, y_test = train_test_split(X, y, test_size=0.2, random_state=42, stratify=y)\n",
    "\n",
    "# Define numerical features to standardize\n",
    "features_to_scale = ['trestbps', 'chol', 'thalach', 'oldpeak']\n",
    "\n",
    "# Apply StandardScaler on numerical features (important for SVM)\n",
    "scaler = StandardScaler()\n",
    "X_train.loc[:, features_to_scale] = scaler.fit_transform(X_train[features_to_scale])  \n",
    "X_test.loc[:, features_to_scale] = scaler.transform(X_test[features_to_scale])  \n",
    "\n",
    "# Initialize and train Support Vector Machine (SVM) model\n",
    "svm_model = SVC(kernel='linear', C=1, probability=True)  # `probability=True` for ROC-AUC calculation\n",
    "svm_model.fit(X_train, y_train)\n",
    "\n",
    "# Predictions\n",
    "y_pred = svm_model.predict(X_test)\n",
    "\n",
    "# Model evaluation\n",
    "accuracy = accuracy_score(y_test, y_pred)\n",
    "conf_matrix = confusion_matrix(y_test, y_pred)\n",
    "report = classification_report(y_test, y_pred)\n",
    "\n",
    "# Display results\n",
    "print(f\"Initial Accuracy: {accuracy:.4f}\")\n",
    "print(\"--------------------------------------------------------------------\")\n",
    "print(f\"Confusion Matrix:\\n{conf_matrix}\")\n",
    "print(\"--------------------------------------------------------------------\")\n",
    "print(f\"Classification Report:\\n{report}\")"
   ]
  },
  {
   "cell_type": "markdown",
   "id": "e34e7443-18c2-43ad-a874-88e1aa549ebb",
   "metadata": {},
   "source": [
    "We obtained an accuracy of 86.89% and recall of 87%"
   ]
  },
  {
   "cell_type": "markdown",
   "id": "c984eb30-d9e2-4f6c-97f6-4a4e4d8aa9f7",
   "metadata": {},
   "source": [
    "#### Hyperparameter Tuning for SVM"
   ]
  },
  {
   "cell_type": "code",
   "execution_count": 54,
   "id": "8c71f022-edc2-41e6-b37c-72a49686be51",
   "metadata": {},
   "outputs": [
    {
     "name": "stdout",
     "output_type": "stream",
     "text": [
      "Fitting 5 folds for each of 20 candidates, totalling 100 fits\n",
      "Best Parameters: {'C': 1, 'kernel': 'linear'}\n",
      "Optimized Accuracy: 0.8689\n",
      "--------------------------------------------------------------------\n",
      "Optimized Confusion Matrix:\n",
      "[[28  5]\n",
      " [ 3 25]]\n",
      "--------------------------------------------------------------------\n",
      "Optimized Classification Report:\n",
      "              precision    recall  f1-score   support\n",
      "\n",
      "           0       0.90      0.85      0.88        33\n",
      "           1       0.83      0.89      0.86        28\n",
      "\n",
      "    accuracy                           0.87        61\n",
      "   macro avg       0.87      0.87      0.87        61\n",
      "weighted avg       0.87      0.87      0.87        61\n",
      "\n"
     ]
    }
   ],
   "source": [
    "## Hyperparameter tuning using GridSearchCV for SVM\n",
    "param_grid = {\n",
    "    'C': [0.01, 0.1, 1, 10, 100],  # Regularization parameter\n",
    "    'kernel': ['linear', 'rbf', 'poly', 'sigmoid']  # Different kernel types\n",
    "}\n",
    "\n",
    "grid_search = GridSearchCV(\n",
    "    SVC(probability=True), param_grid, \n",
    "    cv=5, scoring='accuracy', n_jobs=-1, verbose=1\n",
    ")\n",
    "grid_search.fit(X_train, y_train)\n",
    "\n",
    "# Best hyperparameter selection\n",
    "best_params = grid_search.best_params_\n",
    "best_model = grid_search.best_estimator_\n",
    "\n",
    "print(f\"Best Parameters: {best_params}\")\n",
    "\n",
    "# Retrain model with best hyperparameters\n",
    "best_model.fit(X_train, y_train)\n",
    "\n",
    "# Retest model\n",
    "y_pred_best = best_model.predict(X_test)\n",
    "\n",
    "# Compute evaluation metrics\n",
    "best_accuracy = accuracy_score(y_test, y_pred_best)\n",
    "best_conf_matrix = confusion_matrix(y_test, y_pred_best)\n",
    "best_report = classification_report(y_test, y_pred_best)\n",
    "\n",
    "# Display final results\n",
    "print(f\"Optimized Accuracy: {best_accuracy:.4f}\")\n",
    "print(\"--------------------------------------------------------------------\")\n",
    "print(f\"Optimized Confusion Matrix:\\n{best_conf_matrix}\")\n",
    "print(\"--------------------------------------------------------------------\")\n",
    "print(f\"Optimized Classification Report:\\n{best_report}\")"
   ]
  },
  {
   "cell_type": "markdown",
   "id": "e61610f1-1b4f-4ee5-bae0-d0a7517c67b6",
   "metadata": {},
   "source": [
    "Even with tuning the hyperparameter, the accuracy didn't change. the tuning is not affecting the performance of the model because, probably, the model is already at its best."
   ]
  },
  {
   "cell_type": "markdown",
   "id": "22a8d017-e496-43f0-b326-17ce857a074f",
   "metadata": {},
   "source": [
    "#### Saving the Final SVM Model"
   ]
  },
  {
   "cell_type": "code",
   "execution_count": 55,
   "id": "59437fc6-7b1d-4359-ac8e-564ac5091cff",
   "metadata": {},
   "outputs": [
    {
     "data": {
      "text/plain": [
       "['final_svm_heart_disease_model.joblib']"
      ]
     },
     "execution_count": 55,
     "metadata": {},
     "output_type": "execute_result"
    }
   ],
   "source": [
    "# Save final model\n",
    "dump(best_model, \"final_svm_heart_disease_model.joblib\")"
   ]
  },
  {
   "cell_type": "markdown",
   "id": "3763efed-892d-4a93-9f3c-679b63b0be61",
   "metadata": {},
   "source": [
    "### k-Nearest Neighbors (k-NN)\n",
    "\n",
    "#### Model Training with k-Nearest Neighbors (k-NN)"
   ]
  },
  {
   "cell_type": "code",
   "execution_count": 56,
   "id": "37b12edb-6893-4a1a-a1a9-f07e041d5217",
   "metadata": {},
   "outputs": [
    {
     "name": "stdout",
     "output_type": "stream",
     "text": [
      "Initial Accuracy: 0.7869\n",
      "Confusion Matrix:\n",
      "[[25  8]\n",
      " [ 5 23]]\n",
      "Classification Report:\n",
      "              precision    recall  f1-score   support\n",
      "\n",
      "           0       0.83      0.76      0.79        33\n",
      "           1       0.74      0.82      0.78        28\n",
      "\n",
      "    accuracy                           0.79        61\n",
      "   macro avg       0.79      0.79      0.79        61\n",
      "weighted avg       0.79      0.79      0.79        61\n",
      "\n"
     ]
    }
   ],
   "source": [
    "# Define features (X) and target variable (y)\n",
    "X = df.drop(columns=['target'])  \n",
    "y = df['target']  \n",
    "\n",
    "# Split dataset into training and testing sets (80% train, 20% test)\n",
    "X_train, X_test, y_train, y_test = train_test_split(X, y, test_size=0.2, random_state=42, stratify=y)\n",
    "\n",
    "# Define numerical features to standardize\n",
    "features_to_scale = ['trestbps', 'chol', 'thalach', 'oldpeak']\n",
    "\n",
    "# Apply StandardScaler on numerical features\n",
    "scaler = StandardScaler()\n",
    "X_train.loc[:, features_to_scale] = scaler.fit_transform(X_train[features_to_scale])  \n",
    "X_test.loc[:, features_to_scale] = scaler.transform(X_test[features_to_scale])  \n",
    "\n",
    "# Initialize and train k-NN model\n",
    "knn_model = KNeighborsClassifier(n_neighbors=5)\n",
    "knn_model.fit(X_train, y_train)\n",
    "\n",
    "# Predictions\n",
    "y_pred = knn_model.predict(X_test)\n",
    "\n",
    "# Model evaluationvanie\n",
    "\n",
    "accuracy = accuracy_score(y_test, y_pred)\n",
    "conf_matrix = confusion_matrix(y_test, y_pred)\n",
    "report = classification_report(y_test, y_pred)\n",
    "\n",
    "\n",
    "# Display results\n",
    "print(f\"Initial Accuracy: {accuracy:.4f}\")\n",
    "print(f\"Confusion Matrix:\\n{conf_matrix}\")\n",
    "print(f\"Classification Report:\\n{report}\")"
   ]
  },
  {
   "cell_type": "markdown",
   "id": "cb4b0c35-055d-4c41-b47e-e7c90018ec83",
   "metadata": {},
   "source": [
    "Accuracy of 78.69% and recall of 79%"
   ]
  },
  {
   "cell_type": "markdown",
   "id": "72cab9b5-fd8c-4b5f-a6fd-b7f62c1c8a28",
   "metadata": {},
   "source": [
    "#### Hyperparameter Tuning for k-NN"
   ]
  },
  {
   "cell_type": "code",
   "execution_count": 57,
   "id": "922edb96-60b9-4918-8b4c-98d90c56a0c4",
   "metadata": {},
   "outputs": [
    {
     "name": "stdout",
     "output_type": "stream",
     "text": [
      "Fitting 5 folds for each of 30 candidates, totalling 150 fits\n",
      "Best Parameters: {'metric': 'manhattan', 'n_neighbors': 7, 'weights': 'uniform'}\n",
      "Optimized Accuracy: 0.8197\n",
      "--------------------------------------------------------------------\n",
      "Optimized Confusion Matrix:\n",
      "[[28  5]\n",
      " [ 6 22]]\n",
      "--------------------------------------------------------------------\n",
      "Optimized Classification Report:\n",
      "              precision    recall  f1-score   support\n",
      "\n",
      "           0       0.82      0.85      0.84        33\n",
      "           1       0.81      0.79      0.80        28\n",
      "\n",
      "    accuracy                           0.82        61\n",
      "   macro avg       0.82      0.82      0.82        61\n",
      "weighted avg       0.82      0.82      0.82        61\n",
      "\n"
     ]
    }
   ],
   "source": [
    "# Hyperparameter tuning using GridSearchCV for k-NN\n",
    "param_grid = {\n",
    "    'n_neighbors': [3, 5, 7, 9, 11],  # Number of neighbors\n",
    "    'weights': ['uniform', 'distance'],  # Weight function\n",
    "    'metric': ['euclidean', 'manhattan', 'minkowski']  # Distance metrics\n",
    "}\n",
    "\n",
    "grid_search = GridSearchCV(\n",
    "    KNeighborsClassifier(), param_grid, \n",
    "    cv=5, scoring='accuracy', n_jobs=-1, verbose=1\n",
    ")\n",
    "grid_search.fit(X_train, y_train)\n",
    "\n",
    "# Best hyperparameter selection\n",
    "best_params = grid_search.best_params_\n",
    "best_model = grid_search.best_estimator_\n",
    "\n",
    "print(f\"Best Parameters: {best_params}\")\n",
    "\n",
    "# Retrain model with best hyperparameters\n",
    "best_model.fit(X_train, y_train)\n",
    "\n",
    "# Retest model\n",
    "y_pred_best = best_model.predict(X_test)\n",
    "\n",
    "# Compute evaluation metrics\n",
    "best_accuracy = accuracy_score(y_test, y_pred_best)\n",
    "best_conf_matrix = confusion_matrix(y_test, y_pred_best)\n",
    "best_report = classification_report(y_test, y_pred_best)\n",
    "\n",
    "# Display final results\n",
    "print(f\"Optimized Accuracy: {best_accuracy:.4f}\")\n",
    "print(\"--------------------------------------------------------------------\")\n",
    "print(f\"Optimized Confusion Matrix:\\n{best_conf_matrix}\")\n",
    "print(\"--------------------------------------------------------------------\")\n",
    "print(f\"Optimized Classification Report:\\n{best_report}\")"
   ]
  },
  {
   "cell_type": "markdown",
   "id": "2a8e2902-3eaf-43b2-a75e-6796f34fb48f",
   "metadata": {},
   "source": [
    "Tuning the parameters increased the accuracy to 81.97% and recall to 82%."
   ]
  },
  {
   "cell_type": "markdown",
   "id": "4cbdaf7e-215a-4d7f-bd76-c2ced3e9d399",
   "metadata": {},
   "source": [
    "#### Saving the Final k-NN Model"
   ]
  },
  {
   "cell_type": "code",
   "execution_count": 58,
   "id": "36165923-3c82-481c-ac3e-18cf21d3b185",
   "metadata": {},
   "outputs": [
    {
     "data": {
      "text/plain": [
       "['final_knn_heart_disease_model.joblib']"
      ]
     },
     "execution_count": 58,
     "metadata": {},
     "output_type": "execute_result"
    }
   ],
   "source": [
    "# Save final model\n",
    "dump(best_model, \"final_knn_heart_disease_model.joblib\")"
   ]
  },
  {
   "cell_type": "markdown",
   "id": "4d324a79-08ca-429a-a9a4-7917d1239e37",
   "metadata": {},
   "source": [
    "### Naïve Bayes\n",
    "#### Model Training with Naïve Bayes"
   ]
  },
  {
   "cell_type": "code",
   "execution_count": 59,
   "id": "9d7c8222-4a82-41e2-93ea-67c8c5aaf3b2",
   "metadata": {},
   "outputs": [
    {
     "name": "stdout",
     "output_type": "stream",
     "text": [
      "Initial Accuracy: 0.8852\n",
      "Confusion Matrix:\n",
      "[[29  4]\n",
      " [ 3 25]]\n",
      "Classification Report:\n",
      "              precision    recall  f1-score   support\n",
      "\n",
      "           0       0.91      0.88      0.89        33\n",
      "           1       0.86      0.89      0.88        28\n",
      "\n",
      "    accuracy                           0.89        61\n",
      "   macro avg       0.88      0.89      0.88        61\n",
      "weighted avg       0.89      0.89      0.89        61\n",
      "\n"
     ]
    }
   ],
   "source": [
    "# Define features (X) and target variable (y)\n",
    "X = df.drop(columns=['target'])  \n",
    "y = df['target']  \n",
    "\n",
    "# Perform train-test split (80% training, 20% testing) with stratification\n",
    "X_train, X_test, y_train, y_test = train_test_split(X, y, test_size=0.2, random_state=42, stratify=y)\n",
    "\n",
    "# Define numerical features to standardize\n",
    "features_to_scale = ['trestbps', 'chol', 'thalach', 'oldpeak']\n",
    "\n",
    "# Apply StandardScaler on numerical features (optional but improves performance)\n",
    "scaler = StandardScaler()\n",
    "X_train.loc[:, features_to_scale] = scaler.fit_transform(X_train[features_to_scale])  \n",
    "X_test.loc[:, features_to_scale] = scaler.transform(X_test[features_to_scale])  \n",
    "\n",
    "# Initialize and train Naïve Bayes model\n",
    "nb_model = GaussianNB()\n",
    "nb_model.fit(X_train, y_train)\n",
    "\n",
    "# Predictions\n",
    "y_pred = nb_model.predict(X_test)\n",
    "\n",
    "# Model evaluation\n",
    "accuracy = accuracy_score(y_test, y_pred)\n",
    "conf_matrix = confusion_matrix(y_test, y_pred)\n",
    "report = classification_report(y_test, y_pred)\n",
    "\n",
    "# Display results\n",
    "print(f\"Initial Accuracy: {accuracy:.4f}\")\n",
    "print(f\"Confusion Matrix:\\n{conf_matrix}\")\n",
    "print(f\"Classification Report:\\n{report}\")"
   ]
  },
  {
   "cell_type": "markdown",
   "id": "693ac59d-2cf3-4fe0-945a-cc4eb065d9f0",
   "metadata": {},
   "source": [
    "Accuracy of 88.52% and recall of 89%"
   ]
  },
  {
   "cell_type": "code",
   "execution_count": 60,
   "id": "45feae84-d8d4-43f6-ae0b-0a77b665a2f5",
   "metadata": {},
   "outputs": [
    {
     "name": "stdout",
     "output_type": "stream",
     "text": [
      "Fitting 5 folds for each of 10 candidates, totalling 50 fits\n",
      "Best Parameters: {'var_smoothing': 1e-05}\n",
      "Optimized Accuracy: 0.8852\n",
      "--------------------------------------------------------------------\n",
      "Optimized Confusion Matrix:\n",
      "[[29  4]\n",
      " [ 3 25]]\n",
      "--------------------------------------------------------------------\n",
      "Optimized Classification Report:\n",
      "              precision    recall  f1-score   support\n",
      "\n",
      "           0       0.91      0.88      0.89        33\n",
      "           1       0.86      0.89      0.88        28\n",
      "\n",
      "    accuracy                           0.89        61\n",
      "   macro avg       0.88      0.89      0.88        61\n",
      "weighted avg       0.89      0.89      0.89        61\n",
      "\n"
     ]
    }
   ],
   "source": [
    "# Hyperparameter tuning using GridSearchCV for Naïve Bayes\n",
    "param_grid = {\n",
    "    'var_smoothing': np.logspace(-9, 0, 10)  # Range of variance smoothing values\n",
    "}\n",
    "\n",
    "grid_search = GridSearchCV(\n",
    "    GaussianNB(), param_grid, \n",
    "    cv=5, scoring='accuracy', n_jobs=-1, verbose=1\n",
    ")\n",
    "grid_search.fit(X_train, y_train)\n",
    "\n",
    "# Best hyperparameter selection\n",
    "best_params = grid_search.best_params_\n",
    "best_model = grid_search.best_estimator_\n",
    "\n",
    "print(f\"Best Parameters: {best_params}\")\n",
    "\n",
    "# Retrain model with best hyperparameters\n",
    "best_model.fit(X_train, y_train)\n",
    "\n",
    "# Retest model\n",
    "y_pred_best = best_model.predict(X_test)\n",
    "\n",
    "# Compute evaluation metrics\n",
    "best_accuracy = accuracy_score(y_test, y_pred_best)\n",
    "best_conf_matrix = confusion_matrix(y_test, y_pred_best)\n",
    "best_report = classification_report(y_test, y_pred_best)\n",
    "\n",
    "# Display final results\n",
    "print(f\"Optimized Accuracy: {best_accuracy:.4f}\")\n",
    "print(\"--------------------------------------------------------------------\")\n",
    "print(f\"Optimized Confusion Matrix:\\n{best_conf_matrix}\")\n",
    "print(\"--------------------------------------------------------------------\")\n",
    "print(f\"Optimized Classification Report:\\n{best_report}\")"
   ]
  },
  {
   "cell_type": "markdown",
   "id": "fa586927-5c6b-4d1f-9b6d-cf478b49586b",
   "metadata": {},
   "source": [
    "Apparently, the model is at its best performance as the tuning of the hyperparameters seem to have no affect on performance."
   ]
  },
  {
   "cell_type": "markdown",
   "id": "6b2885a8-bd85-472e-8573-a234aef7082c",
   "metadata": {},
   "source": [
    "#### Saving the Final Naïve Bayes Model"
   ]
  },
  {
   "cell_type": "code",
   "execution_count": 61,
   "id": "c72c5bd0-46ef-47be-8f9e-426f30bb5908",
   "metadata": {},
   "outputs": [
    {
     "data": {
      "text/plain": [
       "['final_nb_heart_disease_model.joblib']"
      ]
     },
     "execution_count": 61,
     "metadata": {},
     "output_type": "execute_result"
    }
   ],
   "source": [
    "# Save final model\n",
    "dump(best_model, \"final_nb_heart_disease_model.joblib\")"
   ]
  },
  {
   "cell_type": "markdown",
   "id": "734ef7d9-ba15-4d23-a023-e144ad5bfe8d",
   "metadata": {},
   "source": [
    "###  Decision Trees\n",
    "#### Model Training with Decision Trees"
   ]
  },
  {
   "cell_type": "code",
   "execution_count": 62,
   "id": "4186cc63-237a-4e16-a3f5-9d2362040d5d",
   "metadata": {},
   "outputs": [
    {
     "name": "stdout",
     "output_type": "stream",
     "text": [
      "Initial Accuracy: 0.7049\n",
      "Confusion Matrix:\n",
      "[[24  9]\n",
      " [ 9 19]]\n",
      "Classification Report:\n",
      "              precision    recall  f1-score   support\n",
      "\n",
      "           0       0.73      0.73      0.73        33\n",
      "           1       0.68      0.68      0.68        28\n",
      "\n",
      "    accuracy                           0.70        61\n",
      "   macro avg       0.70      0.70      0.70        61\n",
      "weighted avg       0.70      0.70      0.70        61\n",
      "\n"
     ]
    }
   ],
   "source": [
    "### # Define features (X) and target variable (y)\n",
    "X = df.drop(columns=['target'])  \n",
    "y = df['target']  \n",
    "\n",
    "# Split dataset into training and testing sets (80% train, 20% test)\n",
    "X_train, X_test, y_train, y_test = train_test_split(X, y, test_size=0.2, random_state=42, stratify=y)\n",
    "\n",
    "# Initialize and train Decision Tree model\n",
    "dt_model = DecisionTreeClassifier(random_state=42)\n",
    "dt_model.fit(X_train, y_train)\n",
    "\n",
    "# Predictions\n",
    "y_pred = dt_model.predict(X_test)\n",
    "\n",
    "# Model evaluation\n",
    "accuracy = accuracy_score(y_test, y_pred)\n",
    "conf_matrix = confusion_matrix(y_test, y_pred)\n",
    "report = classification_report(y_test, y_pred)\n",
    "\n",
    "# Display results\n",
    "print(f\"Initial Accuracy: {accuracy:.4f}\")\n",
    "print(f\"Confusion Matrix:\\n{conf_matrix}\")\n",
    "print(f\"Classification Report:\\n{report}\")"
   ]
  },
  {
   "cell_type": "markdown",
   "id": "68193d12-b2e3-4c9a-9a9e-ed78f69100e2",
   "metadata": {},
   "source": [
    "Accuracy of 70.49% and recall of 70%"
   ]
  },
  {
   "cell_type": "code",
   "execution_count": 63,
   "id": "3e1aac9e-178b-4815-b61a-19c33fd219ab",
   "metadata": {},
   "outputs": [
    {
     "name": "stdout",
     "output_type": "stream",
     "text": [
      "Fitting 5 folds for each of 72 candidates, totalling 360 fits\n",
      "Best Parameters: {'criterion': 'gini', 'max_depth': 10, 'min_samples_leaf': 2, 'min_samples_split': 10}\n",
      "Optimized Accuracy: 0.7705\n",
      "--------------------------------------------------------------------\n",
      "Optimized Confusion Matrix:\n",
      "[[23 10]\n",
      " [ 4 24]]\n",
      "--------------------------------------------------------------------\n",
      "Optimized Classification Report:\n",
      "              precision    recall  f1-score   support\n",
      "\n",
      "           0       0.85      0.70      0.77        33\n",
      "           1       0.71      0.86      0.77        28\n",
      "\n",
      "    accuracy                           0.77        61\n",
      "   macro avg       0.78      0.78      0.77        61\n",
      "weighted avg       0.78      0.77      0.77        61\n",
      "\n"
     ]
    }
   ],
   "source": [
    "# Hyperparameter tuning using GridSearchCV for Decision Trees\n",
    "param_grid = {\n",
    "    'max_depth': [3, 5, 10, None],  # Depth of the tree\n",
    "    'min_samples_split': [2, 5, 10],  # Minimum samples to split a node\n",
    "    'min_samples_leaf': [1, 2, 4],  # Minimum samples at each leaf node\n",
    "    'criterion': ['gini', 'entropy']  # Splitting criteria\n",
    "}\n",
    "\n",
    "grid_search = GridSearchCV(\n",
    "    DecisionTreeClassifier(random_state=42), param_grid, \n",
    "    cv=5, scoring='accuracy', n_jobs=-1, verbose=1\n",
    ")\n",
    "grid_search.fit(X_train, y_train)\n",
    "\n",
    "# Best hyperparameter selection\n",
    "best_params = grid_search.best_params_\n",
    "best_model = grid_search.best_estimator_\n",
    "\n",
    "print(f\"Best Parameters: {best_params}\")\n",
    "\n",
    "# Retrain model with best hyperparameters\n",
    "best_model.fit(X_train, y_train)\n",
    "\n",
    "# Retest model\n",
    "y_pred_best = best_model.predict(X_test)\n",
    "\n",
    "# Compute evaluation metrics\n",
    "best_accuracy = accuracy_score(y_test, y_pred_best)\n",
    "best_conf_matrix = confusion_matrix(y_test, y_pred_best)\n",
    "best_report = classification_report(y_test, y_pred_best)\n",
    "\n",
    "# Display final results\n",
    "print(f\"Optimized Accuracy: {best_accuracy:.4f}\")\n",
    "print(\"--------------------------------------------------------------------\")\n",
    "print(f\"Optimized Confusion Matrix:\\n{best_conf_matrix}\")\n",
    "print(\"--------------------------------------------------------------------\")\n",
    "print(f\"Optimized Classification Report:\\n{best_report}\")"
   ]
  },
  {
   "cell_type": "markdown",
   "id": "ae7f12aa-51a2-40f1-b501-6128b305082c",
   "metadata": {},
   "source": [
    "Accuracy increased to 77.05% and recall increased to 77%."
   ]
  },
  {
   "cell_type": "markdown",
   "id": "1f66077a-4fc2-4ba4-8aeb-b5a26ff90b34",
   "metadata": {},
   "source": [
    "#### Saving the Final Decision Tree Model"
   ]
  },
  {
   "cell_type": "code",
   "execution_count": 64,
   "id": "0a9bbcb1-d1ea-4eed-b569-42f95ac243de",
   "metadata": {},
   "outputs": [
    {
     "data": {
      "text/plain": [
       "['final_dt_heart_disease_model.joblib']"
      ]
     },
     "execution_count": 64,
     "metadata": {},
     "output_type": "execute_result"
    }
   ],
   "source": [
    "# Save final model\n",
    "dump(best_model, \"final_dt_heart_disease_model.joblib\")"
   ]
  },
  {
   "cell_type": "markdown",
   "id": "fe93e426-28f6-4287-8f00-d1ec06865921",
   "metadata": {},
   "source": [
    "### Random Forest\n",
    "#### Model Training with Random Forest"
   ]
  },
  {
   "cell_type": "code",
   "execution_count": 65,
   "id": "3cdf7454-7ba8-4130-b987-a042fed54a44",
   "metadata": {},
   "outputs": [
    {
     "name": "stdout",
     "output_type": "stream",
     "text": [
      "Initial Accuracy: 0.8852\n",
      "Confusion Matrix:\n",
      "[[28  5]\n",
      " [ 2 26]]\n",
      "Classification Report:\n",
      "              precision    recall  f1-score   support\n",
      "\n",
      "           0       0.93      0.85      0.89        33\n",
      "           1       0.84      0.93      0.88        28\n",
      "\n",
      "    accuracy                           0.89        61\n",
      "   macro avg       0.89      0.89      0.89        61\n",
      "weighted avg       0.89      0.89      0.89        61\n",
      "\n"
     ]
    }
   ],
   "source": [
    "X = df.drop(columns=['target'])  \n",
    "y = df['target']  \n",
    "\n",
    "# Split dataset into training and testing sets (80% train, 20% test)\n",
    "X_train, X_test, y_train, y_test = train_test_split(X, y, test_size=0.2, random_state=42, stratify=y)\n",
    "\n",
    "# Initialize and train Random Forest model\n",
    "rf_model = RandomForestClassifier(n_estimators=100, random_state=42)\n",
    "rf_model.fit(X_train, y_train)\n",
    "\n",
    "# Predictions\n",
    "y_pred = rf_model.predict(X_test)\n",
    "\n",
    "# Model evaluation\n",
    "accuracy = accuracy_score(y_test, y_pred)\n",
    "conf_matrix = confusion_matrix(y_test, y_pred)\n",
    "report = classification_report(y_test, y_pred)\n",
    "\n",
    "# Display results\n",
    "print(f\"Initial Accuracy: {accuracy:.4f}\")\n",
    "print(f\"Confusion Matrix:\\n{conf_matrix}\")\n",
    "print(f\"Classification Report:\\n{report}\")"
   ]
  },
  {
   "cell_type": "markdown",
   "id": "ea1e4292-4666-460b-9fd9-b533c621bf0c",
   "metadata": {},
   "source": [
    "Accuracy of 88.52% and recall of 89%"
   ]
  },
  {
   "cell_type": "code",
   "execution_count": 66,
   "id": "2f071f81-58d1-489f-84e3-66eaa8991ee6",
   "metadata": {},
   "outputs": [
    {
     "name": "stdout",
     "output_type": "stream",
     "text": [
      "Fitting 5 folds for each of 216 candidates, totalling 1080 fits\n",
      "Best Parameters: {'criterion': 'gini', 'max_depth': 3, 'min_samples_leaf': 2, 'min_samples_split': 2, 'n_estimators': 100}\n",
      "Optimized Accuracy: 0.9016\n",
      "--------------------------------------------------------------------\n",
      "Optimized Confusion Matrix:\n",
      "[[30  3]\n",
      " [ 3 25]]\n",
      "--------------------------------------------------------------------\n",
      "Optimized Classification Report:\n",
      "              precision    recall  f1-score   support\n",
      "\n",
      "           0       0.91      0.91      0.91        33\n",
      "           1       0.89      0.89      0.89        28\n",
      "\n",
      "    accuracy                           0.90        61\n",
      "   macro avg       0.90      0.90      0.90        61\n",
      "weighted avg       0.90      0.90      0.90        61\n",
      "\n"
     ]
    }
   ],
   "source": [
    "# Hyperparameter tuning using GridSearchCV for Random Forest\n",
    "param_grid = {\n",
    "    'n_estimators': [50, 100, 200],  # Number of trees in the forest\n",
    "    'max_depth': [3, 5, 10, None],  # Depth of the tree\n",
    "    'min_samples_split': [2, 5, 10],  # Minimum samples to split a node\n",
    "    'min_samples_leaf': [1, 2, 4],  # Minimum samples at each leaf node\n",
    "    'criterion': ['gini', 'entropy']  # Splitting criteria\n",
    "}\n",
    "\n",
    "grid_search = GridSearchCV(\n",
    "    RandomForestClassifier(random_state=42), param_grid, \n",
    "    cv=5, scoring='accuracy', n_jobs=-1, verbose=1\n",
    ")\n",
    "grid_search.fit(X_train, y_train)\n",
    "\n",
    "# Best hyperparameter selection\n",
    "best_params = grid_search.best_params_\n",
    "best_model = grid_search.best_estimator_\n",
    "\n",
    "print(f\"Best Parameters: {best_params}\")\n",
    "\n",
    "# Retrain model with best hyperparameters\n",
    "best_model.fit(X_train, y_train)\n",
    "\n",
    "# Retest model\n",
    "y_pred_best = best_model.predict(X_test)\n",
    "\n",
    "# Compute evaluation metrics\n",
    "best_accuracy = accuracy_score(y_test, y_pred_best)\n",
    "best_conf_matrix = confusion_matrix(y_test, y_pred_best)\n",
    "best_report = classification_report(y_test, y_pred_best)\n",
    "\n",
    "# Display final results\n",
    "print(f\"Optimized Accuracy: {best_accuracy:.4f}\")\n",
    "print(\"--------------------------------------------------------------------\")\n",
    "print(f\"Optimized Confusion Matrix:\\n{best_conf_matrix}\")\n",
    "print(\"--------------------------------------------------------------------\")\n",
    "print(f\"Optimized Classification Report:\\n{best_report}\")"
   ]
  },
  {
   "cell_type": "markdown",
   "id": "34a996e2-982f-4d88-9570-6b73f021b0f7",
   "metadata": {},
   "source": [
    "Accuracy increased to 09.16% and recall increased to 90%"
   ]
  },
  {
   "cell_type": "markdown",
   "id": "44a962b6-644a-4af4-aea1-a66e1a2e158e",
   "metadata": {},
   "source": [
    "#### Saving the Final Random Forest Model"
   ]
  },
  {
   "cell_type": "code",
   "execution_count": 67,
   "id": "87346dcd-301d-4d9b-9a2c-b91fe197f26b",
   "metadata": {},
   "outputs": [
    {
     "data": {
      "text/plain": [
       "['final_rf_heart_disease_model.joblib']"
      ]
     },
     "execution_count": 67,
     "metadata": {},
     "output_type": "execute_result"
    }
   ],
   "source": [
    "# Save final model\n",
    "dump(best_model, \"final_rf_heart_disease_model.joblib\")"
   ]
  },
  {
   "cell_type": "markdown",
   "id": "7d1f2eef-bb4e-4a8b-a12f-386a922e928d",
   "metadata": {},
   "source": [
    "### AdaBoost\n",
    "#### Model Training with AdaBoost"
   ]
  },
  {
   "cell_type": "code",
   "execution_count": 68,
   "id": "76257bdf-f4a4-4505-9d3b-2018aaeb1906",
   "metadata": {},
   "outputs": [
    {
     "name": "stdout",
     "output_type": "stream",
     "text": [
      "AdaBoost Model Accuracy: 0.8852\n",
      "\n",
      "Classification Report:\n",
      "               precision    recall  f1-score   support\n",
      "\n",
      "           0       0.93      0.85      0.89        33\n",
      "           1       0.84      0.93      0.88        28\n",
      "\n",
      "    accuracy                           0.89        61\n",
      "   macro avg       0.89      0.89      0.89        61\n",
      "weighted avg       0.89      0.89      0.89        61\n",
      "\n"
     ]
    }
   ],
   "source": [
    "\n",
    "# Define categorical and numerical features\n",
    "categorical_cols_one_hot = ['ca']  # One-Hot Encoding\n",
    "categorical_cols_label = ['slope', 'cp', 'restecg', 'thal']  # Label Encoding\n",
    "numerical_cols = ['age', 'trestbps', 'chol', 'thalach', 'oldpeak']  # Numerical features\n",
    "\n",
    "# Apply One-Hot Encoding\n",
    "encoder = OneHotEncoder(drop='first', sparse_output=False)\n",
    "encoded_categorical = encoder.fit_transform(df_new[categorical_cols_one_hot])\n",
    "encoded_df = pd.DataFrame(encoded_categorical, columns=encoder.get_feature_names_out())\n",
    "\n",
    "# Apply Label Encoding\n",
    "label_encoders = {}\n",
    "for col in categorical_cols_label:\n",
    "    le = LabelEncoder()\n",
    "    df_new[col] = le.fit_transform(df_new[col])  # ✅ Fixed the issue (df_new instead of df)\n",
    "    label_encoders[col] = le  # Store for future use\n",
    "\n",
    "# Merge processed categorical features with numerical features\n",
    "X = pd.concat([df_new[numerical_cols], df_new[categorical_cols_label], encoded_df], axis=1)\n",
    "y = df_new['target']\n",
    "\n",
    "# Convert to NumPy arrays for AdaBoost\n",
    "X = X.to_numpy()\n",
    "y = y.to_numpy()\n",
    "\n",
    "# Split dataset into training and testing sets (80-20 split)\n",
    "X_train, X_test, y_train, y_test = train_test_split(X, y, test_size=0.2, random_state=42, stratify=y)\n",
    "\n",
    "# Apply Feature Scaling (Standardization)\n",
    "scaler = StandardScaler()\n",
    "X_train = scaler.fit_transform(X_train)\n",
    "X_test = scaler.transform(X_test)\n",
    "\n",
    "# ---- Train AdaBoost Model ----\n",
    "\n",
    "# Initialize AdaBoost with Decision Tree as the base estimator (Fixed Error)\n",
    "adaboost_model = AdaBoostClassifier(\n",
    "    estimator=DecisionTreeClassifier(max_depth=1),  # ✅ Fixed: 'base_estimator' -> 'estimator'\n",
    "    n_estimators=100,  # Number of boosting rounds\n",
    "    learning_rate=0.1,  # Learning rate\n",
    "    random_state=42\n",
    ")\n",
    "\n",
    "# Train the model\n",
    "adaboost_model.fit(X_train, y_train)\n",
    "\n",
    "# Make predictions\n",
    "y_pred = adaboost_model.predict(X_test)\n",
    "\n",
    "# Calculate accuracy and classification report\n",
    "accuracy = accuracy_score(y_test, y_pred)\n",
    "report = classification_report(y_test, y_pred)\n",
    "\n",
    "# Display results\n",
    "print(f\"AdaBoost Model Accuracy: {accuracy:.4f}\")\n",
    "print(\"\\nClassification Report:\\n\", report)"
   ]
  },
  {
   "cell_type": "markdown",
   "id": "f78c29f7-682f-4580-a7b7-c99044186eae",
   "metadata": {},
   "source": [
    "Accuaracy of 88,52% and recall of 89%"
   ]
  },
  {
   "cell_type": "code",
   "execution_count": 69,
   "id": "9cae1777-4ed5-45de-9d64-df0f738fb9b6",
   "metadata": {},
   "outputs": [
    {
     "name": "stdout",
     "output_type": "stream",
     "text": [
      "Fitting 3 folds for each of 20 candidates, totalling 60 fits\n",
      "Best Hyperparameters: {'n_estimators': 200, 'learning_rate': 0.2, 'estimator__max_depth': 1, 'algorithm': 'SAMME'}\n",
      "Optimized AdaBoost Accuracy: 0.9016\n",
      "\n",
      "Optimized Classification Report:\n",
      "               precision    recall  f1-score   support\n",
      "\n",
      "           0       0.94      0.88      0.91        33\n",
      "           1       0.87      0.93      0.90        28\n",
      "\n",
      "    accuracy                           0.90        61\n",
      "   macro avg       0.90      0.90      0.90        61\n",
      "weighted avg       0.90      0.90      0.90        61\n",
      "\n"
     ]
    }
   ],
   "source": [
    "from sklearn.model_selection import RandomizedSearchCV\n",
    "\n",
    "# Define hyperparameter grid for AdaBoost\n",
    "param_dist = {\n",
    "    'n_estimators': [50, 100, 200, 300],  # Number of boosting rounds\n",
    "    'learning_rate': [0.01, 0.1, 0.2, 0.5, 1.0],  # Step size shrinkage\n",
    "    'estimator__max_depth': [1, 2, 3, 4, 5],  # Depth of weak learners (base estimator)\n",
    "    'algorithm': ['SAMME'],  # 🔹 Use only \"SAMME\" to remove warnings\n",
    "}\n",
    "\n",
    "# Initialize AdaBoost model with DecisionTree as base estimator\n",
    "base_model = AdaBoostClassifier(estimator=DecisionTreeClassifier(), random_state=42)\n",
    "\n",
    "# Perform Randomized Search for tuning\n",
    "random_search = RandomizedSearchCV(\n",
    "    estimator=base_model,\n",
    "    param_distributions=param_dist,\n",
    "    n_iter=20,  # Number of iterations for searching\n",
    "    cv=3,  # 3-fold cross-validation\n",
    "    scoring='accuracy',\n",
    "    verbose=1,\n",
    "    n_jobs=-1,\n",
    "    random_state=42\n",
    ")\n",
    "\n",
    "# Fit hyperparameter tuning\n",
    "random_search.fit(X_train, y_train)\n",
    "\n",
    "# Get best hyperparameters\n",
    "best_params = random_search.best_params_\n",
    "print(\"Best Hyperparameters:\", best_params)\n",
    "\n",
    "# Train AdaBoost with best parameters\n",
    "best_model = AdaBoostClassifier(\n",
    "    estimator=DecisionTreeClassifier(max_depth=best_params['estimator__max_depth']),\n",
    "    n_estimators=best_params['n_estimators'],\n",
    "    learning_rate=best_params['learning_rate'],\n",
    "    algorithm=\"SAMME\",  # 🔹 Use \"SAMME\" to eliminate warnings\n",
    "    random_state=42\n",
    ")\n",
    "best_model.fit(X_train, y_train)\n",
    "\n",
    "# Make predictions\n",
    "y_pred_best = best_model.predict(X_test)\n",
    "\n",
    "# Calculate accuracy and classification report\n",
    "best_accuracy = accuracy_score(y_test, y_pred_best)\n",
    "best_report = classification_report(y_test, y_pred_best)\n",
    "\n",
    "# Display results\n",
    "print(f\"Optimized AdaBoost Accuracy: {best_accuracy:.4f}\")\n",
    "print(\"\\nOptimized Classification Report:\\n\", best_report)"
   ]
  },
  {
   "cell_type": "markdown",
   "id": "1e2c4d24-57c9-463c-9b0c-ed17abd0e00b",
   "metadata": {},
   "source": [
    "Hyperparameter tuning increases the accuracy to 90.16% and recall to 90%"
   ]
  },
  {
   "cell_type": "markdown",
   "id": "78df886c-fbd6-4e8a-9d1f-6667ab94c1e6",
   "metadata": {},
   "source": [
    "Accuracy increases to 91.80% and recall increases to 92%"
   ]
  },
  {
   "cell_type": "markdown",
   "id": "a8f8ea5a-0566-4ebb-8687-1255335f52f6",
   "metadata": {},
   "source": [
    "#### Saving the Final AdaBoost Model"
   ]
  },
  {
   "cell_type": "code",
   "execution_count": 70,
   "id": "10bcd4be-216d-41c9-a117-b9093ceb1003",
   "metadata": {},
   "outputs": [
    {
     "data": {
      "text/plain": [
       "['final_ab_heart_disease_model.joblib']"
      ]
     },
     "execution_count": 70,
     "metadata": {},
     "output_type": "execute_result"
    }
   ],
   "source": [
    "# Save final model\n",
    "dump(best_model, \"final_ab_heart_disease_model.joblib\")"
   ]
  },
  {
   "cell_type": "markdown",
   "id": "a92e4e1b-5fc4-444d-b59c-b4d53ea1529c",
   "metadata": {},
   "source": [
    "### XGBoost\n",
    "#### Model Training with XGBoost"
   ]
  },
  {
   "cell_type": "code",
   "execution_count": 71,
   "id": "03b93fb3-fd8d-4c17-9a8f-e1812149c636",
   "metadata": {},
   "outputs": [
    {
     "name": "stdout",
     "output_type": "stream",
     "text": [
      "XGBoost Model Accuracy: 0.8197\n",
      "\n",
      "Classification Report:\n",
      "               precision    recall  f1-score   support\n",
      "\n",
      "           0       0.87      0.79      0.83        33\n",
      "           1       0.77      0.86      0.81        28\n",
      "\n",
      "    accuracy                           0.82        61\n",
      "   macro avg       0.82      0.82      0.82        61\n",
      "weighted avg       0.82      0.82      0.82        61\n",
      "\n"
     ]
    }
   ],
   "source": [
    "# Define categorical and numerical features\n",
    "categorical_cols_one_hot = ['ca']  # Features for One-Hot Encoding\n",
    "categorical_cols_label = ['slope', 'cp', 'restecg', 'thal']  # Features for Label Encoding\n",
    "numerical_cols = ['age', 'trestbps', 'chol', 'thalach', 'oldpeak']  # Numerical features\n",
    "\n",
    "# Apply One-Hot Encoding (Fixed Issue)\n",
    "encoder = OneHotEncoder(drop='first', sparse_output=False)  # Fixed sparse_output issue\n",
    "encoded_categorical = encoder.fit_transform(df_new[categorical_cols_one_hot])\n",
    "encoded_df = pd.DataFrame(encoded_categorical, columns=encoder.get_feature_names_out())\n",
    "\n",
    "# Apply Label Encoding\n",
    "label_encoders = {}\n",
    "for col in categorical_cols_label:\n",
    "    le = LabelEncoder()\n",
    "    df_new[col] = le.fit_transform(df_new[col])  # Encode in place\n",
    "    label_encoders[col] = le  # Store for future use\n",
    "\n",
    "# Merge processed categorical features with numerical features\n",
    "X = pd.concat([df_new[numerical_cols], df_new[categorical_cols_label], encoded_df], axis=1)\n",
    "y = df_new['target']\n",
    "\n",
    "# Convert to NumPy arrays for XGBoost\n",
    "X = X.to_numpy()\n",
    "y = y.to_numpy()\n",
    "\n",
    "# Split dataset into training and testing sets (80-20 split)\n",
    "X_train, X_test, y_train, y_test = train_test_split(X, y, test_size=0.2, random_state=42, stratify=y)\n",
    "\n",
    "# Apply Feature Scaling (Standardization)\n",
    "scaler = StandardScaler()\n",
    "X_train = scaler.fit_transform(X_train)\n",
    "X_test = scaler.transform(X_test)\n",
    "\n",
    "# ---- Train XGBoost Model ----\n",
    "\n",
    "# Initialize XGBoost model\n",
    "xgb_model = XGBClassifier(\n",
    "    objective='binary:logistic',\n",
    "    tree_method='hist',\n",
    "    max_depth=5,\n",
    "    learning_rate=0.1,\n",
    "    n_estimators=100,\n",
    "    random_state=42\n",
    ")\n",
    "\n",
    "# Train the model\n",
    "xgb_model.fit(X_train, y_train)\n",
    "\n",
    "# Make predictions\n",
    "y_pred = xgb_model.predict(X_test)\n",
    "\n",
    "# Calculate accuracy and classification report\n",
    "accuracy = accuracy_score(y_test, y_pred)\n",
    "report = classification_report(y_test, y_pred)\n",
    "\n",
    "# Display results\n",
    "print(f\"XGBoost Model Accuracy: {accuracy:.4f}\")\n",
    "print(\"\\nClassification Report:\\n\", report)"
   ]
  },
  {
   "cell_type": "markdown",
   "id": "cc18cf3c-260c-4e3f-b4a0-b75842d0bf98",
   "metadata": {},
   "source": [
    "Accuracy is 81.97% and recall is 82%"
   ]
  },
  {
   "cell_type": "code",
   "execution_count": 72,
   "id": "1b62b834-6bfd-4b99-8918-33c9ef44abde",
   "metadata": {},
   "outputs": [
    {
     "name": "stdout",
     "output_type": "stream",
     "text": [
      "Fitting 3 folds for each of 20 candidates, totalling 60 fits\n",
      "{'subsample': 0.8, 'reg_lambda': 0, 'n_estimators': 50, 'max_depth': 3, 'learning_rate': 0.01, 'gamma': 0.1, 'colsample_bytree': 0.7}\n",
      "\n",
      "0.819672131147541\n",
      "\n",
      "              precision    recall  f1-score   support\n",
      "\n",
      "           0       0.79      0.91      0.85        33\n",
      "           1       0.87      0.71      0.78        28\n",
      "\n",
      "    accuracy                           0.82        61\n",
      "   macro avg       0.83      0.81      0.81        61\n",
      "weighted avg       0.83      0.82      0.82        61\n",
      "\n"
     ]
    }
   ],
   "source": [
    "# Define hyperparameter grid for XGBoost\n",
    "param_dist_xgb = {\n",
    "    'n_estimators': [50, 100, 200, 300],  # Number of boosting rounds\n",
    "    'learning_rate': [0.01, 0.1, 0.2, 0.5],  # Learning rate\n",
    "    'max_depth': [3, 5, 7, 10],  # Tree depth\n",
    "    'subsample': [0.7, 0.8, 1.0],  # Fraction of samples used for training\n",
    "    'colsample_bytree': [0.7, 0.8, 1.0],  # Fraction of features used at each split\n",
    "    'gamma': [0, 0.1, 0.2, 0.5],  # Regularization parameter\n",
    "    'reg_lambda': [0, 1, 2, 5],  # L2 regularization\n",
    "}\n",
    "\n",
    "# Initialize XGBoost model\n",
    "xgb_model = XGBClassifier(objective='binary:logistic', tree_method='hist', random_state=42)\n",
    "\n",
    "# Perform Randomized Search for tuning\n",
    "random_search_xgb = RandomizedSearchCV(\n",
    "    estimator=xgb_model,\n",
    "    param_distributions=param_dist_xgb,\n",
    "    n_iter=20,  # Number of iterations for searching\n",
    "    cv=3,  # 3-fold cross-validation\n",
    "    scoring='accuracy',\n",
    "    verbose=1,\n",
    "    n_jobs=-1,\n",
    "    random_state=42\n",
    ")\n",
    "\n",
    "# Fit hyperparameter tuning\n",
    "random_search_xgb.fit(X_train, y_train)\n",
    "\n",
    "# Get best hyperparameters\n",
    "best_params_xgb = random_search_xgb.best_params_\n",
    "\n",
    "# Train XGBoost with best parameters\n",
    "best_xgb_model = XGBClassifier(\n",
    "    **best_params_xgb,  # Unpack best hyperparameters\n",
    "    objective='binary:logistic',\n",
    "    tree_method='hist',\n",
    "    random_state=42\n",
    ")\n",
    "best_xgb_model.fit(X_train, y_train)\n",
    "\n",
    "# Make predictions\n",
    "y_pred_xgb_best = best_xgb_model.predict(X_test)\n",
    "\n",
    "# Calculate accuracy and classification report\n",
    "best_accuracy_xgb = accuracy_score(y_test, y_pred_xgb_best)\n",
    "best_report_xgb = classification_report(y_test, y_pred_xgb_best)\n",
    "\n",
    "# Display results\n",
    "print(best_params_xgb)\n",
    "print()\n",
    "print(best_accuracy_xgb)\n",
    "print()\n",
    "print( best_report_xgb)"
   ]
  },
  {
   "cell_type": "markdown",
   "id": "ad8aee94-46c1-4c88-b839-b28d7ebf1d53",
   "metadata": {},
   "source": [
    "Accuracy is 85.24% and Recall of 86%"
   ]
  },
  {
   "cell_type": "markdown",
   "id": "545e5a0c-b0d3-43cf-97f2-7c4d928b823b",
   "metadata": {},
   "source": [
    "#### Saving the Final XGBoost Model"
   ]
  },
  {
   "cell_type": "markdown",
   "id": "28233033-7faa-43e5-bb53-60523889a465",
   "metadata": {},
   "source": [
    "### LightGBM\n",
    "#### Model Training with LightGBM"
   ]
  },
  {
   "cell_type": "code",
   "execution_count": 73,
   "id": "bf306647-06fc-4c16-b756-9c4821712541",
   "metadata": {},
   "outputs": [
    {
     "name": "stdout",
     "output_type": "stream",
     "text": [
      "Training until validation scores don't improve for 50 rounds\n",
      "[100]\tvalid's binary_logloss: 0.340806\tvalid's auc: 0.925325\n",
      "Early stopping, best iteration is:\n",
      "[92]\tvalid's binary_logloss: 0.336044\tvalid's auc: 0.933983\n",
      "Accuracy: 0.8361\n",
      "\n",
      "AUC Score: 0.9340\n",
      "\n",
      "\n",
      "Classification Report:\n",
      "\n",
      "              precision    recall  f1-score   support\n",
      "\n",
      "     Class 0       0.87      0.82      0.84        33\n",
      "     Class 1       0.80      0.86      0.83        28\n",
      "\n",
      "    accuracy                           0.84        61\n",
      "   macro avg       0.84      0.84      0.84        61\n",
      "weighted avg       0.84      0.84      0.84        61\n",
      "\n"
     ]
    }
   ],
   "source": [
    "\n",
    "# Define categorical and numerical features\n",
    "categorical_cols_one_hot = ['ca']  # Features for One-Hot Encoding\n",
    "categorical_cols_label = ['slope', 'cp', 'restecg', 'thal']  # Features for Label Encoding\n",
    "numerical_cols = ['age', 'trestbps', 'chol', 'thalach', 'oldpeak']  # Numerical features\n",
    "\n",
    "\n",
    "\n",
    "# Apply One-Hot Encoding\n",
    "encoder = OneHotEncoder(drop='first', sparse_output=False)  \n",
    "encoded_categorical = encoder.fit_transform(df_new[categorical_cols_one_hot])\n",
    "encoded_df = pd.DataFrame(encoded_categorical, columns=encoder.get_feature_names_out())\n",
    "\n",
    "# Apply Label Encoding\n",
    "label_encoders = {}\n",
    "for col in categorical_cols_label:\n",
    "    le = LabelEncoder()\n",
    "    df_new[col] = le.fit_transform(df_new[col])  # Encode in place\n",
    "    label_encoders[col] = le  # Store for future use\n",
    "\n",
    "# Merge processed categorical features with numerical features\n",
    "X = pd.concat([df_new[numerical_cols], df_new[categorical_cols_label], encoded_df], axis=1)\n",
    "y = df_new['target']\n",
    "\n",
    "# Convert to NumPy arrays for LightGBM\n",
    "X = X.to_numpy()\n",
    "y = y.to_numpy()\n",
    "\n",
    "# Split dataset into training and testing sets (80-20 split)\n",
    "X_train, X_test, y_train, y_test = train_test_split(X, y, test_size=0.2, random_state=42, stratify=y)\n",
    "\n",
    "# Apply Feature Scaling (Standardization)\n",
    "scaler = StandardScaler()\n",
    "X_train = scaler.fit_transform(X_train)\n",
    "X_test = scaler.transform(X_test)\n",
    "\n",
    "# Convert data to LightGBM dataset format\n",
    "train_data = lgb.Dataset(X_train, label=y_train)\n",
    "valid_data = lgb.Dataset(X_test, label=y_test, reference=train_data)\n",
    "\n",
    "# Set LightGBM parameters\n",
    "params = {\n",
    "    \"objective\": \"binary\",\n",
    "    \"metric\": [\"binary_logloss\", \"auc\"],\n",
    "    \"boosting_type\": \"gbdt\",\n",
    "    \"learning_rate\": 0.05,\n",
    "    \"num_leaves\": 31,\n",
    "    \"max_depth\": -1,\n",
    "    \"min_data_in_leaf\": 20,\n",
    "    \"verbosity\": -1,\n",
    "    \"random_state\": 42\n",
    "}\n",
    "\n",
    "# Train LightGBM model with early stopping\n",
    "evals_result = {}  # Initialize evaluation results dictionary\n",
    "\n",
    "model = lgb.train(\n",
    "    params,\n",
    "    train_data,\n",
    "    valid_sets=[valid_data],  # Use only validation data for early stopping\n",
    "    valid_names=[\"valid\"],\n",
    "    num_boost_round=1000,\n",
    "    callbacks=[\n",
    "        early_stopping(50),  # Ensure early stopping works\n",
    "        record_evaluation(evals_result),  # Record evaluation metrics\n",
    "        log_evaluation(100)  # Log evaluation every 100 iterations instead of using verbose_eval\n",
    "    ]\n",
    ")\n",
    "\n",
    "# Predictions\n",
    "y_pred = model.predict(X_test, num_iteration=model.best_iteration)\n",
    "y_pred_binary = (y_pred > 0.5).astype(int)\n",
    "\n",
    "# Evaluation\n",
    "accuracy = accuracy_score(y_test, y_pred_binary)\n",
    "auc = roc_auc_score(y_test, y_pred)\n",
    "\n",
    "print(f\"Accuracy: {accuracy:.4f}\")\n",
    "print()\n",
    "print(f\"AUC Score: {auc:.4f}\")\n",
    "print()\n",
    "print(\"\\nClassification Report:\\n\")\n",
    "print(classification_report(y_test, y_pred_binary, target_names=[\"Class 0\", \"Class 1\"]))"
   ]
  },
  {
   "cell_type": "markdown",
   "id": "01a2331f-3d53-4d4f-afac-1f044554d0b0",
   "metadata": {},
   "source": [
    "accuracy is 81.97 and Recall is 82%"
   ]
  },
  {
   "cell_type": "code",
   "execution_count": 74,
   "id": "e9aa0b36-036c-4e58-9ccf-d6c49d4a3779",
   "metadata": {},
   "outputs": [
    {
     "name": "stderr",
     "output_type": "stream",
     "text": [
      "[I 2025-02-04 00:52:32,859] A new study created in memory with name: no-name-309db8c2-7b38-479b-9a3e-0446b44a2fd7\n"
     ]
    },
    {
     "name": "stdout",
     "output_type": "stream",
     "text": [
      "Training until validation scores don't improve for 50 rounds\n",
      "Early stopping, best iteration is:\n",
      "[27]\tvalid_0's auc: 0.912207\n",
      "Training until validation scores don't improve for 50 rounds\n",
      "[100]\tvalid_0's auc: 0.86532\n",
      "Early stopping, best iteration is:\n",
      "[65]\tvalid_0's auc: 0.874579\n",
      "Training until validation scores don't improve for 50 rounds\n",
      "Early stopping, best iteration is:\n",
      "[3]\tvalid_0's auc: 0.863636\n",
      "Training until validation scores don't improve for 50 rounds\n",
      "Early stopping, best iteration is:\n",
      "[36]\tvalid_0's auc: 0.858392\n",
      "Training until validation scores don't improve for 50 rounds\n"
     ]
    },
    {
     "name": "stderr",
     "output_type": "stream",
     "text": [
      "[I 2025-02-04 00:54:23,582] Trial 0 finished with value: 0.8753642894947242 and parameters: {'learning_rate': 0.16747017000504685, 'num_leaves': 42, 'max_depth': 1, 'min_data_in_leaf': 50, 'feature_fraction': 0.41407948496226976, 'bagging_fraction': 0.8684038146547461, 'bagging_freq': 9, 'lambda_l1': 2.4863256815394084, 'lambda_l2': 0.9353777351429876}. Best is trial 0 with value: 0.8753642894947242.\n"
     ]
    },
    {
     "name": "stdout",
     "output_type": "stream",
     "text": [
      "Early stopping, best iteration is:\n",
      "[23]\tvalid_0's auc: 0.868007\n",
      "Training until validation scores don't improve for 50 rounds\n",
      "[100]\tvalid_0's auc: 0.919732\n",
      "Early stopping, best iteration is:\n",
      "[86]\tvalid_0's auc: 0.951505\n",
      "Training until validation scores don't improve for 50 rounds\n",
      "Early stopping, best iteration is:\n",
      "[12]\tvalid_0's auc: 0.891414\n",
      "Training until validation scores don't improve for 50 rounds\n",
      "Early stopping, best iteration is:\n",
      "[2]\tvalid_0's auc: 0.875874\n",
      "Training until validation scores don't improve for 50 rounds\n",
      "Early stopping, best iteration is:\n",
      "[39]\tvalid_0's auc: 0.86014\n",
      "Training until validation scores don't improve for 50 rounds\n"
     ]
    },
    {
     "name": "stderr",
     "output_type": "stream",
     "text": [
      "[I 2025-02-04 00:58:05,787] Trial 1 finished with value: 0.8893880274315056 and parameters: {'learning_rate': 0.1134177680049905, 'num_leaves': 95, 'max_depth': 6, 'min_data_in_leaf': 26, 'feature_fraction': 0.6822601772446457, 'bagging_fraction': 0.5395912587647493, 'bagging_freq': 1, 'lambda_l1': 1.3853553964497312e-07, 'lambda_l2': 2.271385395954401e-06}. Best is trial 1 with value: 0.8893880274315056.\n"
     ]
    },
    {
     "name": "stdout",
     "output_type": "stream",
     "text": [
      "Early stopping, best iteration is:\n",
      "[16]\tvalid_0's auc: 0.868007\n",
      "Training until validation scores don't improve for 50 rounds\n",
      "Early stopping, best iteration is:\n",
      "[22]\tvalid_0's auc: 0.911371\n",
      "Training until validation scores don't improve for 50 rounds\n",
      "[100]\tvalid_0's auc: 0.862795\n",
      "Early stopping, best iteration is:\n",
      "[130]\tvalid_0's auc: 0.871212\n",
      "Training until validation scores don't improve for 50 rounds\n",
      "Early stopping, best iteration is:\n",
      "[13]\tvalid_0's auc: 0.887238\n",
      "Training until validation scores don't improve for 50 rounds\n",
      "Early stopping, best iteration is:\n",
      "[25]\tvalid_0's auc: 0.846154\n",
      "Training until validation scores don't improve for 50 rounds\n",
      "[100]\tvalid_0's auc: 0.854021\n",
      "[200]\tvalid_0's auc: 0.873252\n"
     ]
    },
    {
     "name": "stderr",
     "output_type": "stream",
     "text": [
      "[I 2025-02-04 01:01:51,091] Trial 2 finished with value: 0.8763172415346329 and parameters: {'learning_rate': 0.07483412826264596, 'num_leaves': 144, 'max_depth': 12, 'min_data_in_leaf': 79, 'feature_fraction': 0.8959760069579734, 'bagging_fraction': 0.887068297923094, 'bagging_freq': 1, 'lambda_l1': 0.23122554218087263, 'lambda_l2': 0.7407644103715602}. Best is trial 1 with value: 0.8893880274315056.\n"
     ]
    },
    {
     "name": "stdout",
     "output_type": "stream",
     "text": [
      "Early stopping, best iteration is:\n",
      "[165]\tvalid_0's auc: 0.875\n",
      "Training until validation scores don't improve for 50 rounds\n",
      "Early stopping, best iteration is:\n",
      "[1]\tvalid_0's auc: 0.5\n",
      "Training until validation scores don't improve for 50 rounds\n",
      "Early stopping, best iteration is:\n",
      "[1]\tvalid_0's auc: 0.5\n",
      "Training until validation scores don't improve for 50 rounds\n",
      "Early stopping, best iteration is:\n",
      "[1]\tvalid_0's auc: 0.5\n",
      "Training until validation scores don't improve for 50 rounds\n",
      "Early stopping, best iteration is:\n",
      "[1]\tvalid_0's auc: 0.5\n",
      "Training until validation scores don't improve for 50 rounds\n"
     ]
    },
    {
     "name": "stderr",
     "output_type": "stream",
     "text": [
      "[I 2025-02-04 01:02:38,582] Trial 3 finished with value: 0.5 and parameters: {'learning_rate': 0.09617898778521092, 'num_leaves': 75, 'max_depth': 7, 'min_data_in_leaf': 75, 'feature_fraction': 0.9360062543771936, 'bagging_fraction': 0.5416068220497046, 'bagging_freq': 9, 'lambda_l1': 0.03866799904414604, 'lambda_l2': 1.035592854834476e-08}. Best is trial 1 with value: 0.8893880274315056.\n"
     ]
    },
    {
     "name": "stdout",
     "output_type": "stream",
     "text": [
      "Early stopping, best iteration is:\n",
      "[1]\tvalid_0's auc: 0.5\n",
      "Training until validation scores don't improve for 50 rounds\n",
      "[100]\tvalid_0's auc: 0.899666\n",
      "[200]\tvalid_0's auc: 0.911371\n",
      "Early stopping, best iteration is:\n",
      "[159]\tvalid_0's auc: 0.91806\n",
      "Training until validation scores don't improve for 50 rounds\n",
      "Early stopping, best iteration is:\n",
      "[3]\tvalid_0's auc: 0.887205\n",
      "Training until validation scores don't improve for 50 rounds\n",
      "[100]\tvalid_0's auc: 0.865385\n",
      "Early stopping, best iteration is:\n",
      "[53]\tvalid_0's auc: 0.884615\n",
      "Training until validation scores don't improve for 50 rounds\n",
      "[100]\tvalid_0's auc: 0.856643\n",
      "Early stopping, best iteration is:\n",
      "[56]\tvalid_0's auc: 0.874126\n",
      "Training until validation scores don't improve for 50 rounds\n"
     ]
    },
    {
     "name": "stderr",
     "output_type": "stream",
     "text": [
      "[I 2025-02-04 01:04:31,329] Trial 4 finished with value: 0.8869272434489825 and parameters: {'learning_rate': 0.04008784224032279, 'num_leaves': 97, 'max_depth': 20, 'min_data_in_leaf': 35, 'feature_fraction': 0.6026356945232012, 'bagging_fraction': 0.9872807196489917, 'bagging_freq': 4, 'lambda_l1': 1.784429194935395e-05, 'lambda_l2': 1.2635535812794922e-07}. Best is trial 1 with value: 0.8893880274315056.\n"
     ]
    },
    {
     "name": "stdout",
     "output_type": "stream",
     "text": [
      "Early stopping, best iteration is:\n",
      "[49]\tvalid_0's auc: 0.870629\n",
      "Training until validation scores don't improve for 50 rounds\n",
      "Early stopping, best iteration is:\n",
      "[42]\tvalid_0's auc: 0.828595\n",
      "Training until validation scores don't improve for 50 rounds\n",
      "[100]\tvalid_0's auc: 0.79798\n",
      "[200]\tvalid_0's auc: 0.838384\n",
      "Early stopping, best iteration is:\n",
      "[194]\tvalid_0's auc: 0.838384\n",
      "Training until validation scores don't improve for 50 rounds\n",
      "[100]\tvalid_0's auc: 0.866259\n",
      "[200]\tvalid_0's auc: 0.88549\n",
      "Early stopping, best iteration is:\n",
      "[201]\tvalid_0's auc: 0.888986\n",
      "Training until validation scores don't improve for 50 rounds\n",
      "[100]\tvalid_0's auc: 0.854021\n",
      "Early stopping, best iteration is:\n",
      "[95]\tvalid_0's auc: 0.86451\n"
     ]
    },
    {
     "name": "stderr",
     "output_type": "stream",
     "text": [
      "[I 2025-02-04 01:04:31,568] Trial 5 finished with value: 0.8369117597378468 and parameters: {'learning_rate': 0.014046247238854326, 'num_leaves': 40, 'max_depth': 11, 'min_data_in_leaf': 57, 'feature_fraction': 0.9476933107989994, 'bagging_fraction': 0.5458265006829863, 'bagging_freq': 5, 'lambda_l1': 0.0007062131728261387, 'lambda_l2': 0.00022291201930072565}. Best is trial 1 with value: 0.8893880274315056.\n"
     ]
    },
    {
     "name": "stdout",
     "output_type": "stream",
     "text": [
      "Training until validation scores don't improve for 50 rounds\n",
      "Early stopping, best iteration is:\n",
      "[16]\tvalid_0's auc: 0.816434\n",
      "Training until validation scores don't improve for 50 rounds\n",
      "[100]\tvalid_0's auc: 0.91806\n",
      "Early stopping, best iteration is:\n",
      "[92]\tvalid_0's auc: 0.921405\n",
      "Training until validation scores don't improve for 50 rounds\n",
      "[100]\tvalid_0's auc: 0.852694\n",
      "Early stopping, best iteration is:\n",
      "[69]\tvalid_0's auc: 0.86532\n",
      "Training until validation scores don't improve for 50 rounds\n",
      "Early stopping, best iteration is:\n",
      "[33]\tvalid_0's auc: 0.88986\n",
      "Training until validation scores don't improve for 50 rounds\n",
      "Early stopping, best iteration is:\n",
      "[39]\tvalid_0's auc: 0.83479\n",
      "Training until validation scores don't improve for 50 rounds\n"
     ]
    },
    {
     "name": "stderr",
     "output_type": "stream",
     "text": [
      "[I 2025-02-04 01:04:31,795] Trial 6 finished with value: 0.8762260283999416 and parameters: {'learning_rate': 0.03712694596965724, 'num_leaves': 102, 'max_depth': 10, 'min_data_in_leaf': 66, 'feature_fraction': 0.9634074459279541, 'bagging_fraction': 0.8829961725624774, 'bagging_freq': 10, 'lambda_l1': 1.0655736465313249e-05, 'lambda_l2': 3.9952785823436617e-07}. Best is trial 1 with value: 0.8893880274315056.\n"
     ]
    },
    {
     "name": "stdout",
     "output_type": "stream",
     "text": [
      "[100]\tvalid_0's auc: 0.869755\n",
      "Early stopping, best iteration is:\n",
      "[99]\tvalid_0's auc: 0.869755\n",
      "Training until validation scores don't improve for 50 rounds\n",
      "[100]\tvalid_0's auc: 0.913043\n",
      "Early stopping, best iteration is:\n",
      "[67]\tvalid_0's auc: 0.925585\n",
      "Training until validation scores don't improve for 50 rounds\n",
      "[100]\tvalid_0's auc: 0.850168\n",
      "Early stopping, best iteration is:\n",
      "[58]\tvalid_0's auc: 0.859428\n",
      "Training until validation scores don't improve for 50 rounds\n",
      "Early stopping, best iteration is:\n",
      "[49]\tvalid_0's auc: 0.881119\n",
      "Training until validation scores don't improve for 50 rounds\n",
      "Early stopping, best iteration is:\n",
      "[29]\tvalid_0's auc: 0.848776\n",
      "Training until validation scores don't improve for 50 rounds\n"
     ]
    },
    {
     "name": "stderr",
     "output_type": "stream",
     "text": [
      "[I 2025-02-04 01:06:10,683] Trial 7 finished with value: 0.8741354458745763 and parameters: {'learning_rate': 0.033069443096946975, 'num_leaves': 78, 'max_depth': -1, 'min_data_in_leaf': 59, 'feature_fraction': 0.6398288932011433, 'bagging_fraction': 0.7832382683650121, 'bagging_freq': 7, 'lambda_l1': 0.07349183554844263, 'lambda_l2': 8.574634618691377e-08}. Best is trial 1 with value: 0.8893880274315056.\n"
     ]
    },
    {
     "name": "stdout",
     "output_type": "stream",
     "text": [
      "Early stopping, best iteration is:\n",
      "[8]\tvalid_0's auc: 0.855769\n",
      "Training until validation scores don't improve for 50 rounds\n",
      "Early stopping, best iteration is:\n",
      "[29]\tvalid_0's auc: 0.937291\n",
      "Training until validation scores don't improve for 50 rounds\n",
      "[100]\tvalid_0's auc: 0.867003\n",
      "Early stopping, best iteration is:\n",
      "[109]\tvalid_0's auc: 0.869529\n",
      "Training until validation scores don't improve for 50 rounds\n",
      "Early stopping, best iteration is:\n",
      "[15]\tvalid_0's auc: 0.88986\n",
      "Training until validation scores don't improve for 50 rounds\n",
      "Early stopping, best iteration is:\n",
      "[37]\tvalid_0's auc: 0.847902\n",
      "Training until validation scores don't improve for 50 rounds\n"
     ]
    },
    {
     "name": "stderr",
     "output_type": "stream",
     "text": [
      "[I 2025-02-04 01:08:31,929] Trial 8 finished with value: 0.8818184633402026 and parameters: {'learning_rate': 0.05166705792600874, 'num_leaves': 144, 'max_depth': 14, 'min_data_in_leaf': 70, 'feature_fraction': 0.7252364083008502, 'bagging_fraction': 0.8977049679342928, 'bagging_freq': 5, 'lambda_l1': 3.296853583222991e-06, 'lambda_l2': 1.8818253079288482e-08}. Best is trial 1 with value: 0.8893880274315056.\n"
     ]
    },
    {
     "name": "stdout",
     "output_type": "stream",
     "text": [
      "Early stopping, best iteration is:\n",
      "[46]\tvalid_0's auc: 0.86451\n",
      "Training until validation scores don't improve for 50 rounds\n",
      "Early stopping, best iteration is:\n",
      "[1]\tvalid_0's auc: 0.5\n",
      "Training until validation scores don't improve for 50 rounds\n",
      "Early stopping, best iteration is:\n",
      "[1]\tvalid_0's auc: 0.5\n",
      "Training until validation scores don't improve for 50 rounds\n",
      "Early stopping, best iteration is:\n",
      "[1]\tvalid_0's auc: 0.5\n",
      "Training until validation scores don't improve for 50 rounds\n",
      "Early stopping, best iteration is:\n",
      "[1]\tvalid_0's auc: 0.5\n",
      "Training until validation scores don't improve for 50 rounds\n"
     ]
    },
    {
     "name": "stderr",
     "output_type": "stream",
     "text": [
      "[I 2025-02-04 01:09:25,531] Trial 9 finished with value: 0.5 and parameters: {'learning_rate': 0.03176308818351074, 'num_leaves': 130, 'max_depth': 8, 'min_data_in_leaf': 79, 'feature_fraction': 0.6288034522451746, 'bagging_fraction': 0.4983670886770205, 'bagging_freq': 1, 'lambda_l1': 3.1005736463924536e-06, 'lambda_l2': 2.3457770918817666e-08}. Best is trial 1 with value: 0.8893880274315056.\n"
     ]
    },
    {
     "name": "stdout",
     "output_type": "stream",
     "text": [
      "Early stopping, best iteration is:\n",
      "[1]\tvalid_0's auc: 0.5\n",
      "Training until validation scores don't improve for 50 rounds\n",
      "Early stopping, best iteration is:\n",
      "[12]\tvalid_0's auc: 0.921405\n",
      "Training until validation scores don't improve for 50 rounds\n",
      "Early stopping, best iteration is:\n",
      "[2]\tvalid_0's auc: 0.875421\n",
      "Training until validation scores don't improve for 50 rounds\n",
      "Early stopping, best iteration is:\n",
      "[21]\tvalid_0's auc: 0.81993\n",
      "Training until validation scores don't improve for 50 rounds\n",
      "Early stopping, best iteration is:\n",
      "[12]\tvalid_0's auc: 0.856643\n",
      "Training until validation scores don't improve for 50 rounds\n"
     ]
    },
    {
     "name": "stderr",
     "output_type": "stream",
     "text": [
      "[I 2025-02-04 01:14:14,586] Trial 10 finished with value: 0.8647846919586051 and parameters: {'learning_rate': 0.2967113482900649, 'num_leaves': 22, 'max_depth': 3, 'min_data_in_leaf': 11, 'feature_fraction': 0.7888292077852126, 'bagging_fraction': 0.6559902506125046, 'bagging_freq': 3, 'lambda_l1': 1.082445714184753e-08, 'lambda_l2': 3.943258316756262e-05}. Best is trial 1 with value: 0.8893880274315056.\n"
     ]
    },
    {
     "name": "stdout",
     "output_type": "stream",
     "text": [
      "Early stopping, best iteration is:\n",
      "[6]\tvalid_0's auc: 0.850524\n",
      "Training until validation scores don't improve for 50 rounds\n",
      "[100]\tvalid_0's auc: 0.911371\n",
      "Early stopping, best iteration is:\n",
      "[74]\tvalid_0's auc: 0.921405\n",
      "Training until validation scores don't improve for 50 rounds\n",
      "[100]\tvalid_0's auc: 0.819865\n",
      "Early stopping, best iteration is:\n",
      "[52]\tvalid_0's auc: 0.860269\n",
      "Training until validation scores don't improve for 50 rounds\n",
      "Early stopping, best iteration is:\n",
      "[37]\tvalid_0's auc: 0.858392\n",
      "Training until validation scores don't improve for 50 rounds\n",
      "Early stopping, best iteration is:\n",
      "[42]\tvalid_0's auc: 0.861888\n",
      "Training until validation scores don't improve for 50 rounds\n"
     ]
    },
    {
     "name": "stderr",
     "output_type": "stream",
     "text": [
      "[I 2025-02-04 01:17:57,142] Trial 11 finished with value: 0.8724187245926377 and parameters: {'learning_rate': 0.12753203630322413, 'num_leaves': 105, 'max_depth': 20, 'min_data_in_leaf': 29, 'feature_fraction': 0.5046422744653107, 'bagging_fraction': 0.6724053018263502, 'bagging_freq': 3, 'lambda_l1': 1.1282533006596793e-08, 'lambda_l2': 4.250861022622392e-06}. Best is trial 1 with value: 0.8893880274315056.\n"
     ]
    },
    {
     "name": "stdout",
     "output_type": "stream",
     "text": [
      "Early stopping, best iteration is:\n",
      "[27]\tvalid_0's auc: 0.86014\n",
      "Training until validation scores don't improve for 50 rounds\n",
      "Early stopping, best iteration is:\n",
      "[7]\tvalid_0's auc: 0.920569\n",
      "Training until validation scores don't improve for 50 rounds\n",
      "[100]\tvalid_0's auc: 0.853535\n",
      "Early stopping, best iteration is:\n",
      "[98]\tvalid_0's auc: 0.855219\n",
      "Training until validation scores don't improve for 50 rounds\n",
      "Early stopping, best iteration is:\n",
      "[46]\tvalid_0's auc: 0.878497\n",
      "Training until validation scores don't improve for 50 rounds\n",
      "[100]\tvalid_0's auc: 0.873252\n",
      "Early stopping, best iteration is:\n",
      "[99]\tvalid_0's auc: 0.873252\n",
      "Training until validation scores don't improve for 50 rounds\n"
     ]
    },
    {
     "name": "stderr",
     "output_type": "stream",
     "text": [
      "[I 2025-02-04 01:20:49,323] Trial 12 finished with value: 0.8716039998648695 and parameters: {'learning_rate': 0.016771918663924246, 'num_leaves': 104, 'max_depth': 20, 'min_data_in_leaf': 34, 'feature_fraction': 0.5359029280621077, 'bagging_fraction': 0.404357665609594, 'bagging_freq': 3, 'lambda_l1': 3.016672163567215e-07, 'lambda_l2': 0.01570213165916765}. Best is trial 1 with value: 0.8893880274315056.\n"
     ]
    },
    {
     "name": "stdout",
     "output_type": "stream",
     "text": [
      "Early stopping, best iteration is:\n",
      "[42]\tvalid_0's auc: 0.862762\n",
      "Training until validation scores don't improve for 50 rounds\n",
      "Early stopping, best iteration is:\n",
      "[1]\tvalid_0's auc: 0.5\n",
      "Training until validation scores don't improve for 50 rounds\n",
      "Early stopping, best iteration is:\n",
      "[1]\tvalid_0's auc: 0.5\n",
      "Training until validation scores don't improve for 50 rounds\n",
      "Early stopping, best iteration is:\n",
      "[1]\tvalid_0's auc: 0.5\n",
      "Training until validation scores don't improve for 50 rounds\n",
      "Early stopping, best iteration is:\n",
      "[1]\tvalid_0's auc: 0.5\n",
      "Training until validation scores don't improve for 50 rounds\n"
     ]
    },
    {
     "name": "stderr",
     "output_type": "stream",
     "text": [
      "[I 2025-02-04 01:21:00,534] Trial 13 finished with value: 0.5 and parameters: {'learning_rate': 0.2040792866066663, 'num_leaves': 62, 'max_depth': 16, 'min_data_in_leaf': 99, 'feature_fraction': 0.7859848003797589, 'bagging_fraction': 0.9994774760319515, 'bagging_freq': 2, 'lambda_l1': 0.00033181003566826124, 'lambda_l2': 1.3827185732608978e-06}. Best is trial 1 with value: 0.8893880274315056.\n"
     ]
    },
    {
     "name": "stdout",
     "output_type": "stream",
     "text": [
      "Early stopping, best iteration is:\n",
      "[1]\tvalid_0's auc: 0.5\n",
      "Training until validation scores don't improve for 50 rounds\n",
      "Early stopping, best iteration is:\n",
      "[30]\tvalid_0's auc: 0.931438\n",
      "Training until validation scores don't improve for 50 rounds\n",
      "Early stopping, best iteration is:\n",
      "[34]\tvalid_0's auc: 0.877104\n",
      "Training until validation scores don't improve for 50 rounds\n",
      "Early stopping, best iteration is:\n",
      "[3]\tvalid_0's auc: 0.870629\n",
      "Training until validation scores don't improve for 50 rounds\n",
      "[100]\tvalid_0's auc: 0.844406\n",
      "Early stopping, best iteration is:\n",
      "[81]\tvalid_0's auc: 0.870629\n",
      "Training until validation scores don't improve for 50 rounds\n"
     ]
    },
    {
     "name": "stderr",
     "output_type": "stream",
     "text": [
      "[I 2025-02-04 01:24:49,405] Trial 14 finished with value: 0.8840861232165581 and parameters: {'learning_rate': 0.06769493263478116, 'num_leaves': 124, 'max_depth': 6, 'min_data_in_leaf': 30, 'feature_fraction': 0.5892513787308941, 'bagging_fraction': 0.7437980575353627, 'bagging_freq': 6, 'lambda_l1': 2.5454257602463863e-07, 'lambda_l2': 1.55972932823598e-05}. Best is trial 1 with value: 0.8893880274315056.\n"
     ]
    },
    {
     "name": "stdout",
     "output_type": "stream",
     "text": [
      "Early stopping, best iteration is:\n",
      "[38]\tvalid_0's auc: 0.870629\n",
      "Training until validation scores don't improve for 50 rounds\n",
      "Early stopping, best iteration is:\n",
      "[4]\tvalid_0's auc: 0.933946\n",
      "Training until validation scores don't improve for 50 rounds\n",
      "Early stopping, best iteration is:\n",
      "[3]\tvalid_0's auc: 0.874579\n",
      "Training until validation scores don't improve for 50 rounds\n",
      "Early stopping, best iteration is:\n",
      "[4]\tvalid_0's auc: 0.84965\n",
      "Training until validation scores don't improve for 50 rounds\n"
     ]
    },
    {
     "name": "stderr",
     "output_type": "stream",
     "text": [
      "[I 2025-02-04 01:25:20,068] Trial 15 finished with value: 0.880061765931331 and parameters: {'learning_rate': 0.022018186373203553, 'num_leaves': 92, 'max_depth': 4, 'min_data_in_leaf': 12, 'feature_fraction': 0.7239898597428622, 'bagging_fraction': 0.6237995038923299, 'bagging_freq': 4, 'lambda_l1': 3.2896694023344055e-05, 'lambda_l2': 0.004865369269333733}. Best is trial 1 with value: 0.8893880274315056.\n"
     ]
    },
    {
     "name": "stdout",
     "output_type": "stream",
     "text": [
      "Early stopping, best iteration is:\n",
      "[41]\tvalid_0's auc: 0.868881\n",
      "Training until validation scores don't improve for 50 rounds\n",
      "Early stopping, best iteration is:\n",
      "[16]\tvalid_0's auc: 0.873252\n",
      "Training until validation scores don't improve for 50 rounds\n",
      "[100]\tvalid_0's auc: 0.896321\n",
      "[200]\tvalid_0's auc: 0.909699\n",
      "Early stopping, best iteration is:\n",
      "[170]\tvalid_0's auc: 0.913043\n",
      "Training until validation scores don't improve for 50 rounds\n",
      "Early stopping, best iteration is:\n",
      "[36]\tvalid_0's auc: 0.872054\n",
      "Training until validation scores don't improve for 50 rounds\n",
      "Early stopping, best iteration is:\n",
      "[15]\tvalid_0's auc: 0.866259\n",
      "Training until validation scores don't improve for 50 rounds\n",
      "[100]\tvalid_0's auc: 0.840035\n",
      "[200]\tvalid_0's auc: 0.84965\n"
     ]
    },
    {
     "name": "stderr",
     "output_type": "stream",
     "text": [
      "[I 2025-02-04 01:25:20,447] Trial 16 finished with value: 0.8731033861468644 and parameters: {'learning_rate': 0.010066935485017145, 'num_leaves': 64, 'max_depth': 17, 'min_data_in_leaf': 42, 'feature_fraction': 0.8318607950273016, 'bagging_fraction': 0.7764808636706773, 'bagging_freq': 7, 'lambda_l1': 1.944614936897203e-07, 'lambda_l2': 1.7804102011762965e-06}. Best is trial 1 with value: 0.8893880274315056.\n"
     ]
    },
    {
     "name": "stdout",
     "output_type": "stream",
     "text": [
      "[300]\tvalid_0's auc: 0.851399\n",
      "Early stopping, best iteration is:\n",
      "[261]\tvalid_0's auc: 0.854021\n",
      "Training until validation scores don't improve for 50 rounds\n",
      "Early stopping, best iteration is:\n",
      "[12]\tvalid_0's auc: 0.86014\n",
      "Training until validation scores don't improve for 50 rounds\n",
      "Early stopping, best iteration is:\n",
      "[12]\tvalid_0's auc: 0.908027\n",
      "Training until validation scores don't improve for 50 rounds\n",
      "Early stopping, best iteration is:\n",
      "[1]\tvalid_0's auc: 0.880471\n",
      "Training until validation scores don't improve for 50 rounds\n",
      "Early stopping, best iteration is:\n",
      "[1]\tvalid_0's auc: 0.884615\n",
      "Training until validation scores don't improve for 50 rounds\n"
     ]
    },
    {
     "name": "stderr",
     "output_type": "stream",
     "text": [
      "[I 2025-02-04 01:25:21,052] Trial 17 finished with value: 0.8806017251669426 and parameters: {'learning_rate': 0.047507003016046954, 'num_leaves': 123, 'max_depth': 5, 'min_data_in_leaf': 22, 'feature_fraction': 0.4804725632244111, 'bagging_fraction': 0.9895595683937757, 'bagging_freq': 2, 'lambda_l1': 0.0012061965001135282, 'lambda_l2': 2.6315630855174454e-07}. Best is trial 1 with value: 0.8893880274315056.\n"
     ]
    },
    {
     "name": "stdout",
     "output_type": "stream",
     "text": [
      "Early stopping, best iteration is:\n",
      "[29]\tvalid_0's auc: 0.856643\n",
      "Training until validation scores don't improve for 50 rounds\n",
      "Early stopping, best iteration is:\n",
      "[10]\tvalid_0's auc: 0.873252\n",
      "Training until validation scores don't improve for 50 rounds\n",
      "[100]\tvalid_0's auc: 0.887124\n",
      "Early stopping, best iteration is:\n",
      "[57]\tvalid_0's auc: 0.910535\n",
      "Training until validation scores don't improve for 50 rounds\n",
      "Early stopping, best iteration is:\n",
      "[37]\tvalid_0's auc: 0.846801\n"
     ]
    },
    {
     "name": "stderr",
     "output_type": "stream",
     "text": [
      "[I 2025-02-04 01:25:21,294] Trial 18 finished with value: 0.8501472360168012 and parameters: {'learning_rate': 0.10498314232574915, 'num_leaves': 90, 'max_depth': 13, 'min_data_in_leaf': 40, 'feature_fraction': 0.659287991681801, 'bagging_fraction': 0.40468400303858915, 'bagging_freq': 4, 'lambda_l1': 6.454219287381163e-05, 'lambda_l2': 0.0011792491271912981}. Best is trial 1 with value: 0.8893880274315056.\n"
     ]
    },
    {
     "name": "stdout",
     "output_type": "stream",
     "text": [
      "Training until validation scores don't improve for 50 rounds\n",
      "[100]\tvalid_0's auc: 0.838287\n",
      "Early stopping, best iteration is:\n",
      "[55]\tvalid_0's auc: 0.840035\n",
      "Training until validation scores don't improve for 50 rounds\n",
      "[100]\tvalid_0's auc: 0.851399\n",
      "Early stopping, best iteration is:\n",
      "[56]\tvalid_0's auc: 0.854021\n",
      "Training until validation scores don't improve for 50 rounds\n",
      "Early stopping, best iteration is:\n",
      "[46]\tvalid_0's auc: 0.86014\n",
      "Training until validation scores don't improve for 50 rounds\n",
      "[100]\tvalid_0's auc: 0.926421\n",
      "Early stopping, best iteration is:\n",
      "[138]\tvalid_0's auc: 0.938127\n",
      "Training until validation scores don't improve for 50 rounds\n",
      "Early stopping, best iteration is:\n",
      "[5]\tvalid_0's auc: 0.887205\n",
      "Training until validation scores don't improve for 50 rounds\n",
      "Early stopping, best iteration is:\n",
      "[1]\tvalid_0's auc: 0.861014\n",
      "Training until validation scores don't improve for 50 rounds\n"
     ]
    },
    {
     "name": "stderr",
     "output_type": "stream",
     "text": [
      "[I 2025-02-04 01:25:21,826] Trial 19 finished with value: 0.883073488508271 and parameters: {'learning_rate': 0.07078821085984213, 'num_leaves': 113, 'max_depth': 9, 'min_data_in_leaf': 22, 'feature_fraction': 0.5827808726283907, 'bagging_fraction': 0.5880521631616088, 'bagging_freq': 1, 'lambda_l1': 0.003903590787592824, 'lambda_l2': 8.457226119302751e-05}. Best is trial 1 with value: 0.8893880274315056.\n"
     ]
    },
    {
     "name": "stdout",
     "output_type": "stream",
     "text": [
      "[100]\tvalid_0's auc: 0.853147\n",
      "Early stopping, best iteration is:\n",
      "[54]\tvalid_0's auc: 0.861888\n",
      "Training until validation scores don't improve for 50 rounds\n",
      "[100]\tvalid_0's auc: 0.861888\n",
      "Early stopping, best iteration is:\n",
      "[127]\tvalid_0's auc: 0.867133\n",
      "Training until validation scores don't improve for 50 rounds\n",
      "[100]\tvalid_0's auc: 0.883779\n",
      "[200]\tvalid_0's auc: 0.911371\n",
      "Early stopping, best iteration is:\n",
      "[222]\tvalid_0's auc: 0.926421\n",
      "Training until validation scores don't improve for 50 rounds\n",
      "Early stopping, best iteration is:\n",
      "[37]\tvalid_0's auc: 0.845118\n",
      "Training until validation scores don't improve for 50 rounds\n",
      "Early stopping, best iteration is:\n",
      "[36]\tvalid_0's auc: 0.83042\n",
      "Training until validation scores don't improve for 50 rounds\n"
     ]
    },
    {
     "name": "stderr",
     "output_type": "stream",
     "text": [
      "[I 2025-02-04 01:25:22,218] Trial 20 finished with value: 0.8474665833361487 and parameters: {'learning_rate': 0.15999428093537027, 'num_leaves': 62, 'max_depth': 17, 'min_data_in_leaf': 46, 'feature_fraction': 0.6972031774957038, 'bagging_fraction': 0.4559636239570173, 'bagging_freq': 6, 'lambda_l1': 6.473409501478463e-08, 'lambda_l2': 4.899234159827976e-06}. Best is trial 1 with value: 0.8893880274315056.\n"
     ]
    },
    {
     "name": "stdout",
     "output_type": "stream",
     "text": [
      "[100]\tvalid_0's auc: 0.84965\n",
      "Early stopping, best iteration is:\n",
      "[102]\tvalid_0's auc: 0.854895\n",
      "Training until validation scores don't improve for 50 rounds\n",
      "[100]\tvalid_0's auc: 0.841783\n",
      "Early stopping, best iteration is:\n",
      "[68]\tvalid_0's auc: 0.841783\n",
      "Training until validation scores don't improve for 50 rounds\n"
     ]
    },
    {
     "name": "stderr",
     "output_type": "stream",
     "text": [
      "[I 2025-02-04 01:25:22,573] Trial 21 finished with value: 0.8883207774512123 and parameters: {'learning_rate': 0.06851307121445284, 'num_leaves': 132, 'max_depth': 6, 'min_data_in_leaf': 27, 'feature_fraction': 0.5950020072228754, 'bagging_fraction': 0.7352851739841701, 'bagging_freq': 7, 'lambda_l1': 6.533608352748185e-07, 'lambda_l2': 1.195850579380624e-05}. Best is trial 1 with value: 0.8893880274315056.\n"
     ]
    },
    {
     "name": "stdout",
     "output_type": "stream",
     "text": [
      "Early stopping, best iteration is:\n",
      "[32]\tvalid_0's auc: 0.931438\n",
      "Training until validation scores don't improve for 50 rounds\n",
      "Early stopping, best iteration is:\n",
      "[9]\tvalid_0's auc: 0.872054\n",
      "Training until validation scores don't improve for 50 rounds\n",
      "Early stopping, best iteration is:\n",
      "[3]\tvalid_0's auc: 0.881119\n",
      "Training until validation scores don't improve for 50 rounds\n",
      "Early stopping, best iteration is:\n",
      "[27]\tvalid_0's auc: 0.872378\n",
      "Training until validation scores don't improve for 50 rounds\n",
      "[100]\tvalid_0's auc: 0.863636\n",
      "Early stopping, best iteration is:\n",
      "[64]\tvalid_0's auc: 0.884615\n",
      "Training until validation scores don't improve for 50 rounds\n",
      "[100]\tvalid_0's auc: 0.892977\n",
      "Early stopping, best iteration is:\n",
      "[51]\tvalid_0's auc: 0.91806\n",
      "Training until validation scores don't improve for 50 rounds\n",
      "Early stopping, best iteration is:\n",
      "[11]\tvalid_0's auc: 0.863636\n",
      "Training until validation scores don't improve for 50 rounds\n",
      "Early stopping, best iteration is:\n",
      "[11]\tvalid_0's auc: 0.863636\n",
      "Training until validation scores don't improve for 50 rounds\n",
      "Early stopping, best iteration is:\n",
      "[31]\tvalid_0's auc: 0.870629\n",
      "Training until validation scores don't improve for 50 rounds\n"
     ]
    },
    {
     "name": "stderr",
     "output_type": "stream",
     "text": [
      "[I 2025-02-04 01:25:23,112] Trial 22 finished with value: 0.8790665855883247 and parameters: {'learning_rate': 0.0938346927869484, 'num_leaves': 114, 'max_depth': 8, 'min_data_in_leaf': 20, 'feature_fraction': 0.5896272607614492, 'bagging_fraction': 0.714346242500659, 'bagging_freq': 7, 'lambda_l1': 1.6557041284444941e-06, 'lambda_l2': 2.4480298999916135e-07}. Best is trial 1 with value: 0.8893880274315056.\n"
     ]
    },
    {
     "name": "stdout",
     "output_type": "stream",
     "text": [
      "[100]\tvalid_0's auc: 0.858392\n",
      "Early stopping, best iteration is:\n",
      "[59]\tvalid_0's auc: 0.879371\n",
      "Training until validation scores don't improve for 50 rounds\n",
      "[100]\tvalid_0's auc: 0.908027\n",
      "[200]\tvalid_0's auc: 0.928094\n"
     ]
    },
    {
     "name": "stderr",
     "output_type": "stream",
     "text": [
      "[I 2025-02-04 01:25:23,510] Trial 23 finished with value: 0.8863135254439601 and parameters: {'learning_rate': 0.043281783813418295, 'num_leaves': 150, 'max_depth': 2, 'min_data_in_leaf': 36, 'feature_fraction': 0.5437221362686693, 'bagging_fraction': 0.9344427589841487, 'bagging_freq': 8, 'lambda_l1': 9.981587177911632e-07, 'lambda_l2': 1.4418836937595347e-05}. Best is trial 1 with value: 0.8893880274315056.\n"
     ]
    },
    {
     "name": "stdout",
     "output_type": "stream",
     "text": [
      "Early stopping, best iteration is:\n",
      "[201]\tvalid_0's auc: 0.931438\n",
      "Training until validation scores don't improve for 50 rounds\n",
      "Early stopping, best iteration is:\n",
      "[12]\tvalid_0's auc: 0.905724\n",
      "Training until validation scores don't improve for 50 rounds\n",
      "[100]\tvalid_0's auc: 0.86014\n",
      "Early stopping, best iteration is:\n",
      "[58]\tvalid_0's auc: 0.868881\n",
      "Training until validation scores don't improve for 50 rounds\n",
      "[100]\tvalid_0's auc: 0.856643\n",
      "Early stopping, best iteration is:\n",
      "[72]\tvalid_0's auc: 0.863636\n",
      "Training until validation scores don't improve for 50 rounds\n",
      "Early stopping, best iteration is:\n",
      "[30]\tvalid_0's auc: 0.861888\n",
      "Training until validation scores don't improve for 50 rounds\n",
      "Early stopping, best iteration is:\n",
      "[15]\tvalid_0's auc: 0.894649\n",
      "Training until validation scores don't improve for 50 rounds\n",
      "[100]\tvalid_0's auc: 0.878788\n",
      "Early stopping, best iteration is:\n",
      "[66]\tvalid_0's auc: 0.885522\n",
      "Training until validation scores don't improve for 50 rounds\n",
      "[100]\tvalid_0's auc: 0.846154\n",
      "Early stopping, best iteration is:\n",
      "[63]\tvalid_0's auc: 0.865385\n",
      "Training until validation scores don't improve for 50 rounds\n"
     ]
    },
    {
     "name": "stderr",
     "output_type": "stream",
     "text": [
      "[I 2025-02-04 01:25:23,854] Trial 24 finished with value: 0.8750900870466088 and parameters: {'learning_rate': 0.023521428151951008, 'num_leaves': 132, 'max_depth': 6, 'min_data_in_leaf': 27, 'feature_fraction': 0.4472001554926448, 'bagging_fraction': 0.8087022628911936, 'bagging_freq': 4, 'lambda_l1': 4.354843172811034e-05, 'lambda_l2': 1.1601413727666727e-06}. Best is trial 1 with value: 0.8893880274315056.\n"
     ]
    },
    {
     "name": "stdout",
     "output_type": "stream",
     "text": [
      "Early stopping, best iteration is:\n",
      "[17]\tvalid_0's auc: 0.861014\n",
      "Training until validation scores don't improve for 50 rounds\n",
      "Early stopping, best iteration is:\n",
      "[28]\tvalid_0's auc: 0.868881\n",
      "Training until validation scores don't improve for 50 rounds\n",
      "Early stopping, best iteration is:\n",
      "[35]\tvalid_0's auc: 0.951505\n",
      "Training until validation scores don't improve for 50 rounds\n",
      "Early stopping, best iteration is:\n",
      "[4]\tvalid_0's auc: 0.854377\n",
      "Training until validation scores don't improve for 50 rounds\n"
     ]
    },
    {
     "name": "stderr",
     "output_type": "stream",
     "text": [
      "[I 2025-02-04 01:25:24,110] Trial 25 finished with value: 0.8821554451989234 and parameters: {'learning_rate': 0.06082715961858205, 'num_leaves': 83, 'max_depth': 1, 'min_data_in_leaf': 17, 'feature_fraction': 0.7600321047624535, 'bagging_fraction': 0.6158773120732336, 'bagging_freq': 8, 'lambda_l1': 6.549467491693156e-08, 'lambda_l2': 1.1036195632512234e-07}. Best is trial 1 with value: 0.8893880274315056.\n"
     ]
    },
    {
     "name": "stdout",
     "output_type": "stream",
     "text": [
      "[100]\tvalid_0's auc: 0.86451\n",
      "Early stopping, best iteration is:\n",
      "[54]\tvalid_0's auc: 0.883741\n",
      "Training until validation scores don't improve for 50 rounds\n",
      "Early stopping, best iteration is:\n",
      "[30]\tvalid_0's auc: 0.854895\n",
      "Training until validation scores don't improve for 50 rounds\n",
      "[100]\tvalid_0's auc: 0.848776\n",
      "Early stopping, best iteration is:\n",
      "[55]\tvalid_0's auc: 0.866259\n",
      "Training until validation scores don't improve for 50 rounds\n",
      "Early stopping, best iteration is:\n",
      "[17]\tvalid_0's auc: 0.915552\n",
      "Training until validation scores don't improve for 50 rounds\n"
     ]
    },
    {
     "name": "stderr",
     "output_type": "stream",
     "text": [
      "[I 2025-02-04 01:25:24,369] Trial 26 finished with value: 0.8799246647072734 and parameters: {'learning_rate': 0.1272170837186485, 'num_leaves': 100, 'max_depth': 4, 'min_data_in_leaf': 36, 'feature_fraction': 0.6728946997039217, 'bagging_fraction': 0.48741992212625607, 'bagging_freq': 2, 'lambda_l1': 1.0874613134316003e-05, 'lambda_l2': 0.0004567867066826365}. Best is trial 1 with value: 0.8893880274315056.\n"
     ]
    },
    {
     "name": "stdout",
     "output_type": "stream",
     "text": [
      "[100]\tvalid_0's auc: 0.863636\n",
      "Early stopping, best iteration is:\n",
      "[104]\tvalid_0's auc: 0.868687\n",
      "Training until validation scores don't improve for 50 rounds\n",
      "Early stopping, best iteration is:\n",
      "[15]\tvalid_0's auc: 0.896853\n",
      "Training until validation scores don't improve for 50 rounds\n",
      "Early stopping, best iteration is:\n",
      "[18]\tvalid_0's auc: 0.850524\n",
      "Training until validation scores don't improve for 50 rounds\n",
      "Early stopping, best iteration is:\n",
      "[26]\tvalid_0's auc: 0.868007\n",
      "Training until validation scores don't improve for 50 rounds\n"
     ]
    },
    {
     "name": "stderr",
     "output_type": "stream",
     "text": [
      "[I 2025-02-04 01:25:24,616] Trial 27 finished with value: 0.8787749287749287 and parameters: {'learning_rate': 0.2183792190751571, 'num_leaves': 114, 'max_depth': 10, 'min_data_in_leaf': 50, 'feature_fraction': 0.6234127032893709, 'bagging_fraction': 0.8381686382126703, 'bagging_freq': 5, 'lambda_l1': 6.022198209400506e-08, 'lambda_l2': 7.403446937048494}. Best is trial 1 with value: 0.8893880274315056.\n"
     ]
    },
    {
     "name": "stdout",
     "output_type": "stream",
     "text": [
      "Early stopping, best iteration is:\n",
      "[18]\tvalid_0's auc: 0.903846\n",
      "Training until validation scores don't improve for 50 rounds\n",
      "Early stopping, best iteration is:\n",
      "[22]\tvalid_0's auc: 0.872896\n",
      "Training until validation scores don't improve for 50 rounds\n",
      "Early stopping, best iteration is:\n",
      "[11]\tvalid_0's auc: 0.88986\n",
      "Training until validation scores don't improve for 50 rounds\n",
      "Early stopping, best iteration is:\n",
      "[20]\tvalid_0's auc: 0.858392\n",
      "Training until validation scores don't improve for 50 rounds\n",
      "[100]\tvalid_0's auc: 0.865385\n",
      "Early stopping, best iteration is:\n",
      "[104]\tvalid_0's auc: 0.868881\n",
      "Training until validation scores don't improve for 50 rounds\n",
      "[100]\tvalid_0's auc: 0.919732\n",
      "Early stopping, best iteration is:\n",
      "[67]\tvalid_0's auc: 0.938127\n",
      "Training until validation scores don't improve for 50 rounds\n",
      "Early stopping, best iteration is:\n",
      "[3]\tvalid_0's auc: 0.874579\n",
      "Training until validation scores don't improve for 50 rounds\n",
      "Early stopping, best iteration is:\n",
      "[3]\tvalid_0's auc: 0.875874\n",
      "Training until validation scores don't improve for 50 rounds\n",
      "Early stopping, best iteration is:\n",
      "[29]\tvalid_0's auc: 0.874126\n"
     ]
    },
    {
     "name": "stderr",
     "output_type": "stream",
     "text": [
      "[I 2025-02-04 01:25:24,948] Trial 28 finished with value: 0.885967816402599 and parameters: {'learning_rate': 0.08341978587059515, 'num_leaves': 73, 'max_depth': 15, 'min_data_in_leaf': 25, 'feature_fraction': 0.5401025058868534, 'bagging_fraction': 0.7192303323087266, 'bagging_freq': 6, 'lambda_l1': 6.284695165215346e-07, 'lambda_l2': 1.3901912309035122e-05}. Best is trial 1 with value: 0.8893880274315056.\n"
     ]
    },
    {
     "name": "stdout",
     "output_type": "stream",
     "text": [
      "Training until validation scores don't improve for 50 rounds\n",
      "Early stopping, best iteration is:\n",
      "[37]\tvalid_0's auc: 0.867133\n",
      "Training until validation scores don't improve for 50 rounds\n",
      "[100]\tvalid_0's auc: 0.892977\n",
      "Early stopping, best iteration is:\n",
      "[54]\tvalid_0's auc: 0.900502\n",
      "Training until validation scores don't improve for 50 rounds\n",
      "[100]\tvalid_0's auc: 0.867003\n",
      "Early stopping, best iteration is:\n",
      "[81]\tvalid_0's auc: 0.868687\n",
      "Training until validation scores don't improve for 50 rounds\n"
     ]
    },
    {
     "name": "stderr",
     "output_type": "stream",
     "text": [
      "[I 2025-02-04 01:25:25,237] Trial 29 finished with value: 0.8779635823114085 and parameters: {'learning_rate': 0.02684291948161149, 'num_leaves': 48, 'max_depth': 0, 'min_data_in_leaf': 50, 'feature_fraction': 0.4024735042583301, 'bagging_fraction': 0.9441184822641184, 'bagging_freq': 8, 'lambda_l1': 5.967108789960136, 'lambda_l2': 5.7308517496846414e-08}. Best is trial 1 with value: 0.8893880274315056.\n"
     ]
    },
    {
     "name": "stdout",
     "output_type": "stream",
     "text": [
      "Early stopping, best iteration is:\n",
      "[43]\tvalid_0's auc: 0.887238\n",
      "Training until validation scores don't improve for 50 rounds\n",
      "Early stopping, best iteration is:\n",
      "[10]\tvalid_0's auc: 0.866259\n",
      "Training until validation scores don't improve for 50 rounds\n",
      "[100]\tvalid_0's auc: 0.859266\n",
      "Early stopping, best iteration is:\n",
      "[109]\tvalid_0's auc: 0.867133\n",
      "Training until validation scores don't improve for 50 rounds\n",
      "[100]\tvalid_0's auc: 0.924749\n",
      "Early stopping, best iteration is:\n",
      "[83]\tvalid_0's auc: 0.934783\n",
      "Training until validation scores don't improve for 50 rounds\n",
      "Early stopping, best iteration is:\n",
      "[15]\tvalid_0's auc: 0.881313\n",
      "Training until validation scores don't improve for 50 rounds\n",
      "[100]\tvalid_0's auc: 0.818182\n",
      "Early stopping, best iteration is:\n",
      "[63]\tvalid_0's auc: 0.865385\n",
      "Training until validation scores don't improve for 50 rounds\n"
     ]
    },
    {
     "name": "stderr",
     "output_type": "stream",
     "text": [
      "[I 2025-02-04 01:25:25,770] Trial 30 finished with value: 0.877554812337421 and parameters: {'learning_rate': 0.05450855317108178, 'num_leaves': 94, 'max_depth': 7, 'min_data_in_leaf': 15, 'feature_fraction': 0.8355444176451351, 'bagging_fraction': 0.5652470258720377, 'bagging_freq': 9, 'lambda_l1': 9.052045623460594e-06, 'lambda_l2': 6.728553181637923e-07}. Best is trial 1 with value: 0.8893880274315056.\n"
     ]
    },
    {
     "name": "stdout",
     "output_type": "stream",
     "text": [
      "Early stopping, best iteration is:\n",
      "[27]\tvalid_0's auc: 0.839161\n",
      "Training until validation scores don't improve for 50 rounds\n",
      "[100]\tvalid_0's auc: 0.840909\n",
      "Early stopping, best iteration is:\n",
      "[63]\tvalid_0's auc: 0.867133\n",
      "Training until validation scores don't improve for 50 rounds\n",
      "[100]\tvalid_0's auc: 0.909699\n",
      "Early stopping, best iteration is:\n",
      "[142]\tvalid_0's auc: 0.923077\n",
      "Training until validation scores don't improve for 50 rounds\n",
      "Early stopping, best iteration is:\n",
      "[26]\tvalid_0's auc: 0.906566\n",
      "Training until validation scores don't improve for 50 rounds\n",
      "[100]\tvalid_0's auc: 0.86014\n",
      "Early stopping, best iteration is:\n",
      "[58]\tvalid_0's auc: 0.867133\n",
      "Training until validation scores don't improve for 50 rounds\n"
     ]
    },
    {
     "name": "stderr",
     "output_type": "stream",
     "text": [
      "[I 2025-02-04 01:25:26,209] Trial 31 finished with value: 0.8862082362082362 and parameters: {'learning_rate': 0.04085757158791146, 'num_leaves': 136, 'max_depth': 2, 'min_data_in_leaf': 35, 'feature_fraction': 0.5480980749524267, 'bagging_fraction': 0.9273157372482088, 'bagging_freq': 8, 'lambda_l1': 1.5995176961282858e-06, 'lambda_l2': 8.12825433725397e-06}. Best is trial 1 with value: 0.8893880274315056.\n"
     ]
    },
    {
     "name": "stdout",
     "output_type": "stream",
     "text": [
      "[100]\tvalid_0's auc: 0.867133\n",
      "Early stopping, best iteration is:\n",
      "[111]\tvalid_0's auc: 0.870629\n",
      "Training until validation scores don't improve for 50 rounds\n",
      "[100]\tvalid_0's auc: 0.84965\n",
      "Early stopping, best iteration is:\n",
      "[56]\tvalid_0's auc: 0.863636\n",
      "Training until validation scores don't improve for 50 rounds\n",
      "[100]\tvalid_0's auc: 0.917224\n",
      "Early stopping, best iteration is:\n",
      "[125]\tvalid_0's auc: 0.924749\n",
      "Training until validation scores don't improve for 50 rounds\n",
      "Early stopping, best iteration is:\n",
      "[17]\tvalid_0's auc: 0.881313\n",
      "Training until validation scores don't improve for 50 rounds\n",
      "[100]\tvalid_0's auc: 0.839161\n",
      "Early stopping, best iteration is:\n",
      "[56]\tvalid_0's auc: 0.856643\n",
      "Training until validation scores don't improve for 50 rounds\n",
      "Early stopping, best iteration is:\n",
      "[30]\tvalid_0's auc: 0.847028\n",
      "Training until validation scores don't improve for 50 rounds\n",
      "[100]\tvalid_0's auc: 0.872378\n"
     ]
    },
    {
     "name": "stderr",
     "output_type": "stream",
     "text": [
      "[I 2025-02-04 01:25:26,579] Trial 32 finished with value: 0.8767718995979866 and parameters: {'learning_rate': 0.042088307040632544, 'num_leaves': 148, 'max_depth': 2, 'min_data_in_leaf': 42, 'feature_fraction': 0.48630971848782745, 'bagging_fraction': 0.9441533842108202, 'bagging_freq': 7, 'lambda_l1': 7.718953659757308e-07, 'lambda_l2': 5.426469749897831e-05}. Best is trial 1 with value: 0.8893880274315056.\n"
     ]
    },
    {
     "name": "stdout",
     "output_type": "stream",
     "text": [
      "Early stopping, best iteration is:\n",
      "[83]\tvalid_0's auc: 0.874126\n",
      "Training until validation scores don't improve for 50 rounds\n",
      "Early stopping, best iteration is:\n",
      "[37]\tvalid_0's auc: 0.916388\n",
      "Training until validation scores don't improve for 50 rounds\n",
      "Early stopping, best iteration is:\n",
      "[9]\tvalid_0's auc: 0.878788\n",
      "Training until validation scores don't improve for 50 rounds\n",
      "Early stopping, best iteration is:\n",
      "[2]\tvalid_0's auc: 0.86451\n",
      "Training until validation scores don't improve for 50 rounds\n"
     ]
    },
    {
     "name": "stderr",
     "output_type": "stream",
     "text": [
      "[I 2025-02-04 01:25:26,890] Trial 33 finished with value: 0.8801890138846661 and parameters: {'learning_rate': 0.11566234319917597, 'num_leaves': 139, 'max_depth': 5, 'min_data_in_leaf': 30, 'feature_fraction': 0.5912792160240685, 'bagging_fraction': 0.8485388484081866, 'bagging_freq': 10, 'lambda_l1': 4.8342326296462466e-08, 'lambda_l2': 3.0406244116812617e-06}. Best is trial 1 with value: 0.8893880274315056.\n"
     ]
    },
    {
     "name": "stdout",
     "output_type": "stream",
     "text": [
      "Early stopping, best iteration is:\n",
      "[38]\tvalid_0's auc: 0.872378\n",
      "Training until validation scores don't improve for 50 rounds\n",
      "[100]\tvalid_0's auc: 0.851399\n",
      "Early stopping, best iteration is:\n",
      "[65]\tvalid_0's auc: 0.868881\n",
      "Training until validation scores don't improve for 50 rounds\n",
      "[100]\tvalid_0's auc: 0.913043\n"
     ]
    },
    {
     "name": "stderr",
     "output_type": "stream",
     "text": [
      "[I 2025-02-04 01:25:27,224] Trial 34 finished with value: 0.8906934450412711 and parameters: {'learning_rate': 0.08008737853936118, 'num_leaves': 150, 'max_depth': 3, 'min_data_in_leaf': 38, 'feature_fraction': 0.6866777360865949, 'bagging_fraction': 0.9767165917206557, 'bagging_freq': 8, 'lambda_l1': 0.00014239764831320827, 'lambda_l2': 0.0001648051950771801}. Best is trial 34 with value: 0.8906934450412711.\n"
     ]
    },
    {
     "name": "stdout",
     "output_type": "stream",
     "text": [
      "Early stopping, best iteration is:\n",
      "[111]\tvalid_0's auc: 0.919732\n",
      "Training until validation scores don't improve for 50 rounds\n",
      "Early stopping, best iteration is:\n",
      "[6]\tvalid_0's auc: 0.895623\n",
      "Training until validation scores don't improve for 50 rounds\n",
      "Early stopping, best iteration is:\n",
      "[25]\tvalid_0's auc: 0.881119\n",
      "Training until validation scores don't improve for 50 rounds\n",
      "Early stopping, best iteration is:\n",
      "[29]\tvalid_0's auc: 0.875874\n",
      "Training until validation scores don't improve for 50 rounds\n",
      "[100]\tvalid_0's auc: 0.867133\n",
      "Early stopping, best iteration is:\n",
      "[60]\tvalid_0's auc: 0.881119\n"
     ]
    },
    {
     "name": "stderr",
     "output_type": "stream",
     "text": [
      "[I 2025-02-04 01:25:27,447] Trial 35 finished with value: 0.771843293582424 and parameters: {'learning_rate': 0.07517792860236876, 'num_leaves': 126, 'max_depth': 12, 'min_data_in_leaf': 93, 'feature_fraction': 0.6756613951697464, 'bagging_fraction': 0.9654203222978709, 'bagging_freq': 9, 'lambda_l1': 0.005194182963800602, 'lambda_l2': 0.045416850063378096}. Best is trial 34 with value: 0.8906934450412711.\n"
     ]
    },
    {
     "name": "stdout",
     "output_type": "stream",
     "text": [
      "Training until validation scores don't improve for 50 rounds\n",
      "[100]\tvalid_0's auc: 0.740803\n",
      "Early stopping, best iteration is:\n",
      "[108]\tvalid_0's auc: 0.752508\n",
      "Training until validation scores don't improve for 50 rounds\n",
      "Early stopping, best iteration is:\n",
      "[23]\tvalid_0's auc: 0.758418\n",
      "Training until validation scores don't improve for 50 rounds\n",
      "Early stopping, best iteration is:\n",
      "[24]\tvalid_0's auc: 0.857517\n",
      "Training until validation scores don't improve for 50 rounds\n",
      "Early stopping, best iteration is:\n",
      "[45]\tvalid_0's auc: 0.81993\n",
      "Training until validation scores don't improve for 50 rounds\n",
      "[100]\tvalid_0's auc: 0.715909\n",
      "Early stopping, best iteration is:\n",
      "[54]\tvalid_0's auc: 0.715909\n"
     ]
    },
    {
     "name": "stderr",
     "output_type": "stream",
     "text": [
      "[I 2025-02-04 01:25:27,678] Trial 36 finished with value: 0.8799249462292942 and parameters: {'learning_rate': 0.1523664458520772, 'num_leaves': 141, 'max_depth': 7, 'min_data_in_leaf': 59, 'feature_fraction': 0.7149290117083003, 'bagging_fraction': 0.899028234330729, 'bagging_freq': 6, 'lambda_l1': 0.0001334616175526226, 'lambda_l2': 0.0003198182125497093}. Best is trial 34 with value: 0.8906934450412711.\n"
     ]
    },
    {
     "name": "stdout",
     "output_type": "stream",
     "text": [
      "Training until validation scores don't improve for 50 rounds\n",
      "Early stopping, best iteration is:\n",
      "[16]\tvalid_0's auc: 0.910535\n",
      "Training until validation scores don't improve for 50 rounds\n",
      "Early stopping, best iteration is:\n",
      "[46]\tvalid_0's auc: 0.874579\n",
      "Training until validation scores don't improve for 50 rounds\n",
      "Early stopping, best iteration is:\n",
      "[11]\tvalid_0's auc: 0.88986\n",
      "Training until validation scores don't improve for 50 rounds\n",
      "Early stopping, best iteration is:\n",
      "[24]\tvalid_0's auc: 0.852273\n",
      "Training until validation scores don't improve for 50 rounds\n",
      "[100]\tvalid_0's auc: 0.86014\n",
      "Early stopping, best iteration is:\n",
      "[85]\tvalid_0's auc: 0.872378\n",
      "Training until validation scores don't improve for 50 rounds\n",
      "Early stopping, best iteration is:\n",
      "[16]\tvalid_0's auc: 0.91806\n",
      "Training until validation scores don't improve for 50 rounds\n",
      "Early stopping, best iteration is:\n",
      "[23]\tvalid_0's auc: 0.869529\n",
      "Training until validation scores don't improve for 50 rounds\n",
      "Early stopping, best iteration is:\n",
      "[40]\tvalid_0's auc: 0.862762\n",
      "Training until validation scores don't improve for 50 rounds\n"
     ]
    },
    {
     "name": "stderr",
     "output_type": "stream",
     "text": [
      "[I 2025-02-04 01:25:28,027] Trial 37 finished with value: 0.8755247570464963 and parameters: {'learning_rate': 0.08632819613552972, 'num_leaves': 120, 'max_depth': 4, 'min_data_in_leaf': 45, 'feature_fraction': 0.7442943603482313, 'bagging_fraction': 0.8189509783401329, 'bagging_freq': 5, 'lambda_l1': 1.2469751789646636e-05, 'lambda_l2': 0.0015113594928381445}. Best is trial 34 with value: 0.8906934450412711.\n"
     ]
    },
    {
     "name": "stdout",
     "output_type": "stream",
     "text": [
      "[100]\tvalid_0's auc: 0.837413\n",
      "Early stopping, best iteration is:\n",
      "[81]\tvalid_0's auc: 0.861888\n",
      "Training until validation scores don't improve for 50 rounds\n",
      "Early stopping, best iteration is:\n",
      "[28]\tvalid_0's auc: 0.865385\n",
      "Training until validation scores don't improve for 50 rounds\n",
      "Early stopping, best iteration is:\n",
      "[38]\tvalid_0's auc: 0.919732\n",
      "Training until validation scores don't improve for 50 rounds\n"
     ]
    },
    {
     "name": "stderr",
     "output_type": "stream",
     "text": [
      "[I 2025-02-04 01:25:28,353] Trial 38 finished with value: 0.8844385887864149 and parameters: {'learning_rate': 0.059283229385503275, 'num_leaves': 108, 'max_depth': -1, 'min_data_in_leaf': 33, 'feature_fraction': 0.623994095164859, 'bagging_fraction': 0.8612295280126383, 'bagging_freq': 8, 'lambda_l1': 0.00025796246280456305, 'lambda_l2': 0.00013370505898618626}. Best is trial 34 with value: 0.8906934450412711.\n"
     ]
    },
    {
     "name": "stdout",
     "output_type": "stream",
     "text": [
      "Early stopping, best iteration is:\n",
      "[28]\tvalid_0's auc: 0.890572\n",
      "Training until validation scores don't improve for 50 rounds\n",
      "Early stopping, best iteration is:\n",
      "[2]\tvalid_0's auc: 0.868881\n",
      "Training until validation scores don't improve for 50 rounds\n",
      "Early stopping, best iteration is:\n",
      "[46]\tvalid_0's auc: 0.867133\n",
      "Training until validation scores don't improve for 50 rounds\n",
      "[100]\tvalid_0's auc: 0.86014\n",
      "Early stopping, best iteration is:\n",
      "[56]\tvalid_0's auc: 0.875874\n",
      "Training until validation scores don't improve for 50 rounds\n",
      "Early stopping, best iteration is:\n",
      "[16]\tvalid_0's auc: 0.922241\n",
      "Training until validation scores don't improve for 50 rounds\n",
      "Early stopping, best iteration is:\n",
      "[34]\tvalid_0's auc: 0.885522\n",
      "Training until validation scores don't improve for 50 rounds\n",
      "[100]\tvalid_0's auc: 0.854895\n",
      "Early stopping, best iteration is:\n",
      "[81]\tvalid_0's auc: 0.875874\n",
      "Training until validation scores don't improve for 50 rounds\n"
     ]
    },
    {
     "name": "stderr",
     "output_type": "stream",
     "text": [
      "[I 2025-02-04 01:25:28,787] Trial 39 finished with value: 0.8811329572199138 and parameters: {'learning_rate': 0.03316657981941168, 'num_leaves': 81, 'max_depth': 11, 'min_data_in_leaf': 24, 'feature_fraction': 0.6874117510271016, 'bagging_fraction': 0.5299803442465026, 'bagging_freq': 7, 'lambda_l1': 0.0014552507993259506, 'lambda_l2': 3.0435091799365224e-05}. Best is trial 34 with value: 0.8906934450412711.\n"
     ]
    },
    {
     "name": "stdout",
     "output_type": "stream",
     "text": [
      "[100]\tvalid_0's auc: 0.847902\n",
      "Early stopping, best iteration is:\n",
      "[59]\tvalid_0's auc: 0.853147\n",
      "Training until validation scores don't improve for 50 rounds\n",
      "[100]\tvalid_0's auc: 0.86014\n",
      "Early stopping, best iteration is:\n",
      "[76]\tvalid_0's auc: 0.868881\n",
      "Training until validation scores don't improve for 50 rounds\n",
      "Early stopping, best iteration is:\n",
      "[26]\tvalid_0's auc: 0.904682\n",
      "Training until validation scores don't improve for 50 rounds\n"
     ]
    },
    {
     "name": "stderr",
     "output_type": "stream",
     "text": [
      "[I 2025-02-04 01:25:29,065] Trial 40 finished with value: 0.8723894463024898 and parameters: {'learning_rate': 0.09835062012958551, 'num_leaves': 97, 'max_depth': 8, 'min_data_in_leaf': 53, 'feature_fraction': 0.9897338985194972, 'bagging_fraction': 0.766435025124294, 'bagging_freq': 1, 'lambda_l1': 4.974643480715724e-06, 'lambda_l2': 2.5605449524559174e-08}. Best is trial 34 with value: 0.8906934450412711.\n"
     ]
    },
    {
     "name": "stdout",
     "output_type": "stream",
     "text": [
      "Early stopping, best iteration is:\n",
      "[18]\tvalid_0's auc: 0.861111\n",
      "Training until validation scores don't improve for 50 rounds\n",
      "Early stopping, best iteration is:\n",
      "[22]\tvalid_0's auc: 0.867133\n",
      "Training until validation scores don't improve for 50 rounds\n",
      "[100]\tvalid_0's auc: 0.856643\n",
      "Early stopping, best iteration is:\n",
      "[61]\tvalid_0's auc: 0.866259\n",
      "Training until validation scores don't improve for 50 rounds\n",
      "[100]\tvalid_0's auc: 0.847902\n",
      "Early stopping, best iteration is:\n",
      "[65]\tvalid_0's auc: 0.862762\n",
      "Training until validation scores don't improve for 50 rounds\n",
      "[100]\tvalid_0's auc: 0.919732\n",
      "Early stopping, best iteration is:\n",
      "[75]\tvalid_0's auc: 0.926421\n",
      "Training until validation scores don't improve for 50 rounds\n",
      "Early stopping, best iteration is:\n",
      "[38]\tvalid_0's auc: 0.890572\n",
      "Training until validation scores don't improve for 50 rounds\n",
      "Early stopping, best iteration is:\n",
      "[3]\tvalid_0's auc: 0.875874\n",
      "Training until validation scores don't improve for 50 rounds\n",
      "[100]\tvalid_0's auc: 0.851399\n",
      "Early stopping, best iteration is:\n",
      "[67]\tvalid_0's auc: 0.863636\n"
     ]
    },
    {
     "name": "stderr",
     "output_type": "stream",
     "text": [
      "[I 2025-02-04 01:25:29,419] Trial 41 finished with value: 0.8850770807292546 and parameters: {'learning_rate': 0.04714442191844888, 'num_leaves': 146, 'max_depth': 2, 'min_data_in_leaf': 37, 'feature_fraction': 0.5599281513271185, 'bagging_fraction': 0.9135404831558296, 'bagging_freq': 9, 'lambda_l1': 2.7009671676452977e-05, 'lambda_l2': 1.7994129622137108e-05}. Best is trial 34 with value: 0.8906934450412711.\n"
     ]
    },
    {
     "name": "stdout",
     "output_type": "stream",
     "text": [
      "Training until validation scores don't improve for 50 rounds\n",
      "[100]\tvalid_0's auc: 0.853147\n",
      "Early stopping, best iteration is:\n",
      "[63]\tvalid_0's auc: 0.868881\n",
      "Training until validation scores don't improve for 50 rounds\n",
      "Early stopping, best iteration is:\n",
      "[44]\tvalid_0's auc: 0.906355\n",
      "Training until validation scores don't improve for 50 rounds\n",
      "Early stopping, best iteration is:\n",
      "[7]\tvalid_0's auc: 0.853535\n",
      "Training until validation scores don't improve for 50 rounds\n",
      "Early stopping, best iteration is:\n",
      "[1]\tvalid_0's auc: 0.882867\n",
      "Training until validation scores don't improve for 50 rounds\n"
     ]
    },
    {
     "name": "stderr",
     "output_type": "stream",
     "text": [
      "[I 2025-02-04 01:25:29,896] Trial 42 finished with value: 0.8752297219688524 and parameters: {'learning_rate': 0.06821868593647715, 'num_leaves': 150, 'max_depth': 3, 'min_data_in_leaf': 18, 'feature_fraction': 0.644355327797973, 'bagging_fraction': 0.9646647071573997, 'bagging_freq': 8, 'lambda_l1': 1.3707469177583699e-06, 'lambda_l2': 6.58287957249646e-07}. Best is trial 34 with value: 0.8906934450412711.\n"
     ]
    },
    {
     "name": "stdout",
     "output_type": "stream",
     "text": [
      "Early stopping, best iteration is:\n",
      "[34]\tvalid_0's auc: 0.867133\n",
      "Training until validation scores don't improve for 50 rounds\n",
      "Early stopping, best iteration is:\n",
      "[11]\tvalid_0's auc: 0.866259\n",
      "Training until validation scores don't improve for 50 rounds\n",
      "Early stopping, best iteration is:\n",
      "[13]\tvalid_0's auc: 0.906355\n",
      "Training until validation scores don't improve for 50 rounds\n"
     ]
    },
    {
     "name": "stderr",
     "output_type": "stream",
     "text": [
      "[I 2025-02-04 01:25:30,276] Trial 43 finished with value: 0.8812126279517584 and parameters: {'learning_rate': 0.03934368941394371, 'num_leaves': 135, 'max_depth': 0, 'min_data_in_leaf': 31, 'feature_fraction': 0.6199688143369417, 'bagging_fraction': 0.8776729202784002, 'bagging_freq': 8, 'lambda_l1': 2.009260617614744e-07, 'lambda_l2': 0.00013589055362125068}. Best is trial 34 with value: 0.8906934450412711.\n"
     ]
    },
    {
     "name": "stdout",
     "output_type": "stream",
     "text": [
      "Early stopping, best iteration is:\n",
      "[31]\tvalid_0's auc: 0.893939\n",
      "Training until validation scores don't improve for 50 rounds\n",
      "Early stopping, best iteration is:\n",
      "[36]\tvalid_0's auc: 0.874126\n",
      "Training until validation scores don't improve for 50 rounds\n",
      "[100]\tvalid_0's auc: 0.863636\n",
      "Early stopping, best iteration is:\n",
      "[72]\tvalid_0's auc: 0.870629\n",
      "Training until validation scores don't improve for 50 rounds\n",
      "Early stopping, best iteration is:\n",
      "[7]\tvalid_0's auc: 0.861014\n",
      "Training until validation scores don't improve for 50 rounds\n",
      "Early stopping, best iteration is:\n",
      "[45]\tvalid_0's auc: 0.931438\n",
      "Training until validation scores don't improve for 50 rounds\n",
      "[100]\tvalid_0's auc: 0.843434\n",
      "Early stopping, best iteration is:\n",
      "[57]\tvalid_0's auc: 0.856061\n",
      "Training until validation scores don't improve for 50 rounds\n",
      "[100]\tvalid_0's auc: 0.840909\n",
      "Early stopping, best iteration is:\n",
      "[61]\tvalid_0's auc: 0.870629\n",
      "Training until validation scores don't improve for 50 rounds\n",
      "[100]\tvalid_0's auc: 0.86014\n",
      "Early stopping, best iteration is:\n",
      "[89]\tvalid_0's auc: 0.868881\n",
      "Training until validation scores don't improve for 50 rounds\n"
     ]
    },
    {
     "name": "stderr",
     "output_type": "stream",
     "text": [
      "[I 2025-02-04 01:25:30,567] Trial 44 finished with value: 0.878129117259552 and parameters: {'learning_rate': 0.05162647137559202, 'num_leaves': 143, 'max_depth': 6, 'min_data_in_leaf': 39, 'feature_fraction': 0.5147711350662207, 'bagging_fraction': 0.682375373274985, 'bagging_freq': 10, 'lambda_l1': 3.871022461851085e-06, 'lambda_l2': 6.72631326366714e-06}. Best is trial 34 with value: 0.8906934450412711.\n"
     ]
    },
    {
     "name": "stdout",
     "output_type": "stream",
     "text": [
      "Early stopping, best iteration is:\n",
      "[28]\tvalid_0's auc: 0.863636\n",
      "Training until validation scores don't improve for 50 rounds\n",
      "Early stopping, best iteration is:\n",
      "[9]\tvalid_0's auc: 0.899666\n",
      "Training until validation scores don't improve for 50 rounds\n",
      "Early stopping, best iteration is:\n",
      "[19]\tvalid_0's auc: 0.857744\n",
      "Training until validation scores don't improve for 50 rounds\n",
      "Early stopping, best iteration is:\n",
      "[47]\tvalid_0's auc: 0.882867\n",
      "Training until validation scores don't improve for 50 rounds\n",
      "Early stopping, best iteration is:\n",
      "[32]\tvalid_0's auc: 0.84965\n",
      "Training until validation scores don't improve for 50 rounds\n"
     ]
    },
    {
     "name": "stderr",
     "output_type": "stream",
     "text": [
      "[I 2025-02-04 01:25:30,789] Trial 45 finished with value: 0.8691392745740572 and parameters: {'learning_rate': 0.02682607465850445, 'num_leaves': 150, 'max_depth': 5, 'min_data_in_leaf': 67, 'feature_fraction': 0.5686644956560226, 'bagging_fraction': 0.9757232573436019, 'bagging_freq': 9, 'lambda_l1': 6.934412905302531e-07, 'lambda_l2': 9.439695526724702e-08}. Best is trial 34 with value: 0.8906934450412711.\n"
     ]
    },
    {
     "name": "stdout",
     "output_type": "stream",
     "text": [
      "Early stopping, best iteration is:\n",
      "[7]\tvalid_0's auc: 0.855769\n",
      "Training until validation scores don't improve for 50 rounds\n",
      "Early stopping, best iteration is:\n",
      "[16]\tvalid_0's auc: 0.909699\n",
      "Training until validation scores don't improve for 50 rounds\n",
      "Early stopping, best iteration is:\n",
      "[24]\tvalid_0's auc: 0.877946\n",
      "Training until validation scores don't improve for 50 rounds\n",
      "Early stopping, best iteration is:\n",
      "[21]\tvalid_0's auc: 0.858392\n",
      "Training until validation scores don't improve for 50 rounds\n"
     ]
    },
    {
     "name": "stderr",
     "output_type": "stream",
     "text": [
      "[I 2025-02-04 01:25:31,070] Trial 46 finished with value: 0.8776339200252243 and parameters: {'learning_rate': 0.08250279423854508, 'num_leaves': 129, 'max_depth': 3, 'min_data_in_leaf': 46, 'feature_fraction': 0.44623966893638484, 'bagging_fraction': 0.9384413667517272, 'bagging_freq': 7, 'lambda_l1': 2.2418803419753798e-08, 'lambda_l2': 0.0007369990475882981}. Best is trial 34 with value: 0.8906934450412711.\n"
     ]
    },
    {
     "name": "stdout",
     "output_type": "stream",
     "text": [
      "Early stopping, best iteration is:\n",
      "[21]\tvalid_0's auc: 0.858392\n",
      "Training until validation scores don't improve for 50 rounds\n",
      "Early stopping, best iteration is:\n",
      "[49]\tvalid_0's auc: 0.883741\n",
      "Training until validation scores don't improve for 50 rounds\n",
      "Early stopping, best iteration is:\n",
      "[3]\tvalid_0's auc: 0.905518\n",
      "Training until validation scores don't improve for 50 rounds\n",
      "Early stopping, best iteration is:\n",
      "[3]\tvalid_0's auc: 0.868687\n",
      "Training until validation scores don't improve for 50 rounds\n",
      "Early stopping, best iteration is:\n",
      "[5]\tvalid_0's auc: 0.877622\n",
      "Training until validation scores don't improve for 50 rounds\n",
      "[100]\tvalid_0's auc: 0.84965\n",
      "Early stopping, best iteration is:\n",
      "[72]\tvalid_0's auc: 0.86014\n",
      "Training until validation scores don't improve for 50 rounds\n"
     ]
    },
    {
     "name": "stderr",
     "output_type": "stream",
     "text": [
      "[I 2025-02-04 01:25:31,467] Trial 47 finished with value: 0.8787921016181885 and parameters: {'learning_rate': 0.03478712478669532, 'num_leaves': 70, 'max_depth': 19, 'min_data_in_leaf': 26, 'feature_fraction': 0.6555423671571626, 'bagging_fraction': 0.9974283668733928, 'bagging_freq': 3, 'lambda_l1': 0.42492525376700413, 'lambda_l2': 2.841542576403271e-06}. Best is trial 34 with value: 0.8906934450412711.\n"
     ]
    },
    {
     "name": "stdout",
     "output_type": "stream",
     "text": [
      "Early stopping, best iteration is:\n",
      "[7]\tvalid_0's auc: 0.881993\n",
      "Training until validation scores don't improve for 50 rounds\n",
      "[100]\tvalid_0's auc: 0.908027\n",
      "Early stopping, best iteration is:\n",
      "[69]\tvalid_0's auc: 0.916388\n",
      "Training until validation scores don't improve for 50 rounds\n",
      "Early stopping, best iteration is:\n",
      "[16]\tvalid_0's auc: 0.873737\n",
      "Training until validation scores don't improve for 50 rounds\n",
      "Early stopping, best iteration is:\n",
      "[17]\tvalid_0's auc: 0.838287\n",
      "Training until validation scores don't improve for 50 rounds\n"
     ]
    },
    {
     "name": "stderr",
     "output_type": "stream",
     "text": [
      "[I 2025-02-04 01:25:31,777] Trial 48 finished with value: 0.8671959280654933 and parameters: {'learning_rate': 0.14114600693065968, 'num_leaves': 88, 'max_depth': 1, 'min_data_in_leaf': 55, 'feature_fraction': 0.6076456892464079, 'bagging_fraction': 0.6330595488305847, 'bagging_freq': 2, 'lambda_l1': 0.00018739575425704926, 'lambda_l2': 2.3496038456596018e-05}. Best is trial 34 with value: 0.8906934450412711.\n"
     ]
    },
    {
     "name": "stdout",
     "output_type": "stream",
     "text": [
      "[100]\tvalid_0's auc: 0.83042\n",
      "Early stopping, best iteration is:\n",
      "[72]\tvalid_0's auc: 0.854021\n",
      "Training until validation scores don't improve for 50 rounds\n",
      "[100]\tvalid_0's auc: 0.861014\n",
      "Early stopping, best iteration is:\n",
      "[124]\tvalid_0's auc: 0.873252\n",
      "Training until validation scores don't improve for 50 rounds\n",
      "Early stopping, best iteration is:\n",
      "[10]\tvalid_0's auc: 0.923077\n",
      "Training until validation scores don't improve for 50 rounds\n",
      "Early stopping, best iteration is:\n",
      "[10]\tvalid_0's auc: 0.846801\n",
      "Training until validation scores don't improve for 50 rounds\n",
      "Early stopping, best iteration is:\n",
      "[1]\tvalid_0's auc: 0.931818\n",
      "Training until validation scores don't improve for 50 rounds\n",
      "Early stopping, best iteration is:\n",
      "[4]\tvalid_0's auc: 0.872378\n",
      "Training until validation scores don't improve for 50 rounds\n"
     ]
    },
    {
     "name": "stderr",
     "output_type": "stream",
     "text": [
      "[I 2025-02-04 01:25:32,526] Trial 49 finished with value: 0.8885910385910387 and parameters: {'learning_rate': 0.1894748265250775, 'num_leaves': 28, 'max_depth': 7, 'min_data_in_leaf': 10, 'feature_fraction': 0.5149762014271555, 'bagging_fraction': 0.9027748119865802, 'bagging_freq': 4, 'lambda_l1': 7.625240653702528e-05, 'lambda_l2': 0.0035752729826905158}. Best is trial 34 with value: 0.8906934450412711.\n"
     ]
    },
    {
     "name": "stdout",
     "output_type": "stream",
     "text": [
      "Early stopping, best iteration is:\n",
      "[14]\tvalid_0's auc: 0.868881\n",
      "\n",
      "Best Parameters: {'learning_rate': 0.08008737853936118, 'num_leaves': 150, 'max_depth': 3, 'min_data_in_leaf': 38, 'feature_fraction': 0.6866777360865949, 'bagging_fraction': 0.9767165917206557, 'bagging_freq': 8, 'lambda_l1': 0.00014239764831320827, 'lambda_l2': 0.0001648051950771801}\n",
      "Training until validation scores don't improve for 50 rounds\n",
      "Early stopping, best iteration is:\n",
      "[33]\tvalid_0's l2: 0.112297\n",
      "\n",
      "Final Model Accuracy: 0.9016\n",
      "Final Model AUC Score: 0.9010\n",
      "\n",
      "Classification Report:\n",
      "\n",
      "              precision    recall  f1-score   support\n",
      "\n",
      "     Class 0       0.91      0.91      0.91        33\n",
      "     Class 1       0.89      0.89      0.89        28\n",
      "\n",
      "    accuracy                           0.90        61\n",
      "   macro avg       0.90      0.90      0.90        61\n",
      "weighted avg       0.90      0.90      0.90        61\n",
      "\n"
     ]
    }
   ],
   "source": [
    "\n",
    "# Define categorical and numerical features\n",
    "categorical_cols_one_hot = ['ca']  # Features for One-Hot Encoding\n",
    "categorical_cols_label = ['slope', 'cp', 'restecg', 'thal']  # Features for Label Encoding\n",
    "numerical_cols = ['age', 'trestbps', 'chol', 'thalach', 'oldpeak']  # Numerical features\n",
    "\n",
    "\n",
    "# Apply One-Hot Encoding\n",
    "encoder = OneHotEncoder(drop='first', sparse_output=False)  \n",
    "encoded_categorical = encoder.fit_transform(df_new[categorical_cols_one_hot])\n",
    "encoded_df = pd.DataFrame(encoded_categorical, columns=encoder.get_feature_names_out())\n",
    "\n",
    "# Apply Label Encoding\n",
    "label_encoders = {}\n",
    "for col in categorical_cols_label:\n",
    "    le = LabelEncoder()\n",
    "    df_new[col] = le.fit_transform(df_new[col])  # Encode in place\n",
    "    label_encoders[col] = le  # Store for future use\n",
    "\n",
    "# Merge processed categorical features with numerical features\n",
    "X = pd.concat([df_new[numerical_cols], df_new[categorical_cols_label], encoded_df], axis=1)\n",
    "y = df_new['target']\n",
    "\n",
    "# Convert to NumPy arrays\n",
    "X = X.to_numpy()\n",
    "y = y.to_numpy()\n",
    "\n",
    "# Split dataset into training and testing sets (80-20 split)\n",
    "X_train, X_test, y_train, y_test = train_test_split(X, y, test_size=0.2, random_state=42, stratify=y)\n",
    "\n",
    "# Apply Feature Scaling (Standardization)\n",
    "scaler = StandardScaler()\n",
    "X_train = scaler.fit_transform(X_train)\n",
    "X_test = scaler.transform(X_test)\n",
    "\n",
    "# Convert data to LightGBM dataset format\n",
    "train_data = lgb.Dataset(X_train, label=y_train)\n",
    "valid_data = lgb.Dataset(X_test, label=y_test, reference=train_data)\n",
    "\n",
    "# Define the objective function for Optuna\n",
    "def objective(trial):\n",
    "    params = {\n",
    "        \"objective\": \"binary\",\n",
    "        \"metric\": \"auc\",\n",
    "        \"boosting_type\": \"gbdt\",\n",
    "        \"learning_rate\": trial.suggest_loguniform(\"learning_rate\", 0.01, 0.3),\n",
    "        \"num_leaves\": trial.suggest_int(\"num_leaves\", 20, 150),\n",
    "        \"max_depth\": trial.suggest_int(\"max_depth\", -1, 20),\n",
    "        \"min_data_in_leaf\": trial.suggest_int(\"min_data_in_leaf\", 10, 100),\n",
    "        \"feature_fraction\": trial.suggest_uniform(\"feature_fraction\", 0.4, 1.0),\n",
    "        \"bagging_fraction\": trial.suggest_uniform(\"bagging_fraction\", 0.4, 1.0),\n",
    "        \"bagging_freq\": trial.suggest_int(\"bagging_freq\", 1, 10),\n",
    "        \"lambda_l1\": trial.suggest_loguniform(\"lambda_l1\", 1e-8, 10.0),\n",
    "        \"lambda_l2\": trial.suggest_loguniform(\"lambda_l2\", 1e-8, 10.0),\n",
    "        \"random_state\": 42,\n",
    "        \"verbosity\": -1\n",
    "    }\n",
    "    \n",
    "    # Cross-validation strategy\n",
    "    kf = StratifiedKFold(n_splits=5, shuffle=True, random_state=42)\n",
    "    auc_scores = []\n",
    "\n",
    "    for train_idx, val_idx in kf.split(X_train, y_train):\n",
    "        X_tr, X_val = X_train[train_idx], X_train[val_idx]\n",
    "        y_tr, y_val = y_train[train_idx], y_train[val_idx]\n",
    "\n",
    "        train_set = lgb.Dataset(X_tr, label=y_tr)\n",
    "        valid_set = lgb.Dataset(X_val, label=y_val, reference=train_set)\n",
    "\n",
    "        model = lgb.train(\n",
    "            params,\n",
    "            train_set,\n",
    "            valid_sets=[valid_set],\n",
    "            num_boost_round=1000,\n",
    "            callbacks=[\n",
    "                early_stopping(50), \n",
    "                log_evaluation(100)\n",
    "            ]\n",
    "        )\n",
    "\n",
    "        y_val_pred = model.predict(X_val, num_iteration=model.best_iteration)\n",
    "        auc = roc_auc_score(y_val, y_val_pred)\n",
    "        auc_scores.append(auc)\n",
    "\n",
    "    return np.mean(auc_scores)  # Return the mean AUC score\n",
    "\n",
    "# Run Optuna optimization\n",
    "study = optuna.create_study(direction=\"maximize\")\n",
    "study.optimize(objective, n_trials=50)  # Run 50 trials\n",
    "\n",
    "# Best parameters found\n",
    "best_params = study.best_params\n",
    "print(\"\\nBest Parameters:\", best_params)\n",
    "\n",
    "# Train final model with best parameters\n",
    "final_model = lgb.train(\n",
    "    best_params,\n",
    "    train_data,\n",
    "    valid_sets=[valid_data],  \n",
    "    num_boost_round=1000,\n",
    "    callbacks=[\n",
    "        early_stopping(50),  \n",
    "        log_evaluation(100)  \n",
    "    ]\n",
    ")\n",
    "\n",
    "# Predictions\n",
    "y_pred = final_model.predict(X_test, num_iteration=final_model.best_iteration)\n",
    "y_pred_binary = (y_pred > 0.5).astype(int)\n",
    "\n",
    "# Evaluation\n",
    "accuracy = accuracy_score(y_test, y_pred_binary)\n",
    "auc = roc_auc_score(y_test, y_pred_binary)\n",
    "\n",
    "print(f\"\\nFinal Model Accuracy: {accuracy:.4f}\")\n",
    "print(f\"Final Model AUC Score: {auc:.4f}\")\n",
    "print(\"\\nClassification Report:\\n\")\n",
    "print(classification_report(y_test, y_pred_binary, target_names=[\"Class 0\", \"Class 1\"]))"
   ]
  },
  {
   "cell_type": "markdown",
   "id": "2ca850ec-3dc8-4c27-b394-0edb3335d011",
   "metadata": {},
   "source": [
    "Accuracy up to 88.52% and recall to 88%"
   ]
  },
  {
   "cell_type": "code",
   "execution_count": 75,
   "id": "c8f0113d-f590-4e6c-acc2-0089631d075d",
   "metadata": {},
   "outputs": [
    {
     "data": {
      "text/plain": [
       "['final_lightgbm_heart_disease_model.joblib']"
      ]
     },
     "execution_count": 75,
     "metadata": {},
     "output_type": "execute_result"
    }
   ],
   "source": [
    "# Save final model\n",
    "dump(best_model, \"final_lightgbm_heart_disease_model.joblib\")"
   ]
  },
  {
   "cell_type": "markdown",
   "id": "d8f98736-85b6-40c1-b02b-aca0e76323a6",
   "metadata": {},
   "source": [
    "### CatBoost\n",
    "#### Model Training with CatBoost"
   ]
  },
  {
   "cell_type": "code",
   "execution_count": 76,
   "id": "197d7d85-cb71-4c71-ac02-5122e8d5bc07",
   "metadata": {},
   "outputs": [
    {
     "name": "stdout",
     "output_type": "stream",
     "text": [
      "0:\tlearn: 0.6654233\ttest: 0.6678526\tbest: 0.6678526 (0)\ttotal: 294ms\tremaining: 58.5s\n",
      "10:\tlearn: 0.4717991\ttest: 0.4978000\tbest: 0.4978000 (10)\ttotal: 1.32s\tremaining: 22.7s\n",
      "20:\tlearn: 0.3766507\ttest: 0.4215286\tbest: 0.4215286 (20)\ttotal: 2.48s\tremaining: 21.1s\n",
      "30:\tlearn: 0.3219764\ttest: 0.4056612\tbest: 0.4054564 (29)\ttotal: 3.76s\tremaining: 20.5s\n",
      "40:\tlearn: 0.2922245\ttest: 0.3796876\tbest: 0.3796876 (40)\ttotal: 4.93s\tremaining: 19.1s\n",
      "50:\tlearn: 0.2692050\ttest: 0.3676308\tbest: 0.3673419 (49)\ttotal: 6.24s\tremaining: 18.2s\n",
      "60:\tlearn: 0.2473779\ttest: 0.3652771\tbest: 0.3619157 (59)\ttotal: 7.34s\tremaining: 16.7s\n",
      "70:\tlearn: 0.2318659\ttest: 0.3541444\tbest: 0.3541444 (70)\ttotal: 12.7s\tremaining: 23.1s\n",
      "80:\tlearn: 0.2162135\ttest: 0.3564188\tbest: 0.3531433 (73)\ttotal: 13.9s\tremaining: 20.5s\n",
      "90:\tlearn: 0.2039370\ttest: 0.3601659\tbest: 0.3531433 (73)\ttotal: 15.2s\tremaining: 18.2s\n",
      "Stopped by overfitting detector  (20 iterations wait)\n",
      "\n",
      "bestTest = 0.3531433367\n",
      "bestIteration = 73\n",
      "\n",
      "Shrink model to first 74 iterations.\n",
      "Accuracy:  0.8688524590163934\n",
      "\n",
      "0.9253246753246753\n",
      "\n",
      "              precision    recall  f1-score   support\n",
      "\n",
      "           0       0.90      0.85      0.88        33\n",
      "           1       0.83      0.89      0.86        28\n",
      "\n",
      "    accuracy                           0.87        61\n",
      "   macro avg       0.87      0.87      0.87        61\n",
      "weighted avg       0.87      0.87      0.87        61\n",
      "\n"
     ]
    }
   ],
   "source": [
    "# Define feature columns\n",
    "categorical_cols_one_hot = ['ca']  # One-Hot Encoding\n",
    "categorical_cols_label = ['slope', 'cp', 'restecg', 'thal']  # Label Encoding\n",
    "numerical_cols = ['age', 'trestbps', 'chol', 'thalach', 'oldpeak']  # Numerical features\n",
    "\n",
    "# Separate features and target\n",
    "X = df_new[categorical_cols_one_hot + categorical_cols_label + numerical_cols].copy()  # Copy to avoid modifying original\n",
    "y = df_new['target'].copy()\n",
    "\n",
    "# One-Hot Encoding for categorical column(s)\n",
    "one_hot_encoder = OneHotEncoder(sparse_output=False, drop='first')  # ✅ FIXED\n",
    "ca_encoded = one_hot_encoder.fit_transform(df_new[categorical_cols_one_hot])\n",
    "ca_encoded_df = pd.DataFrame(ca_encoded, columns=one_hot_encoder.get_feature_names_out())\n",
    "\n",
    "# Label Encoding for categorical features\n",
    "label_encoder_dict = {}\n",
    "for col in categorical_cols_label:\n",
    "    le = LabelEncoder()\n",
    "    X.loc[:, col] = le.fit_transform(X[col])  # ✅ FIXED - Explicitly modify with `.loc`\n",
    "    label_encoder_dict[col] = le  # Store for future use\n",
    "\n",
    "# Combine all features\n",
    "X = pd.concat([X[numerical_cols + categorical_cols_label], ca_encoded_df], axis=1)\n",
    "\n",
    "# Convert categorical columns to string for CatBoost (no need for encoding)\n",
    "X[categorical_cols_label] = X[categorical_cols_label].astype(str)\n",
    "\n",
    "# Split the dataset into train and test sets (80% train, 20% test)\n",
    "X_train, X_test, y_train, y_test = train_test_split(X, y, test_size=0.2, random_state=42, stratify=y)\n",
    "\n",
    "# Initialize and train CatBoost model (without encoding categorical variables)\n",
    "catboost_model = CatBoostClassifier(\n",
    "    iterations=200, \n",
    "    learning_rate=0.05, \n",
    "    depth=6, \n",
    "    cat_features=categorical_cols_label,  # Pass categorical feature names directly\n",
    "    verbose=10\n",
    ")\n",
    "\n",
    "catboost_model.fit(X_train, y_train, eval_set=(X_test, y_test), early_stopping_rounds=20, verbose=10)\n",
    "\n",
    "# Make predictions\n",
    "y_pred_proba_catboost = catboost_model.predict_proba(X_test)[:, 1]  # Probabilities for class 1\n",
    "y_pred_catboost = (y_pred_proba_catboost > 0.5).astype(int)  # Convert probabilities to binary predictions\n",
    "\n",
    "# Evaluate the model\n",
    "accuracy_catboost = accuracy_score(y_test, y_pred_catboost)\n",
    "roc_auc_catboost = roc_auc_score(y_test, y_pred_proba_catboost)\n",
    "classification_rep = classification_report(y_test, y_pred_catboost)\n",
    "\n",
    "# Display evaluation metrics\n",
    "print(f\"Accuracy: \", accuracy_catboost)\n",
    "print()\n",
    "print(roc_auc_catboost)\n",
    "print()\n",
    "print(classification_rep)"
   ]
  },
  {
   "cell_type": "markdown",
   "id": "b233728d-a75c-4a32-8601-3344e3e4aaab",
   "metadata": {},
   "source": [
    "Accuracy is 88.52% and recall is 89%"
   ]
  },
  {
   "cell_type": "code",
   "execution_count": null,
   "id": "516fe2c8-3ca5-40eb-a097-3c612374c315",
   "metadata": {},
   "outputs": [
    {
     "name": "stdout",
     "output_type": "stream",
     "text": [
      "Fitting 3 folds for each of 20 candidates, totalling 60 fits\n"
     ]
    }
   ],
   "source": [
    "\n",
    "# Define parameter grid for tuning\n",
    "param_grid = {\n",
    "    'iterations': [200, 500, 1000],\n",
    "    'learning_rate': [0.01, 0.05, 0.1],\n",
    "    'depth': [4, 6, 8, 10],\n",
    "    'l2_leaf_reg': [1, 3, 5, 7, 9],\n",
    "    'border_count': [32, 64, 128],\n",
    "    'random_strength': [1, 2, 3, 5],\n",
    "    'bagging_temperature': [0.1, 0.5, 1, 2],\n",
    "}\n",
    "\n",
    "# Initialize CatBoost model\n",
    "catboost_model = CatBoostClassifier(cat_features=categorical_cols_label, verbose=0, random_state=42)\n",
    "\n",
    "# Perform Randomized Search\n",
    "random_search = RandomizedSearchCV(\n",
    "    estimator=catboost_model,\n",
    "    param_distributions=param_grid,\n",
    "    n_iter=20,  # Number of random configurations to test\n",
    "    scoring='accuracy',\n",
    "    cv=3,\n",
    "    verbose=2,\n",
    "    random_state=42,\n",
    "    n_jobs=-1\n",
    ")\n",
    "\n",
    "# Fit Randomized Search\n",
    "random_search.fit(X_train, y_train)\n",
    "\n",
    "# Best parameters\n",
    "best_params = random_search.best_params_\n",
    "\n",
    "# Train best model on the entire training set\n",
    "best_model = CatBoostClassifier(**best_params, cat_features=categorical_cols_label, verbose=0, random_state=42)\n",
    "best_model.fit(X_train, y_train)\n",
    "\n",
    "# Predictions\n",
    "y_pred_best = best_model.predict(X_test)\n",
    "y_pred_proba_best = best_model.predict_proba(X_test)[:, 1]\n",
    "\n",
    "# Evaluate best model\n",
    "accuracy_best = accuracy_score(y_test, y_pred_best)\n",
    "roc_auc_best = roc_auc_score(y_test, y_pred_proba_best)\n",
    "classification_rep_best = classification_report(y_test, y_pred_best)\n",
    "\n",
    "\n",
    "\n",
    "# Display evaluation metrics\n",
    "print(f\"Best Parameters: \", best_params)\n",
    "print()\n",
    "print(f\"Best Accuracy: \", accuracy_best)\n",
    "print()\n",
    "print(f\"Best ROC-AUC: \\n \", roc_auc_best)\n",
    "print()\n",
    "print(f\"Best Classification Report:\\n \", classification_rep_best)"
   ]
  },
  {
   "cell_type": "markdown",
   "id": "d144fa9d-8922-43c8-8db1-e0f3afa5ded3",
   "metadata": {},
   "source": [
    "Accuracy dropped from 88.52% to 86.89%  and recall dropped from  89% to 87%"
   ]
  },
  {
   "cell_type": "markdown",
   "id": "5df55fd7-c55b-4cd3-89c4-7411b82eee74",
   "metadata": {},
   "source": [
    "#### Saving the Final CatBoost Model"
   ]
  },
  {
   "cell_type": "code",
   "execution_count": null,
   "id": "b66a99ac-2a07-4704-8175-c08527a13e7c",
   "metadata": {},
   "outputs": [],
   "source": [
    "# Save final model\n",
    "dump(best_model, \"final_cb_heart_disease_model.joblib\")"
   ]
  },
  {
   "cell_type": "markdown",
   "id": "0858b7ee-3f6a-4f9d-8130-bccde79e5b7b",
   "metadata": {},
   "source": [
    "### Artificial Neural Networks (ANNs)\n",
    "#### Model Training with Artificial Neural Networks (ANNs)"
   ]
  },
  {
   "cell_type": "code",
   "execution_count": null,
   "id": "72ca9aa3-90a4-4f6e-bb83-b0bd651fa8dd",
   "metadata": {},
   "outputs": [],
   "source": [
    "# Define feature columns\n",
    "categorical_cols_one_hot = ['ca']  # One-Hot Encoding\n",
    "categorical_cols_label = ['slope', 'cp', 'restecg', 'thal']  # Label Encoding\n",
    "numerical_cols = ['age', 'trestbps', 'chol', 'thalach', 'oldpeak']  # Numerical features\n",
    "\n",
    "# Separate features and target\n",
    "X = df_new[categorical_cols_one_hot + categorical_cols_label + numerical_cols]\n",
    "y = df_new['target']\n",
    "\n",
    "# One-Hot Encoding\n",
    "one_hot_encoder = OneHotEncoder(sparse_output=False, drop='first')\n",
    "ca_encoded = one_hot_encoder.fit_transform(df_new[categorical_cols_one_hot])\n",
    "ca_encoded_df = pd.DataFrame(ca_encoded, columns=one_hot_encoder.get_feature_names_out())\n",
    "\n",
    "# Label Encoding\n",
    "label_encoder_dict = {}\n",
    "for col in categorical_cols_label:\n",
    "    le = LabelEncoder()\n",
    "    X.loc[:, col] = le.fit_transform(X[col])  # Fixing SettingWithCopyWarning\n",
    "    label_encoder_dict[col] = le  # Store for future use\n",
    "\n",
    "# Combine all features\n",
    "X = pd.concat([X[numerical_cols + categorical_cols_label], ca_encoded_df], axis=1)\n",
    "\n",
    "# Convert to NumPy arrays for ANN training\n",
    "X = X.to_numpy()\n",
    "y = y.to_numpy()\n",
    "\n",
    "# Split dataset into training and testing sets (80-20 split)\n",
    "X_train, X_test, y_train, y_test = train_test_split(X, y, test_size=0.2, random_state=42, stratify=y)\n",
    "\n",
    "# Apply Feature Scaling (Standardization)\n",
    "scaler = StandardScaler()\n",
    "X_train = scaler.fit_transform(X_train)\n",
    "X_test = scaler.transform(X_test)\n",
    "\n",
    "# Define the ANN model\n",
    "model = keras.Sequential([\n",
    "    layers.Input(shape=(X_train.shape[1],)),  # Explicit Input layer\n",
    "    layers.Dense(32, activation='relu'),\n",
    "    layers.Dense(16, activation='relu'),\n",
    "    layers.Dense(8, activation='relu'),\n",
    "    layers.Dense(1, activation='sigmoid')  # Output layer for binary classification\n",
    "])\n",
    "\n",
    "# Compile the model\n",
    "model.compile(optimizer=Adam(learning_rate=0.001), loss='binary_crossentropy', metrics=['accuracy'])\n",
    "\n",
    "# Train the model\n",
    "history = model.fit(X_train, y_train, epochs=50, batch_size=16, validation_data=(X_test, y_test), verbose=1)\n",
    "\n",
    "# Make predictions\n",
    "y_pred_proba = model.predict(X_test).flatten()  # Get probability predictions\n",
    "y_pred = (y_pred_proba > 0.5).astype(int)  # Convert probabilities to binary predictions\n",
    "\n",
    "# Evaluate the model\n",
    "accuracy = accuracy_score(y_test, y_pred)\n",
    "auc_score = roc_auc_score(y_test, y_pred_proba)  # AUC Score\n",
    "classification_rep = classification_report(y_test, y_pred)\n",
    "\n",
    "# Display evaluation metrics\n",
    "print(f\"Accuracy: {accuracy:.4f}\")\n",
    "print(f\"AUC Score: {auc_score:.4f}\")\n",
    "print(\"\\nClassification Report:\\n\", classification_rep)"
   ]
  },
  {
   "cell_type": "markdown",
   "id": "20344ec2-fd5e-41d4-b41d-bee3e90c289f",
   "metadata": {},
   "source": [
    "#### Hyperparameter Tunning"
   ]
  },
  {
   "cell_type": "markdown",
   "id": "0e681c3f-70a2-4457-a8c0-ce2a253be47a",
   "metadata": {},
   "source": [
    "#### Hyperparameter Tuning for ANN\n",
    "   \n",
    "Unlike traditional machine learning models, ANN hyperparameters include:\n",
    "* number of hidden layers\n",
    "* neurons per layer\n",
    "* activation functions\n",
    "* dropout rate\n",
    "* learning rate\n",
    "* batch size\n",
    "* epochs\n",
    "  \n",
    "Instead of GridSearchCV, we use KerasTuner.\n",
    "\n",
    "When tuning hyperparameters for traditional machine learning models (like Logistic Regression, SVM, and k-NN), GridSearchCV from scikit-learn is a solid choice. However, when working with deep learning models (e.g., neural networks built with TensorFlow/Keras), KerasTuner is a better alternative because it is optimized for tuning neural network architectures."
   ]
  },
  {
   "cell_type": "code",
   "execution_count": null,
   "id": "7bb96fa4-5481-4f78-8ab6-ee898465ab55",
   "metadata": {},
   "outputs": [],
   "source": [
    "# Define function to create the ANN model for hyperparameter tuning\n",
    "def create_model(learning_rate=0.001, num_neurons_1=32, num_neurons_2=16, num_neurons_3=8):\n",
    "    model = keras.Sequential([\n",
    "        layers.Input(shape=(X_train.shape[1],)),  # Explicit Input layer\n",
    "        layers.Dense(num_neurons_1, activation='relu'),\n",
    "        layers.Dense(num_neurons_2, activation='relu'),\n",
    "        layers.Dense(num_neurons_3, activation='relu'),\n",
    "        layers.Dense(1, activation='sigmoid')  # Output layer for binary classification\n",
    "    ])\n",
    "    optimizer = Adam(learning_rate=learning_rate)\n",
    "    model.compile(optimizer=optimizer, loss='binary_crossentropy', metrics=['accuracy'])\n",
    "    return model\n",
    "\n",
    "# Wrap Keras model for GridSearchCV\n",
    "model = KerasClassifier(model=create_model, verbose=0)  #  Corrected wrapper\n",
    "\n",
    "# Define hyperparameter grid\n",
    "param_grid = {\n",
    "    'model__learning_rate': [0.001, 0.01, 0.05],  #  Now inside 'model__' prefix\n",
    "    'model__num_neurons_1': [16, 32, 64],\n",
    "    'model__num_neurons_2': [8, 16, 32],\n",
    "    'model__num_neurons_3': [4, 8, 16],\n",
    "    'batch_size': [16, 32],\n",
    "    'epochs': [50, 100]\n",
    "}\n",
    "\n",
    "# Perform GridSearchCV to find best hyperparameters\n",
    "grid_search = GridSearchCV(estimator=model, param_grid=param_grid, scoring='accuracy', cv=3, n_jobs=-1)\n",
    "grid_search.fit(X_train, y_train)\n",
    "\n",
    "# Get best parameters and best accuracy score\n",
    "best_params = grid_search.best_params_\n",
    "best_score = grid_search.best_score_\n",
    "\n",
    "print(\"\\nBest Hyperparameters Found:\")\n",
    "print(best_params)\n",
    "print(f\"Best GridSearch Accuracy: {best_score:.4f}\")\n"
   ]
  },
  {
   "cell_type": "markdown",
   "id": "6b38482a-1278-426a-a788-ef0c7312b838",
   "metadata": {},
   "source": [
    "Accuracy of 81.97% and recall of 82%"
   ]
  },
  {
   "cell_type": "code",
   "execution_count": null,
   "id": "9f26f746-3756-4aa9-ac90-7c331e9064bc",
   "metadata": {},
   "outputs": [],
   "source": [
    "\n",
    "# os.environ[\"CUDA_VISIBLE_DEVICES\"] = \"-1\" # uncomment it if you want to run on CPU\n",
    "\n",
    "# Define function to create the ANN model\n",
    "def create_model(learning_rate=0.001, num_neurons_1=32, num_neurons_2=16, num_neurons_3=8):\n",
    "    model = keras.Sequential([\n",
    "        layers.Input(shape=(X_train.shape[1],)),  # Explicit Input layer\n",
    "        layers.Dense(num_neurons_1, activation='relu'),\n",
    "        layers.Dense(num_neurons_2, activation='relu'),\n",
    "        layers.Dense(num_neurons_3, activation='relu'),\n",
    "        layers.Dense(1, activation='sigmoid')  # Output layer for binary classification\n",
    "    ])\n",
    "    optimizer = Adam(learning_rate=learning_rate)\n",
    "    model.compile(optimizer=optimizer, loss='binary_crossentropy', metrics=['accuracy'])\n",
    "    return model\n",
    "\n",
    "# Wrap Keras model for GridSearchCV\n",
    "model = KerasClassifier(model=create_model, verbose=0)  #  Corrected wrapper\n",
    "\n",
    "# Define hyperparameter grid\n",
    "param_grid = {\n",
    "    'model__learning_rate': [0.001, 0.01, 0.05],  #  Now inside 'model__' prefix\n",
    "    'model__num_neurons_1': [16, 32, 64],\n",
    "    'model__num_neurons_2': [8, 16, 32],\n",
    "    'model__num_neurons_3': [4, 8, 16],\n",
    "    'batch_size': [16, 32],\n",
    "    'epochs': [50, 100]\n",
    "}\n",
    "\n",
    "# Perform GridSearchCV to find best hyperparameters\n",
    "grid_search = GridSearchCV(estimator=model, param_grid=param_grid, scoring='accuracy', cv=3, n_jobs=-1)\n",
    "grid_search.fit(X_train, y_train)\n",
    "\n",
    "# Get best parameters and best accuracy score\n",
    "best_params = grid_search.best_params_\n",
    "best_score = grid_search.best_score_\n",
    "\n",
    "best_params, best_score"
   ]
  },
  {
   "cell_type": "markdown",
   "id": "413305c9-a3ee-40f2-87bd-d9797aecd244",
   "metadata": {},
   "source": [
    "Accuracy of 85.24% and recall of 85%"
   ]
  },
  {
   "cell_type": "code",
   "execution_count": null,
   "id": "b7dfee7b-1917-4979-8b2f-b688c3f571a3",
   "metadata": {},
   "outputs": [],
   "source": [
    "# Save final ANN model\n",
    "best_ann_model.save(\"final_ann_heart_disease_model.h5\")"
   ]
  },
  {
   "cell_type": "markdown",
   "id": "6a515ffa-de2a-4c57-8898-990f74b7c5c4",
   "metadata": {},
   "source": [
    "### Comparison of the Models for Heart Disease Prediction\n",
    "\n",
    "Now, let's systematically compare all eleven models based on the results we have obtained for accuracy, precision, recall, F1-score, and generalization ability."
   ]
  },
  {
   "cell_type": "code",
   "execution_count": null,
   "id": "d490b277-efd0-4d15-962b-d643d9f0824a",
   "metadata": {},
   "outputs": [],
   "source": [
    "\n",
    "# Model names\n",
    "models = [\"Logistic Regression\", \"SVM\", \"k-NN\", \"Naïve Bayes\", \"Decision Trees\", \n",
    "          \"Random Forest\", \"AdaBoost\", \"XGBoost\", \"LightGBM\", \"CatBoost\", \"ANN\"]\n",
    "\n",
    "# Performance metrics\n",
    "accuracy = [83.60, 86.89, 81.97, 88.52, 77.77, 90.16, 90.16, 81.97, 88.52, 85.25, 83.61]\n",
    "precision = [83, 87, 82, 88, 78, 90, 90, 83, 89, 85, 84]\n",
    "recall = [83, 87, 82,  89, 78, 90, 90, 81, 88, 85, 84]\n",
    "f1_score = [83, 87, 82, 88, 77, 90, 90, 81, 88, 85, 84]\n",
    "auc = [85.61, 87.07, 81.71, 88.58, 77.70, 90.10, 90.37, 81.17, 88.31, 90.69, 92.97]\n",
    "\n",
    "# Create a DataFrame for visualization\n",
    "df_metrics = pd.DataFrame({\n",
    "    \"Model\": models,\n",
    "    \"Accuracy (%)\": accuracy,\n",
    "    \"Precision (%)\": precision,\n",
    "    \"Recall (%)\": recall,\n",
    "    \"F1-score (%)\": f1_score,\n",
    "    \"AUC (%)\": auc\n",
    "})\n",
    "\n",
    "# Sort models by multiple criteria: AUC first, then Accuracy\n",
    "df_metrics = df_metrics.sort_values(by=[\"AUC (%)\", \"Accuracy (%)\"], ascending=False)\n",
    "\n",
    "# Display DataFrame for comparison\n",
    "df_metrics\n",
    "\n",
    "# Plot bar chart of model performances sorted by AUC\n",
    "plt.figure(figsize=(12, 6))\n",
    "sns.barplot(x=\"AUC (%)\", y=\"Model\", data=df_metrics, palette=\"coolwarm\")\n",
    "plt.title(\"Model Comparison Based on AUC\", fontsize=14)\n",
    "plt.xlabel(\"AUC (%)\")\n",
    "plt.ylabel(\"Models\")\n",
    "plt.xlim(75, 100)\n",
    "plt.show()\n",
    "\n",
    "# Plot heatmap of performance metrics\n",
    "plt.figure(figsize=(10, 6))\n",
    "sns.heatmap(df_metrics.set_index(\"Model\"), annot=True, cmap=\"coolwarm\", fmt=\".2f\", linewidths=0.5)\n",
    "plt.title(\"Comparison of Model Performances (Heatmap)\", fontsize=14)\n",
    "plt.xlabel(\"Metrics\")\n",
    "plt.ylabel(\"Models\")\n",
    "plt.show()"
   ]
  },
  {
   "cell_type": "markdown",
   "id": "e354a05f-1fd4-43b9-b24e-35a216f14362",
   "metadata": {},
   "source": [
    "Best Model Analysis\n",
    "Based on the comparison of AUC (Area Under the Curve) and Accuracy, the best model is:\n",
    "\n",
    "1️⃣ Artificial Neural Network (ANN)\n",
    "AUC: 95.45% (Highest)\n",
    "Accuracy: 81.97% (Moderate but compensated by high AUC)\n",
    "2️⃣ CatBoost\n",
    "AUC: 90.69% (Second highest)\n",
    "Accuracy: 85.25%\n",
    "3️⃣ AdaBoost & Random Forest\n",
    "AUC: 90.37% (AdaBoost) / 90.10% (Random Forest)\n",
    "Accuracy: 90.16% (Highest in dataset)\n",
    "Why ANN is the Best?\n",
    "AUC (95.45%) is the highest, meaning it has the best ability to distinguish between classes.\n",
    "While accuracy is lower than some models (81.97%), a high AUC means ANN performs well on imbalanced datasets.\n",
    "CatBoost is a strong alternative with high AUC (90.69%) and better accuracy (85.25%).\n",
    "Random Forest and AdaBoost have the highest accuracy (90.16%), but their AUC is slightly lower than ANN and CatBoost.\n",
    "Conclusion\n",
    "If AUC is the key metric (for imbalanced data scenarios), ANN is the best.\n",
    "If accuracy is preferred, Random Forest & AdaBoost are strong contenders.\n",
    "CatBoost balances both AUC and accuracy well, making it a great alternative."
   ]
  },
  {
   "cell_type": "markdown",
   "id": "616fd9f6-3494-4bf6-99cc-86cb791dc93e",
   "metadata": {},
   "source": [
    "\n"
   ]
  },
  {
   "cell_type": "markdown",
   "id": "fe03e5d1-3897-4b11-86e2-e25ccacc337f",
   "metadata": {},
   "source": [
    "#### Performance Comparison Table\n",
    "Here is a summarized performance comparison of all models:"
   ]
  },
  {
   "cell_type": "markdown",
   "id": "da7eb1e4-752c-4494-befd-34e5d059cb60",
   "metadata": {},
   "source": [
    "# **📊 Performance Comparison of All Models**\n",
    "\n",
    "| Model                  | Accuracy | Precision (Class 0 / 1) | Recall (Class 0 / 1) | F1-score (Class 0 / 1) | Overfitting Risk |\n",
    "|------------------------|----------|-------------------------|----------------------|-----------------------|------------------|\n",
    "| **Logistic Regression** | 83.61%   | 0.85 / 0.82             | 0.85 / 0.82          | 0.85 / 0.82           | **Low** |\n",
    "| **SVM (RBF Kernel)**   | 86.89%   | 0.90 / 0.83             | 0.85 / 0.89          | 0.88 / 0.86           | **Medium** |\n",
    "| **k-NN (Best Params)** | 81.97%   | 0.82 / 0.81             | 0.85 / 0.79          | 0.84 / 0.80           | **High** (Sensitive to noisy data) |\n",
    "| **Naïve Bayes**        | 88.52%   | 0.91 / 0.86             | 0.88 / 0.89          | 0.89 / 0.88           | **Low** |\n",
    "| **Decision Trees**     | 77.71%   | 0.85 / 0.71             | 0.70 / 0.86          | 0.77 / 0.77           | **High** (Prone to overfitting) |\n",
    "| **Random Forest**      | 90.16%   | 0.91 / 0.89             | 0.91 / 0.89          | 0.91 / 0.89           | **Medium** (Less overfitting than Decision Trees) |\n",
    "| **AdaBoost**           | 90.16%   | 0.94 / 0.87             | 0.88 / 0.93          | 0.91 / 0.90           | **Medium** |\n",
    "| **XGBoost**            | 81.97%   | 0.79 / 0.87             | 0.91 / 0.71          | 0.85 / 0.78           | **Medium-Low** |\n",
    "| **LightGBM**           | 88.52%   | 0.88 / 0.89             | 0.91 / 0.86          | 0.90 / 0.87           | **Medium-Low** (Better generalization) |\n",
    "| **CatBoost**           | 85.25%   | 0.88 / 0.83             | 0.85 / 0.85          | 0.85 / 0.85           | **Medium-Low** (Handles categorical features well) |\n",
    "| **ANN (Best Config)**  | 83.61%   | 0.90 / 0.78             | 0.79 / 0.89          | 0.84 / 0.83           | **Low** (Good generalization) |\n"
   ]
  },
  {
   "cell_type": "markdown",
   "id": "5c167c94-112b-4e71-939f-8eb821c5dfe4",
   "metadata": {},
   "source": [
    "# **🔎 Insights from Model Performance on the Heart Disease Dataset**\n",
    "\n",
    "## **1️⃣ Best Performing Models: Random Forest & AdaBoost (90.16%)**\n",
    "✅ **Accuracy**: **90.16%**  \n",
    "✅ **Precision**: **0.91 / 0.89** (Random Forest), **0.94 / 0.87** (AdaBoost)  \n",
    "✅ **Recall**: **0.91 / 0.89** (Random Forest), **0.88 / 0.93** (AdaBoost)  \n",
    "✅ **F1-score**: **0.91 / 0.89** (Random Forest), **0.91 / 0.90** (AdaBoost)  \n",
    "\n",
    "### **📌 Why?**\n",
    "- **Random Forest** reduces variance and improves stability through **ensemble learning**.  \n",
    "- **AdaBoost** corrects misclassified examples, improving predictive power.  \n",
    "- Both models effectively handle **imbalanced datasets** and **medical data classification**.  \n",
    "\n",
    "---\n",
    "\n",
    "## **2️⃣ Strong Performers: Naïve Bayes & LightGBM (88.52%)**\n",
    "✅ **Accuracy**: **88.52%**  \n",
    "✅ **Precision**: **0.91 / 0.86** (Naïve Bayes), **0.88 / 0.89** (LightGBM)  \n",
    "✅ **Recall**: **0.88 / 0.89** (Naïve Bayes), **0.91 / 0.86** (LightGBM)  \n",
    "✅ **F1-score**: **0.89 / 0.88** (Naïve Bayes), **0.90 / 0.87** (LightGBM)  \n",
    "\n",
    "### **📌 Why?**\n",
    "- **Naïve Bayes** performs well despite assuming feature independence.  \n",
    "- **LightGBM** is **efficient** and works well on large datasets with categorical features.  \n",
    "\n",
    "---\n",
    "\n",
    "## **3️⃣ Best Non-Tree-Based Traditional Model: SVM (86.89%)**\n",
    "✅ **Accuracy**: **86.89%**  \n",
    "✅ **Precision**: **0.90 / 0.83**  \n",
    "✅ **Recall**: **0.85 / 0.89**  \n",
    "✅ **F1-score**: **0.88 / 0.86**  \n",
    "\n",
    "### **📌 Why?**\n",
    "- **SVM (RBF Kernel)** is excellent for **small to medium datasets**.  \n",
    "- It captures **non-linear decision boundaries** effectively.  \n",
    "- Performs well in **medical datasets** where decision boundaries are critical.  \n",
    "\n",
    "---\n",
    "\n",
    "## **4️⃣ Logistic Regression & Artificial Neural Networks (83.61%)**\n",
    "✅ **Accuracy**: **83.61%**  \n",
    "✅ **Precision**: **0.85 / 0.82** (Logistic Regression), **0.90 / 0.78** (ANN)  \n",
    "✅ **Recall**: **0.85 / 0.82** (Logistic Regression), **0.79 / 0.89** (ANN)  \n",
    "✅ **F1-score**: **0.85 / 0.82** (Logistic Regression), **0.84 / 0.83** (ANN)  \n",
    "\n",
    "### **📌 Why?**\n",
    "- **Logistic Regression** is simple yet effective for **linearly separable data**.  \n",
    "- **ANNs generalize well** but require **more data** and **hyperparameter tuning** to outperform tree-based models.  \n",
    "\n",
    "---\n",
    "\n",
    "## **5️⃣ XGBoost, CatBoost, and k-NN: Performance Drop**\n",
    "✅ **XGBoost Accuracy**: **81.97%**  \n",
    "✅ **CatBoost Accuracy**: **85.25%**  \n",
    "✅ **k-NN Accuracy**: **81.97%**  \n",
    "\n",
    "### **📌 Why?**\n",
    "- **XGBoost** likely needs **better hyperparameter tuning** to improve performance.  \n",
    "- **CatBoost**, usually strong, underperformed slightly in this dataset.  \n",
    "- **k-NN** is prone to **overfitting** in **high-dimensional data**, leading to lower accuracy.  \n",
    "\n",
    "---\n",
    "\n",
    "## **6️⃣ Weakest Model: Decision Trees (77.71%)**\n",
    "✅ **Accuracy**: **77.71%**  \n",
    "✅ **Precision**: **0.85 / 0.71**  \n",
    "✅ **Recall**: **0.70 / 0.86**  \n",
    "✅ **F1-score**: **0.77 / 0.77**  \n",
    "\n",
    "### **📌 Why?**\n",
    "- **Decision Trees overfit easily**, leading to high variance.  \n",
    "- **Lower recall (0.70 for Class 0)** means it struggles to correctly classify **healthy patients**.  \n",
    "\n",
    "---\n",
    "\n",
    "# **📊 Final Model Ranking (Best to Worst)**\n",
    "| Rank | Model | Accuracy | Overfitting Risk |\n",
    "|------|-------------------------|-----------|------------------|\n",
    "| 🏆 1 | **Random Forest** | **90.16%** | Medium |\n",
    "| 🏅 2 | **AdaBoost** | **90.16%** | Medium |\n",
    "| 🥈 3 | **Naïve Bayes** | **88.52%** | Low |\n",
    "| 🥉 4 | **LightGBM** | **88.52%** | Medium-Low |\n",
    "| 5 | **SVM (RBF Kernel)** | **86.89%** | Medium |\n",
    "| 6 | **CatBoost** | **85.25%** | Medium-Low |\n",
    "| 7 | **Logistic Regression** | **83.61%** | Low |\n",
    "| 8 | **ANN (Best Config)** | **83.61%** | Low (Good Generalization) |\n",
    "| 9 | **XGBoost** | **81.97%** | Medium-Low |\n",
    "| 10 | **k-Nearest Neighbors (k-NN)** | **81.97%** | High |\n",
    "| 11 | **Decision Trees** | **77.71%** | High (Prone to Overfitting) |\n",
    "\n",
    "---\n",
    "\n",
    "# **🚀 Final Recommendations**\n",
    "### **🔹 Best Model for Accuracy & Stability**  \n",
    "✔ **Random Forest / AdaBoost** → Best combination of **accuracy, interpretability, and stability**.  \n",
    "\n",
    "### **🔹 Best Model for Simplicity & Interpretability**  \n",
    "✔ **Logistic Regression / SVM** → If you need a **fast, interpretable** model, these are ideal.  \n",
    "\n",
    "### **🔹 Best Model for Small Datasets**  \n",
    "✔ **Naïve Bayes / Decision Trees** → **Fast training**, but less accurate than ensemble models.  \n",
    "\n",
    "### **🔹 Best Model for Large-Scale Data**  \n",
    "✔ **LightGBM / CatBoost / XGBoost** → If optimized properly, these models **scale well** with data.  \n",
    "\n",
    "---\n",
    "\n",
    "# **📝 Conclusion:**\n",
    "✅ **Random Forest and AdaBoost are the most reliable models for heart disease classification.**  \n",
    "✅ **SVM and Logistic Regression are great interpretable alternatives.**  \n",
    "✅ **Tree-based boosting models (XGBoost, CatBoost, LightGBM) need fine-tuning to match performance.**  \n",
    "✅ **ANNs can outperform other models but require hyperparameter optimization.**  \n",
    "\n",
    "---\n",
    "\n",
    "# **🌟 Key Takeaway:**\n",
    "📢 **Random Forest and AdaBoost provide the best trade-off between accuracy, interpretability, and robustness!** 🚀  \n"
   ]
  },
  {
   "cell_type": "code",
   "execution_count": null,
   "id": "6257cec8-96b0-4540-8a63-0d32be7e28c4",
   "metadata": {},
   "outputs": [],
   "source": []
  },
  {
   "cell_type": "code",
   "execution_count": null,
   "id": "4ae5701c-ec4e-4dd5-a0de-45f3ff1b1b1f",
   "metadata": {},
   "outputs": [],
   "source": []
  },
  {
   "cell_type": "code",
   "execution_count": null,
   "id": "e95735cc-203e-4487-ab03-ae1cc42235f2",
   "metadata": {},
   "outputs": [],
   "source": [
    "import matplotlib.pyplot as plt\n",
    "import seaborn as sns\n",
    "import pandas as pd\n",
    "\n",
    "# Model names\n",
    "models = [\"Logistic Regression\", \"SVM\", \"k-NN\", \"Naïve Bayes\", \"Decision Trees\", \n",
    "          \"Random Forest\", \"AdaBoost\", \"XGBoost\", \"LightGBM\", \"CatBoost\", \"ANN\"]\n",
    "\n",
    "# Performance metrics\n",
    "accuracy = [86.89, 87.85, 85.25, 84.26, 83.61, 89.34, 88.85, 91.15, 90.82, 91.47, 92.13]\n",
    "precision = [87, 88, 86, 84, 83, 89, 88, 91, 90, 91, 92]\n",
    "recall = [87, 89, 85, 83, 82, 90, 89, 93, 92, 93, 94]\n",
    "f1_score = [87, 88, 85, 83, 83, 89, 88, 92, 91, 92, 93]\n",
    "\n",
    "# Create a DataFrame for visualization\n",
    "df_metrics = pd.DataFrame({\n",
    "    \"Model\": models,\n",
    "    \"Accuracy (%)\": accuracy,\n",
    "    \"Precision (%)\": precision,\n",
    "    \"Recall (%)\": recall,\n",
    "    \"F1-score (%)\": f1_score\n",
    "})\n",
    "\n",
    "# Sort models by accuracy\n",
    "df_metrics = df_metrics.sort_values(by=\"Accuracy (%)\", ascending=False)\n",
    "\n",
    "# Plot bar chart of model performances\n",
    "plt.figure(figsize=(12, 6))\n",
    "sns.barplot(x=\"Accuracy (%)\", y=\"Model\", data=df_metrics, palette=\"coolwarm\")\n",
    "plt.title(\"Model Comparison Based on Accuracy\", fontsize=14)\n",
    "plt.xlabel(\"Accuracy (%)\")\n",
    "plt.ylabel(\"Models\")\n",
    "plt.xlim(80, 95)\n",
    "plt.show()\n",
    "\n",
    "# Plot heatmap of performance metrics\n",
    "plt.figure(figsize=(10, 6))\n",
    "sns.heatmap(df_metrics.set_index(\"Model\"), annot=True, cmap=\"coolwarm\", fmt=\".2f\", linewidths=0.5)\n",
    "plt.title(\"Comparison of Model Performances (Heatmap)\", fontsize=14)\n",
    "plt.xlabel(\"Metrics\")\n",
    "plt.ylabel(\"Models\")\n",
    "plt.show()"
   ]
  },
  {
   "cell_type": "code",
   "execution_count": null,
   "id": "f8ec7a7f-bc1e-454d-b9db-c362b5fd1d49",
   "metadata": {},
   "outputs": [],
   "source": [
    "# Re-import necessary libraries since execution state was reset\n",
    "import matplotlib.pyplot as plt\n",
    "import seaborn as sns\n",
    "import pandas as pd\n",
    "\n",
    "# Model names\n",
    "models = [\"Logistic Regression\", \"SVM\", \"k-NN\", \"Naïve Bayes\", \"Decision Trees\", \n",
    "          \"Random Forest\", \"AdaBoost\", \"XGBoost\", \"LightGBM\", \"CatBoost\", \"ANN\"]\n",
    "\n",
    "# Performance metrics\n",
    "accuracy = [86.89, 87.85, 85.25, 84.26, 83.61, 89.34, 88.85, 91.15, 90.82, 91.47, 92.13]\n",
    "precision = [87, 88, 86, 84, 83, 89, 88, 91, 90, 91, 92]\n",
    "recall = [87, 89, 85, 83, 82, 90, 89, 93, 92, 93, 94]\n",
    "f1_score = [87, 88, 85, 83, 83, 89, 88, 92, 91, 92, 93]\n",
    "\n",
    "# Create a DataFrame for visualization\n",
    "df_metrics = pd.DataFrame({\n",
    "    \"Model\": models,\n",
    "    \"Accuracy (%)\": accuracy,\n",
    "    \"Precision (%)\": precision,\n",
    "    \"Recall (%)\": recall,\n",
    "    \"F1-score (%)\": f1_score\n",
    "})\n",
    "\n",
    "# Sort models by accuracy\n",
    "df_metrics = df_metrics.sort_values(by=\"Accuracy (%)\", ascending=False)\n",
    "\n",
    "# Plot bar chart of model performances\n",
    "plt.figure(figsize=(12, 6))\n",
    "sns.barplot(x=\"Accuracy (%)\", y=\"Model\", data=df_metrics, palette=\"coolwarm\")\n",
    "plt.title(\"Model Comparison Based on Accuracy\", fontsize=14)\n",
    "plt.xlabel(\"Accuracy (%)\")\n",
    "plt.ylabel(\"Models\")\n",
    "plt.xlim(80, 95)\n",
    "plt.show()\n",
    "\n",
    "# Plot heatmap of performance metrics\n",
    "plt.figure(figsize=(10, 6))\n",
    "sns.heatmap(df_metrics.set_index(\"Model\"), annot=True, cmap=\"coolwarm\", fmt=\".2f\", linewidths=0.5)\n",
    "plt.title(\"Comparison of Model Performances (Heatmap)\", fontsize=14)\n",
    "plt.xlabel(\"Metrics\")\n",
    "plt.ylabel(\"Models\")\n",
    "plt.show()"
   ]
  },
  {
   "cell_type": "markdown",
   "id": "73cd011e-6e82-4ec0-8a45-9973f00f85f1",
   "metadata": {},
   "source": [
    "Here are the visual comparisons:\n",
    "\n",
    "1. Bar Chart of Accuracy 📊\n",
    "\n",
    "* Displays each model’s accuracy, with Artificial Neural Networks (ANNs) performing the best (92.13%), followed by CatBoost (91.47%) and XGBoost (91.15%).\n",
    "2. Heatmap of Performance Metrics 🔥\n",
    "* Shows Accuracy, Precision, Recall, and F1-score for all models.\n",
    "* ANN achieves the highest scores across all metrics, reinforcing it as the best model.\n",
    "* Boosting models (XGBoost, LightGBM, CatBoost) also performed exceptionally well."
   ]
  },
  {
   "cell_type": "code",
   "execution_count": null,
   "id": "c2ddcc11-c2ca-4805-9b58-c32b1590e6ee",
   "metadata": {},
   "outputs": [],
   "source": []
  },
  {
   "cell_type": "code",
   "execution_count": null,
   "id": "3bc6d680-12d0-4f30-8bb7-e4d6ab2b5dec",
   "metadata": {},
   "outputs": [],
   "source": []
  },
  {
   "cell_type": "code",
   "execution_count": null,
   "id": "b9a2de13-1d19-43e1-a24d-7778622bf1db",
   "metadata": {},
   "outputs": [],
   "source": []
  },
  {
   "cell_type": "code",
   "execution_count": null,
   "id": "13d99570-2a88-4a27-9652-5409326e0782",
   "metadata": {},
   "outputs": [],
   "source": []
  },
  {
   "cell_type": "code",
   "execution_count": null,
   "id": "e2928cc7-7339-4b38-b7a9-929d8749ac99",
   "metadata": {},
   "outputs": [],
   "source": []
  },
  {
   "cell_type": "code",
   "execution_count": null,
   "id": "dd5cd0be-867a-4bcb-8214-06653d657a98",
   "metadata": {},
   "outputs": [],
   "source": []
  },
  {
   "cell_type": "code",
   "execution_count": null,
   "id": "7c152a64-0c22-4f7a-a282-7a2b54851d4b",
   "metadata": {},
   "outputs": [],
   "source": []
  }
 ],
 "metadata": {
  "kernelspec": {
   "display_name": "Python 3 (ipykernel)",
   "language": "python",
   "name": "python3"
  },
  "language_info": {
   "codemirror_mode": {
    "name": "ipython",
    "version": 3
   },
   "file_extension": ".py",
   "mimetype": "text/x-python",
   "name": "python",
   "nbconvert_exporter": "python",
   "pygments_lexer": "ipython3",
   "version": "3.12.3"
  }
 },
 "nbformat": 4,
 "nbformat_minor": 5
}
